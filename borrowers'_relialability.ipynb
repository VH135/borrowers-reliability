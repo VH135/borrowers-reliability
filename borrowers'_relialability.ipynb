{
 "cells": [
  {
   "cell_type": "markdown",
   "id": "fb4aae00",
   "metadata": {
    "toc": true
   },
   "source": [
    "<h1>Оглавление<span class=\"tocSkip\"></span></h1>\n",
    "<div class=\"toc\"><ul class=\"toc-item\"><li><span><a href=\"#Описание-проекта:\" data-toc-modified-id=\"Описание-проекта:-1\"><span class=\"toc-item-num\">1&nbsp;&nbsp;</span>Описание проекта:</a></span><ul class=\"toc-item\"><li><span><a href=\"#Обзор-данных\" data-toc-modified-id=\"Обзор-данных-1.1\"><span class=\"toc-item-num\">1.1&nbsp;&nbsp;</span>Обзор данных</a></span></li><li><span><a href=\"#Заполнение-пропусков\" data-toc-modified-id=\"Заполнение-пропусков-1.2\"><span class=\"toc-item-num\">1.2&nbsp;&nbsp;</span>Заполнение пропусков</a></span></li><li><span><a href=\"#Проверка-данных-на-аномалии-и-исправления.\" data-toc-modified-id=\"Проверка-данных-на-аномалии-и-исправления.-1.3\"><span class=\"toc-item-num\">1.3&nbsp;&nbsp;</span>Проверка данных на аномалии и исправления.</a></span></li><li><span><a href=\"#Изменение-типов-данных.\" data-toc-modified-id=\"Изменение-типов-данных.-1.4\"><span class=\"toc-item-num\">1.4&nbsp;&nbsp;</span>Изменение типов данных.</a></span></li><li><span><a href=\"#Удаление-дубликатов.\" data-toc-modified-id=\"Удаление-дубликатов.-1.5\"><span class=\"toc-item-num\">1.5&nbsp;&nbsp;</span>Удаление дубликатов.</a></span></li><li><span><a href=\"#Формирование-дополнительных-датафреймов-словарей,-декомпозиция-исходного-датафрейма.\" data-toc-modified-id=\"Формирование-дополнительных-датафреймов-словарей,-декомпозиция-исходного-датафрейма.-1.6\"><span class=\"toc-item-num\">1.6&nbsp;&nbsp;</span>Формирование дополнительных датафреймов словарей, декомпозиция исходного датафрейма.</a></span></li><li><span><a href=\"#Категоризация-дохода.\" data-toc-modified-id=\"Категоризация-дохода.-1.7\"><span class=\"toc-item-num\">1.7&nbsp;&nbsp;</span>Категоризация дохода.</a></span></li><li><span><a href=\"#Категоризация-целей-кредита.\" data-toc-modified-id=\"Категоризация-целей-кредита.-1.8\"><span class=\"toc-item-num\">1.8&nbsp;&nbsp;</span>Категоризация целей кредита.</a></span></li><li><span><a href=\"#Ответы-на-вопросы.\" data-toc-modified-id=\"Ответы-на-вопросы.-1.9\"><span class=\"toc-item-num\">1.9&nbsp;&nbsp;</span>Ответы на вопросы.</a></span><ul class=\"toc-item\"><li><span><a href=\"#Вопрос-1:-Есть-ли-зависимость-между-количеством-детей-и-возвратом-кредита-в-срок?\" data-toc-modified-id=\"Вопрос-1:-Есть-ли-зависимость-между-количеством-детей-и-возвратом-кредита-в-срок?-1.9.1\"><span class=\"toc-item-num\">1.9.1&nbsp;&nbsp;</span>Вопрос 1: Есть ли зависимость между количеством детей и возвратом кредита в срок?</a></span></li><li><span><a href=\"#Вывод-1:\" data-toc-modified-id=\"Вывод-1:-1.9.2\"><span class=\"toc-item-num\">1.9.2&nbsp;&nbsp;</span>Вывод 1:</a></span></li><li><span><a href=\"#Вопрос-2:-Есть-ли-зависимость-между-семейным-положением-и-возвратом-кредита-в-срок?\" data-toc-modified-id=\"Вопрос-2:-Есть-ли-зависимость-между-семейным-положением-и-возвратом-кредита-в-срок?-1.9.3\"><span class=\"toc-item-num\">1.9.3&nbsp;&nbsp;</span>Вопрос 2: Есть ли зависимость между семейным положением и возвратом кредита в срок?</a></span></li><li><span><a href=\"#Вывод-2:\" data-toc-modified-id=\"Вывод-2:-1.9.4\"><span class=\"toc-item-num\">1.9.4&nbsp;&nbsp;</span>Вывод 2:</a></span></li><li><span><a href=\"#Вопрос-3:-Есть-ли-зависимость-между-уровнем-дохода-и-возвратом-кредита-в-срок?\" data-toc-modified-id=\"Вопрос-3:-Есть-ли-зависимость-между-уровнем-дохода-и-возвратом-кредита-в-срок?-1.9.5\"><span class=\"toc-item-num\">1.9.5&nbsp;&nbsp;</span>Вопрос 3: Есть ли зависимость между уровнем дохода и возвратом кредита в срок?</a></span></li><li><span><a href=\"#Вывод-3:\" data-toc-modified-id=\"Вывод-3:-1.9.6\"><span class=\"toc-item-num\">1.9.6&nbsp;&nbsp;</span>Вывод 3:</a></span></li><li><span><a href=\"#Вопрос-4:-Как-разные-цели-кредита-влияют-на-его-возврат-в-срок?\" data-toc-modified-id=\"Вопрос-4:-Как-разные-цели-кредита-влияют-на-его-возврат-в-срок?-1.9.7\"><span class=\"toc-item-num\">1.9.7&nbsp;&nbsp;</span>Вопрос 4: Как разные цели кредита влияют на его возврат в срок?</a></span></li><li><span><a href=\"#Вывод-4:\" data-toc-modified-id=\"Вывод-4:-1.9.8\"><span class=\"toc-item-num\">1.9.8&nbsp;&nbsp;</span>Вывод 4:</a></span></li></ul></li></ul></li><li><span><a href=\"#Общий-вывод:\" data-toc-modified-id=\"Общий-вывод:-2\"><span class=\"toc-item-num\">2&nbsp;&nbsp;</span>Общий вывод:</a></span></li></ul></div>"
   ]
  },
  {
   "cell_type": "markdown",
   "id": "b27b78ca",
   "metadata": {},
   "source": [
    "# Исследование надежности заемщиков"
   ]
  },
  {
   "cell_type": "markdown",
   "id": "3822d0bb",
   "metadata": {},
   "source": [
    "## Описание проекта:"
   ]
  },
  {
   "cell_type": "markdown",
   "id": "1f3617ca",
   "metadata": {},
   "source": [
    "Заказчик — кредитный отдел банка. Нужно разобраться, *влияет ли семейное положение и количество детей клиента на факт погашения кредита в срок.*\n",
    "\n",
    "Результаты исследования будут учтены при построении модели кредитного скоринга — специальной системы, которая оценивает способность потенциального заёмщика вернуть кредит банку.\n",
    "\n",
    "Входные данные от банка — статистика о платёжеспособности клиентов. Представлена базой данных в формате csv."
   ]
  },
  {
   "cell_type": "markdown",
   "id": "f8eacd7e",
   "metadata": {},
   "source": [
    "Вводные данные:\n",
    "\n",
    "* children — количество детей в семье\n",
    "* days_employed — общий трудовой стаж в днях\n",
    "* dob_years — возраст клиента в годах\n",
    "* education — уровень образования клиента\n",
    "* education_id — идентификатор уровня образования\n",
    "* family_status — семейное положение\n",
    "* family_status_id — идентификатор семейного положения\n",
    "* gender — пол клиента\n",
    "* income_type — тип занятости\n",
    "* debt — имел ли задолженность по возврату кредитов\n",
    "* total_income — ежемесячный доход\n",
    "* purpose — цель получения кредита"
   ]
  },
  {
   "cell_type": "markdown",
   "id": "44b7639a",
   "metadata": {},
   "source": [
    "Краткий план работы:\n",
    "* Загрузка, знакомство с данными;\n",
    "* Поиск, исправление артефактов, пропусков, всего, что может помешать работе;\n",
    "* Создание новых столбцов, датафреймов при необходимости;\n",
    "* Анализ данных, подсчёт неоходимых значений;\n",
    "* Ответы и рекомендации на поставленные вопросы."
   ]
  },
  {
   "cell_type": "markdown",
   "id": "fd1c6519",
   "metadata": {},
   "source": [
    "### Обзор данных"
   ]
  },
  {
   "cell_type": "code",
   "execution_count": 1,
   "id": "51a41e45",
   "metadata": {},
   "outputs": [],
   "source": [
    "# импортируем pandas и сохраняем в переменную pd\n",
    "\n",
    "import pandas as pd\n",
    "\n",
    "# читаем и сохраняем датасет в переменную data\n",
    "\n",
    "data = pd.read_csv('/datasets/data.csv')"
   ]
  },
  {
   "cell_type": "code",
   "execution_count": 2,
   "id": "3568061c",
   "metadata": {
    "scrolled": true
   },
   "outputs": [
    {
     "name": "stdout",
     "output_type": "stream",
     "text": [
      "<class 'pandas.core.frame.DataFrame'>\n",
      "RangeIndex: 21525 entries, 0 to 21524\n",
      "Data columns (total 12 columns):\n",
      "children            21525 non-null int64\n",
      "days_employed       19351 non-null float64\n",
      "dob_years           21525 non-null int64\n",
      "education           21525 non-null object\n",
      "education_id        21525 non-null int64\n",
      "family_status       21525 non-null object\n",
      "family_status_id    21525 non-null int64\n",
      "gender              21525 non-null object\n",
      "income_type         21525 non-null object\n",
      "debt                21525 non-null int64\n",
      "total_income        19351 non-null float64\n",
      "purpose             21525 non-null object\n",
      "dtypes: float64(2), int64(5), object(5)\n",
      "memory usage: 2.0+ MB\n"
     ]
    }
   ],
   "source": [
    "# смотрим общую инфрмацию о наборе данных\n",
    "\n",
    "data.info()"
   ]
  },
  {
   "cell_type": "markdown",
   "id": "8ec875ff",
   "metadata": {},
   "source": [
    "**Что можно сказать:**\n",
    "* В датасете более 21к строк, 12 колонок;\n",
    "* Количество значений в столбцах различное, значит, в данных есть пропуски;\n",
    "* Названия колонок записаны правильно, в 'змеином' регистре и латиницей, переименования не требуют;\n",
    "* Данные трёх типов - int (целые числа), float64 (дробные) и object."
   ]
  },
  {
   "cell_type": "code",
   "execution_count": 3,
   "id": "b9dacec7",
   "metadata": {
    "scrolled": false
   },
   "outputs": [
    {
     "data": {
      "text/html": [
       "<div>\n",
       "<style scoped>\n",
       "    .dataframe tbody tr th:only-of-type {\n",
       "        vertical-align: middle;\n",
       "    }\n",
       "\n",
       "    .dataframe tbody tr th {\n",
       "        vertical-align: top;\n",
       "    }\n",
       "\n",
       "    .dataframe thead th {\n",
       "        text-align: right;\n",
       "    }\n",
       "</style>\n",
       "<table border=\"1\" class=\"dataframe\">\n",
       "  <thead>\n",
       "    <tr style=\"text-align: right;\">\n",
       "      <th></th>\n",
       "      <th>children</th>\n",
       "      <th>days_employed</th>\n",
       "      <th>dob_years</th>\n",
       "      <th>education</th>\n",
       "      <th>education_id</th>\n",
       "      <th>family_status</th>\n",
       "      <th>family_status_id</th>\n",
       "      <th>gender</th>\n",
       "      <th>income_type</th>\n",
       "      <th>debt</th>\n",
       "      <th>total_income</th>\n",
       "      <th>purpose</th>\n",
       "    </tr>\n",
       "  </thead>\n",
       "  <tbody>\n",
       "    <tr>\n",
       "      <td>15362</td>\n",
       "      <td>2</td>\n",
       "      <td>-1824.041287</td>\n",
       "      <td>49</td>\n",
       "      <td>среднее</td>\n",
       "      <td>1</td>\n",
       "      <td>женат / замужем</td>\n",
       "      <td>0</td>\n",
       "      <td>M</td>\n",
       "      <td>сотрудник</td>\n",
       "      <td>1</td>\n",
       "      <td>165333.040217</td>\n",
       "      <td>покупка своего жилья</td>\n",
       "    </tr>\n",
       "    <tr>\n",
       "      <td>6372</td>\n",
       "      <td>1</td>\n",
       "      <td>-3310.326411</td>\n",
       "      <td>30</td>\n",
       "      <td>среднее</td>\n",
       "      <td>1</td>\n",
       "      <td>Не женат / не замужем</td>\n",
       "      <td>4</td>\n",
       "      <td>M</td>\n",
       "      <td>сотрудник</td>\n",
       "      <td>0</td>\n",
       "      <td>97784.252127</td>\n",
       "      <td>покупка жилья для семьи</td>\n",
       "    </tr>\n",
       "    <tr>\n",
       "      <td>4055</td>\n",
       "      <td>0</td>\n",
       "      <td>376698.700304</td>\n",
       "      <td>58</td>\n",
       "      <td>высшее</td>\n",
       "      <td>0</td>\n",
       "      <td>женат / замужем</td>\n",
       "      <td>0</td>\n",
       "      <td>M</td>\n",
       "      <td>пенсионер</td>\n",
       "      <td>0</td>\n",
       "      <td>89527.697413</td>\n",
       "      <td>заняться образованием</td>\n",
       "    </tr>\n",
       "    <tr>\n",
       "      <td>14386</td>\n",
       "      <td>1</td>\n",
       "      <td>-134.673552</td>\n",
       "      <td>24</td>\n",
       "      <td>высшее</td>\n",
       "      <td>0</td>\n",
       "      <td>Не женат / не замужем</td>\n",
       "      <td>4</td>\n",
       "      <td>F</td>\n",
       "      <td>сотрудник</td>\n",
       "      <td>0</td>\n",
       "      <td>141162.928689</td>\n",
       "      <td>ремонт жилью</td>\n",
       "    </tr>\n",
       "    <tr>\n",
       "      <td>16433</td>\n",
       "      <td>0</td>\n",
       "      <td>-1757.138010</td>\n",
       "      <td>31</td>\n",
       "      <td>ВЫСШЕЕ</td>\n",
       "      <td>0</td>\n",
       "      <td>Не женат / не замужем</td>\n",
       "      <td>4</td>\n",
       "      <td>F</td>\n",
       "      <td>сотрудник</td>\n",
       "      <td>0</td>\n",
       "      <td>89745.765953</td>\n",
       "      <td>операции с коммерческой недвижимостью</td>\n",
       "    </tr>\n",
       "    <tr>\n",
       "      <td>1441</td>\n",
       "      <td>2</td>\n",
       "      <td>-1733.152597</td>\n",
       "      <td>37</td>\n",
       "      <td>среднее</td>\n",
       "      <td>1</td>\n",
       "      <td>женат / замужем</td>\n",
       "      <td>0</td>\n",
       "      <td>M</td>\n",
       "      <td>сотрудник</td>\n",
       "      <td>1</td>\n",
       "      <td>142943.692809</td>\n",
       "      <td>на покупку автомобиля</td>\n",
       "    </tr>\n",
       "    <tr>\n",
       "      <td>12915</td>\n",
       "      <td>2</td>\n",
       "      <td>-8247.122937</td>\n",
       "      <td>40</td>\n",
       "      <td>среднее</td>\n",
       "      <td>1</td>\n",
       "      <td>женат / замужем</td>\n",
       "      <td>0</td>\n",
       "      <td>M</td>\n",
       "      <td>сотрудник</td>\n",
       "      <td>0</td>\n",
       "      <td>238846.773088</td>\n",
       "      <td>дополнительное образование</td>\n",
       "    </tr>\n",
       "    <tr>\n",
       "      <td>361</td>\n",
       "      <td>0</td>\n",
       "      <td>NaN</td>\n",
       "      <td>59</td>\n",
       "      <td>среднее</td>\n",
       "      <td>1</td>\n",
       "      <td>вдовец / вдова</td>\n",
       "      <td>2</td>\n",
       "      <td>F</td>\n",
       "      <td>пенсионер</td>\n",
       "      <td>0</td>\n",
       "      <td>NaN</td>\n",
       "      <td>жилье</td>\n",
       "    </tr>\n",
       "    <tr>\n",
       "      <td>3714</td>\n",
       "      <td>0</td>\n",
       "      <td>-6521.032319</td>\n",
       "      <td>41</td>\n",
       "      <td>среднее</td>\n",
       "      <td>1</td>\n",
       "      <td>женат / замужем</td>\n",
       "      <td>0</td>\n",
       "      <td>F</td>\n",
       "      <td>сотрудник</td>\n",
       "      <td>0</td>\n",
       "      <td>101613.324602</td>\n",
       "      <td>автомобиль</td>\n",
       "    </tr>\n",
       "    <tr>\n",
       "      <td>17358</td>\n",
       "      <td>0</td>\n",
       "      <td>-4124.453571</td>\n",
       "      <td>29</td>\n",
       "      <td>высшее</td>\n",
       "      <td>0</td>\n",
       "      <td>Не женат / не замужем</td>\n",
       "      <td>4</td>\n",
       "      <td>F</td>\n",
       "      <td>сотрудник</td>\n",
       "      <td>0</td>\n",
       "      <td>373492.093720</td>\n",
       "      <td>покупка жилья для семьи</td>\n",
       "    </tr>\n",
       "  </tbody>\n",
       "</table>\n",
       "</div>"
      ],
      "text/plain": [
       "       children  days_employed  dob_years education  education_id  \\\n",
       "15362         2   -1824.041287         49   среднее             1   \n",
       "6372          1   -3310.326411         30   среднее             1   \n",
       "4055          0  376698.700304         58    высшее             0   \n",
       "14386         1    -134.673552         24    высшее             0   \n",
       "16433         0   -1757.138010         31    ВЫСШЕЕ             0   \n",
       "1441          2   -1733.152597         37   среднее             1   \n",
       "12915         2   -8247.122937         40   среднее             1   \n",
       "361           0            NaN         59   среднее             1   \n",
       "3714          0   -6521.032319         41   среднее             1   \n",
       "17358         0   -4124.453571         29    высшее             0   \n",
       "\n",
       "               family_status  family_status_id gender income_type  debt  \\\n",
       "15362        женат / замужем                 0      M   сотрудник     1   \n",
       "6372   Не женат / не замужем                 4      M   сотрудник     0   \n",
       "4055         женат / замужем                 0      M   пенсионер     0   \n",
       "14386  Не женат / не замужем                 4      F   сотрудник     0   \n",
       "16433  Не женат / не замужем                 4      F   сотрудник     0   \n",
       "1441         женат / замужем                 0      M   сотрудник     1   \n",
       "12915        женат / замужем                 0      M   сотрудник     0   \n",
       "361           вдовец / вдова                 2      F   пенсионер     0   \n",
       "3714         женат / замужем                 0      F   сотрудник     0   \n",
       "17358  Не женат / не замужем                 4      F   сотрудник     0   \n",
       "\n",
       "        total_income                                purpose  \n",
       "15362  165333.040217                   покупка своего жилья  \n",
       "6372    97784.252127                покупка жилья для семьи  \n",
       "4055    89527.697413                  заняться образованием  \n",
       "14386  141162.928689                           ремонт жилью  \n",
       "16433   89745.765953  операции с коммерческой недвижимостью  \n",
       "1441   142943.692809                  на покупку автомобиля  \n",
       "12915  238846.773088             дополнительное образование  \n",
       "361              NaN                                  жилье  \n",
       "3714   101613.324602                             автомобиль  \n",
       "17358  373492.093720                покупка жилья для семьи  "
      ]
     },
     "execution_count": 3,
     "metadata": {},
     "output_type": "execute_result"
    }
   ],
   "source": [
    "# методом sample делем первый взгляд на данные, для наглядности выводим 10 строк\n",
    "\n",
    "data.sample(10)"
   ]
  },
  {
   "cell_type": "markdown",
   "id": "f5012b45",
   "metadata": {},
   "source": [
    "**Стали очевидны следующие проблемы в данных:**\n",
    "* В колонке days_employed есть отрицательные значения; \n",
    "* В колоне education есть одинаковые значения, записанные разным регистром;\n",
    "* В колонке purpose есть неявные дубликаты, например \"покупка жилья\" и \"жилье\";\n",
    "* В таблице есть пропущенные значения."
   ]
  },
  {
   "cell_type": "code",
   "execution_count": 4,
   "id": "5192fc70",
   "metadata": {
    "scrolled": true
   },
   "outputs": [
    {
     "data": {
      "text/html": [
       "<div>\n",
       "<style scoped>\n",
       "    .dataframe tbody tr th:only-of-type {\n",
       "        vertical-align: middle;\n",
       "    }\n",
       "\n",
       "    .dataframe tbody tr th {\n",
       "        vertical-align: top;\n",
       "    }\n",
       "\n",
       "    .dataframe thead th {\n",
       "        text-align: right;\n",
       "    }\n",
       "</style>\n",
       "<table border=\"1\" class=\"dataframe\">\n",
       "  <thead>\n",
       "    <tr style=\"text-align: right;\">\n",
       "      <th></th>\n",
       "      <th>children</th>\n",
       "      <th>days_employed</th>\n",
       "      <th>dob_years</th>\n",
       "      <th>education_id</th>\n",
       "      <th>family_status_id</th>\n",
       "      <th>debt</th>\n",
       "      <th>total_income</th>\n",
       "    </tr>\n",
       "  </thead>\n",
       "  <tbody>\n",
       "    <tr>\n",
       "      <td>count</td>\n",
       "      <td>21525.000000</td>\n",
       "      <td>19351.000000</td>\n",
       "      <td>21525.000000</td>\n",
       "      <td>21525.000000</td>\n",
       "      <td>21525.000000</td>\n",
       "      <td>21525.000000</td>\n",
       "      <td>1.935100e+04</td>\n",
       "    </tr>\n",
       "    <tr>\n",
       "      <td>mean</td>\n",
       "      <td>0.538908</td>\n",
       "      <td>63046.497661</td>\n",
       "      <td>43.293380</td>\n",
       "      <td>0.817236</td>\n",
       "      <td>0.972544</td>\n",
       "      <td>0.080883</td>\n",
       "      <td>1.674223e+05</td>\n",
       "    </tr>\n",
       "    <tr>\n",
       "      <td>std</td>\n",
       "      <td>1.381587</td>\n",
       "      <td>140827.311974</td>\n",
       "      <td>12.574584</td>\n",
       "      <td>0.548138</td>\n",
       "      <td>1.420324</td>\n",
       "      <td>0.272661</td>\n",
       "      <td>1.029716e+05</td>\n",
       "    </tr>\n",
       "    <tr>\n",
       "      <td>min</td>\n",
       "      <td>-1.000000</td>\n",
       "      <td>-18388.949901</td>\n",
       "      <td>0.000000</td>\n",
       "      <td>0.000000</td>\n",
       "      <td>0.000000</td>\n",
       "      <td>0.000000</td>\n",
       "      <td>2.066726e+04</td>\n",
       "    </tr>\n",
       "    <tr>\n",
       "      <td>25%</td>\n",
       "      <td>0.000000</td>\n",
       "      <td>-2747.423625</td>\n",
       "      <td>33.000000</td>\n",
       "      <td>1.000000</td>\n",
       "      <td>0.000000</td>\n",
       "      <td>0.000000</td>\n",
       "      <td>1.030532e+05</td>\n",
       "    </tr>\n",
       "    <tr>\n",
       "      <td>50%</td>\n",
       "      <td>0.000000</td>\n",
       "      <td>-1203.369529</td>\n",
       "      <td>42.000000</td>\n",
       "      <td>1.000000</td>\n",
       "      <td>0.000000</td>\n",
       "      <td>0.000000</td>\n",
       "      <td>1.450179e+05</td>\n",
       "    </tr>\n",
       "    <tr>\n",
       "      <td>75%</td>\n",
       "      <td>1.000000</td>\n",
       "      <td>-291.095954</td>\n",
       "      <td>53.000000</td>\n",
       "      <td>1.000000</td>\n",
       "      <td>1.000000</td>\n",
       "      <td>0.000000</td>\n",
       "      <td>2.034351e+05</td>\n",
       "    </tr>\n",
       "    <tr>\n",
       "      <td>max</td>\n",
       "      <td>20.000000</td>\n",
       "      <td>401755.400475</td>\n",
       "      <td>75.000000</td>\n",
       "      <td>4.000000</td>\n",
       "      <td>4.000000</td>\n",
       "      <td>1.000000</td>\n",
       "      <td>2.265604e+06</td>\n",
       "    </tr>\n",
       "  </tbody>\n",
       "</table>\n",
       "</div>"
      ],
      "text/plain": [
       "           children  days_employed     dob_years  education_id  \\\n",
       "count  21525.000000   19351.000000  21525.000000  21525.000000   \n",
       "mean       0.538908   63046.497661     43.293380      0.817236   \n",
       "std        1.381587  140827.311974     12.574584      0.548138   \n",
       "min       -1.000000  -18388.949901      0.000000      0.000000   \n",
       "25%        0.000000   -2747.423625     33.000000      1.000000   \n",
       "50%        0.000000   -1203.369529     42.000000      1.000000   \n",
       "75%        1.000000    -291.095954     53.000000      1.000000   \n",
       "max       20.000000  401755.400475     75.000000      4.000000   \n",
       "\n",
       "       family_status_id          debt  total_income  \n",
       "count      21525.000000  21525.000000  1.935100e+04  \n",
       "mean           0.972544      0.080883  1.674223e+05  \n",
       "std            1.420324      0.272661  1.029716e+05  \n",
       "min            0.000000      0.000000  2.066726e+04  \n",
       "25%            0.000000      0.000000  1.030532e+05  \n",
       "50%            0.000000      0.000000  1.450179e+05  \n",
       "75%            1.000000      0.000000  2.034351e+05  \n",
       "max            4.000000      1.000000  2.265604e+06  "
      ]
     },
     "execution_count": 4,
     "metadata": {},
     "output_type": "execute_result"
    }
   ],
   "source": [
    "# использем метод describe() для получения статистических сведений о датафрейме\n",
    "\n",
    "data.describe()"
   ]
  },
  {
   "cell_type": "markdown",
   "id": "1d5753f5",
   "metadata": {},
   "source": [
    "Благодаря ему видно, что минимальное количество детей -1, а максимальное 20, что подозрительно. Минимальный возраст равен 0, кроме того, максимальное значение в колонке `days_employed` выглядит аномально."
   ]
  },
  {
   "cell_type": "markdown",
   "id": "4323703e",
   "metadata": {},
   "source": [
    "**Выводы**\n",
    "\n",
    "В каждом столбце таблицы - данные о клиентах банка. Одни колонки содержат числовые значения (возраст, размер дохода), остальные сообщают о семейном статусе, уровне образования и целях кредита.\n",
    "\n",
    "На первый взгляд, данных вполне достаточно для исследования, но встречаются пропуски, дубликаты и аномальные значения.\n",
    "\n",
    "Прежде чем приступить к иследованию, нужно устранить найденные проблемы в данных."
   ]
  },
  {
   "cell_type": "markdown",
   "id": "b19206b6",
   "metadata": {},
   "source": [
    "### Заполнение пропусков"
   ]
  },
  {
   "cell_type": "code",
   "execution_count": 5,
   "id": "3879b663",
   "metadata": {
    "scrolled": true
   },
   "outputs": [
    {
     "data": {
      "text/plain": [
       "children               0\n",
       "days_employed       2174\n",
       "dob_years              0\n",
       "education              0\n",
       "education_id           0\n",
       "family_status          0\n",
       "family_status_id       0\n",
       "gender                 0\n",
       "income_type            0\n",
       "debt                   0\n",
       "total_income        2174\n",
       "purpose                0\n",
       "dtype: int64"
      ]
     },
     "execution_count": 5,
     "metadata": {},
     "output_type": "execute_result"
    }
   ],
   "source": [
    "# считаем количество пропущенных значений методами isna() и sum()\n",
    "\n",
    "data.isna().sum()"
   ]
  },
  {
   "cell_type": "markdown",
   "id": "bd6be439",
   "metadata": {},
   "source": [
    "Пропущенные значения есть в двух столбцах - `days_employed` и `total_income`, общий трудовой стаж и ежемсячный доход соответственно. Это важные данные для исследования, поэтому наилучшим вариантом было бы установить причину и восстановить данные, но сейчас такой возможности нет."
   ]
  },
  {
   "cell_type": "code",
   "execution_count": 6,
   "id": "e7cb76f0",
   "metadata": {},
   "outputs": [
    {
     "data": {
      "text/plain": [
       "'Доля пропущенных значений: 10.1%'"
      ]
     },
     "execution_count": 6,
     "metadata": {},
     "output_type": "execute_result"
    }
   ],
   "source": [
    "# считаем долю пропущенных значений и выводим с помощью функции format()\n",
    "\n",
    "'Доля пропущенных значений: {:.1%}'.format((21525-19351)/21525)"
   ]
  },
  {
   "cell_type": "markdown",
   "id": "b53f0d4d",
   "metadata": {},
   "source": [
    "Доля 10%, это довольно много, значит, просто их удалить - неоптимальный вариант.\n",
    "\n",
    "Возможные причины появления пропусков в данных: ошибки при выгрузке, либо кленты не предоставили такой информации. \n",
    "\n",
    "Заполнить пропуски в этих столбцах лучше всего медианным значением, это будет лучшее решение для количественных переменных. Если же взять среднее значение, результат будет менее правдоподобен из-за влияния крайних значений (минимальных и максимальных)."
   ]
  },
  {
   "cell_type": "code",
   "execution_count": 7,
   "id": "d7e2bbac",
   "metadata": {},
   "outputs": [],
   "source": [
    "# находим медиану для столбца total_income и сохраняем в переменную\n",
    "\n",
    "# total_income_median = data['total_income'].median()\n",
    "# total_income_median"
   ]
  },
  {
   "cell_type": "code",
   "execution_count": 8,
   "id": "8beea56d",
   "metadata": {},
   "outputs": [
    {
     "data": {
      "text/plain": [
       "-1203.369528770489"
      ]
     },
     "execution_count": 8,
     "metadata": {},
     "output_type": "execute_result"
    }
   ],
   "source": [
    "# находим медиану для столбца days_employed и сохраняем в переменную\n",
    "\n",
    "days_employed_median = data['days_employed'].median()\n",
    "days_employed_median"
   ]
  },
  {
   "cell_type": "markdown",
   "id": "e9f09337",
   "metadata": {},
   "source": [
    "В инструкции по выполнению проекта сначала указано заполнение пропусков, а уже потом исправление отрицательных значений. Логичнее это было бы сделать в обратном порядке, но в этом проекте это не критично, столбец со стажем для исследования не понадобится, поэтому просто привожу его к положительным значениям."
   ]
  },
  {
   "cell_type": "code",
   "execution_count": 9,
   "id": "2e3e94bf",
   "metadata": {},
   "outputs": [],
   "source": [
    "# заполняем пропуски в двух столбцах полученными значениями медиан с помощью цикла for\n",
    "\n",
    "columns_to_replace = ['days_employed']\n",
    "for columns in columns_to_replace:\n",
    "    data['days_employed'] = data['days_employed'].fillna(days_employed_median)\n",
    "    # data['total_income'] = data['total_income'].fillna(total_income_median)"
   ]
  },
  {
   "cell_type": "code",
   "execution_count": 10,
   "id": "3e1a3b7c",
   "metadata": {
    "scrolled": true
   },
   "outputs": [
    {
     "data": {
      "text/plain": [
       "children               0\n",
       "days_employed          0\n",
       "dob_years              0\n",
       "education              0\n",
       "education_id           0\n",
       "family_status          0\n",
       "family_status_id       0\n",
       "gender                 0\n",
       "income_type            0\n",
       "debt                   0\n",
       "total_income        2174\n",
       "purpose                0\n",
       "dtype: int64"
      ]
     },
     "execution_count": 10,
     "metadata": {},
     "output_type": "execute_result"
    }
   ],
   "source": [
    "# проверяем методами isna() и sum() количество пропусков после замены\n",
    "\n",
    "data.isna().sum()"
   ]
  },
  {
   "cell_type": "markdown",
   "id": "ea321472",
   "metadata": {},
   "source": [
    "Задача выполнена, пропуски в колонке `days_employed` устранены."
   ]
  },
  {
   "cell_type": "code",
   "execution_count": 11,
   "id": "828c8789",
   "metadata": {
    "scrolled": true
   },
   "outputs": [
    {
     "data": {
      "text/plain": [
       "сотрудник          11119\n",
       "компаньон           5085\n",
       "пенсионер           3856\n",
       "госслужащий         1459\n",
       "безработный            2\n",
       "предприниматель        2\n",
       "студент                1\n",
       "в декрете              1\n",
       "Name: income_type, dtype: int64"
      ]
     },
     "execution_count": 11,
     "metadata": {},
     "output_type": "execute_result"
    }
   ],
   "source": [
    "# посмотрим, какие у нас есть профессии и как они распределены\n",
    "\n",
    "data['income_type'].value_counts()"
   ]
  },
  {
   "cell_type": "code",
   "execution_count": 12,
   "id": "44d6147d",
   "metadata": {
    "scrolled": true
   },
   "outputs": [
    {
     "data": {
      "text/plain": [
       "income_type\n",
       "предприниматель    499163.144947\n",
       "компаньон          172357.950966\n",
       "госслужащий        150447.935283\n",
       "сотрудник          142594.396847\n",
       "безработный        131339.751676\n",
       "пенсионер          118514.486412\n",
       "студент             98201.625314\n",
       "в декрете           53829.130729\n",
       "Name: total_income, dtype: float64"
      ]
     },
     "execution_count": 12,
     "metadata": {},
     "output_type": "execute_result"
    }
   ],
   "source": [
    "# вычисляем медиану по профессиям\n",
    "\n",
    "data.groupby('income_type')['total_income'].median().sort_values(ascending=False)"
   ]
  },
  {
   "cell_type": "markdown",
   "id": "28fd06a1",
   "metadata": {},
   "source": [
    "Вот это да, выходит, у нас пенсионеры беднее безработных :( Ну ладно, это они официально безработные, там может и три неофициальные работы быть."
   ]
  },
  {
   "cell_type": "code",
   "execution_count": 13,
   "id": "492c9add",
   "metadata": {
    "scrolled": false
   },
   "outputs": [
    {
     "data": {
      "text/plain": [
       "children            0\n",
       "days_employed       0\n",
       "dob_years           0\n",
       "education           0\n",
       "education_id        0\n",
       "family_status       0\n",
       "family_status_id    0\n",
       "gender              0\n",
       "income_type         0\n",
       "debt                0\n",
       "total_income        0\n",
       "purpose             0\n",
       "dtype: int64"
      ]
     },
     "execution_count": 13,
     "metadata": {},
     "output_type": "execute_result"
    }
   ],
   "source": [
    "# пишем функцию, которая будет возвращать медиану по профессии, если обнаруживает NaN\n",
    "\n",
    "def fill_median(row):\n",
    "    income_type = row['income_type']\n",
    "    total_income = row['total_income']\n",
    "    if pd.isnull(total_income):\n",
    "        return median[income_type]\n",
    "    return total_income\n",
    "\n",
    "median = data.groupby(\"income_type\")[\"total_income\"].median()\n",
    "\n",
    "data['total_income'] = data.apply(fill_median, axis=1)\n",
    "\n",
    "# прверяем наличие пропусков\n",
    "\n",
    "data.isna().sum()"
   ]
  },
  {
   "cell_type": "code",
   "execution_count": 14,
   "id": "0ce8b529",
   "metadata": {},
   "outputs": [
    {
     "data": {
      "text/html": [
       "<div>\n",
       "<style scoped>\n",
       "    .dataframe tbody tr th:only-of-type {\n",
       "        vertical-align: middle;\n",
       "    }\n",
       "\n",
       "    .dataframe tbody tr th {\n",
       "        vertical-align: top;\n",
       "    }\n",
       "\n",
       "    .dataframe thead th {\n",
       "        text-align: right;\n",
       "    }\n",
       "</style>\n",
       "<table border=\"1\" class=\"dataframe\">\n",
       "  <thead>\n",
       "    <tr style=\"text-align: right;\">\n",
       "      <th></th>\n",
       "      <th>total_income</th>\n",
       "      <th>income_type</th>\n",
       "    </tr>\n",
       "  </thead>\n",
       "  <tbody>\n",
       "    <tr>\n",
       "      <td>12</td>\n",
       "      <td>118514.486412</td>\n",
       "      <td>пенсионер</td>\n",
       "    </tr>\n",
       "    <tr>\n",
       "      <td>26</td>\n",
       "      <td>150447.935283</td>\n",
       "      <td>госслужащий</td>\n",
       "    </tr>\n",
       "    <tr>\n",
       "      <td>65</td>\n",
       "      <td>172357.950966</td>\n",
       "      <td>компаньон</td>\n",
       "    </tr>\n",
       "    <tr>\n",
       "      <td>82</td>\n",
       "      <td>142594.396847</td>\n",
       "      <td>сотрудник</td>\n",
       "    </tr>\n",
       "  </tbody>\n",
       "</table>\n",
       "</div>"
      ],
      "text/plain": [
       "     total_income  income_type\n",
       "12  118514.486412    пенсионер\n",
       "26  150447.935283  госслужащий\n",
       "65  172357.950966    компаньон\n",
       "82  142594.396847    сотрудник"
      ]
     },
     "execution_count": 14,
     "metadata": {},
     "output_type": "execute_result"
    }
   ],
   "source": [
    "# интересно, а как проверить в этом случае, что замена произошла правильными значениями медианы? Видимо, только точечно\n",
    "\n",
    "data.loc[[12, 26, 65, 82], ['total_income', 'income_type']]"
   ]
  },
  {
   "cell_type": "markdown",
   "id": "3d341a98",
   "metadata": {},
   "source": [
    "В этих строках были пропущенные значения, сравниваем их с медианами, всё верно. Все пропуски в данных устранены."
   ]
  },
  {
   "cell_type": "markdown",
   "id": "6b271f89",
   "metadata": {},
   "source": [
    "### Проверка данных на аномалии и исправления."
   ]
  },
  {
   "cell_type": "code",
   "execution_count": 15,
   "id": "66fe163c",
   "metadata": {},
   "outputs": [],
   "source": [
    "# исправляем отрицательные значения в столбце со стажем\n",
    "\n",
    "def minus_to_plus(value):\n",
    "    if value < 0:\n",
    "        value *= -1\n",
    "        return value\n",
    "    else:\n",
    "        return value\n",
    "\n",
    "data['days_employed'] = data['days_employed'].apply(minus_to_plus)"
   ]
  },
  {
   "cell_type": "code",
   "execution_count": 16,
   "id": "84b806df",
   "metadata": {
    "scrolled": false
   },
   "outputs": [
    {
     "data": {
      "text/html": [
       "<div>\n",
       "<style scoped>\n",
       "    .dataframe tbody tr th:only-of-type {\n",
       "        vertical-align: middle;\n",
       "    }\n",
       "\n",
       "    .dataframe tbody tr th {\n",
       "        vertical-align: top;\n",
       "    }\n",
       "\n",
       "    .dataframe thead th {\n",
       "        text-align: right;\n",
       "    }\n",
       "</style>\n",
       "<table border=\"1\" class=\"dataframe\">\n",
       "  <thead>\n",
       "    <tr style=\"text-align: right;\">\n",
       "      <th></th>\n",
       "      <th>children</th>\n",
       "      <th>days_employed</th>\n",
       "      <th>dob_years</th>\n",
       "      <th>education</th>\n",
       "      <th>education_id</th>\n",
       "      <th>family_status</th>\n",
       "      <th>family_status_id</th>\n",
       "      <th>gender</th>\n",
       "      <th>income_type</th>\n",
       "      <th>debt</th>\n",
       "      <th>total_income</th>\n",
       "      <th>purpose</th>\n",
       "    </tr>\n",
       "  </thead>\n",
       "  <tbody>\n",
       "    <tr>\n",
       "      <td>21075</td>\n",
       "      <td>0</td>\n",
       "      <td>393331.500537</td>\n",
       "      <td>60</td>\n",
       "      <td>Среднее</td>\n",
       "      <td>1</td>\n",
       "      <td>женат / замужем</td>\n",
       "      <td>0</td>\n",
       "      <td>M</td>\n",
       "      <td>пенсионер</td>\n",
       "      <td>0</td>\n",
       "      <td>82652.123982</td>\n",
       "      <td>автомобили</td>\n",
       "    </tr>\n",
       "    <tr>\n",
       "      <td>19025</td>\n",
       "      <td>0</td>\n",
       "      <td>3340.554906</td>\n",
       "      <td>52</td>\n",
       "      <td>среднее</td>\n",
       "      <td>1</td>\n",
       "      <td>женат / замужем</td>\n",
       "      <td>0</td>\n",
       "      <td>F</td>\n",
       "      <td>сотрудник</td>\n",
       "      <td>0</td>\n",
       "      <td>69460.208101</td>\n",
       "      <td>строительство собственной недвижимости</td>\n",
       "    </tr>\n",
       "    <tr>\n",
       "      <td>19933</td>\n",
       "      <td>0</td>\n",
       "      <td>1489.081069</td>\n",
       "      <td>35</td>\n",
       "      <td>среднее</td>\n",
       "      <td>1</td>\n",
       "      <td>женат / замужем</td>\n",
       "      <td>0</td>\n",
       "      <td>M</td>\n",
       "      <td>сотрудник</td>\n",
       "      <td>0</td>\n",
       "      <td>127424.437254</td>\n",
       "      <td>высшее образование</td>\n",
       "    </tr>\n",
       "    <tr>\n",
       "      <td>21209</td>\n",
       "      <td>2</td>\n",
       "      <td>186.172325</td>\n",
       "      <td>37</td>\n",
       "      <td>высшее</td>\n",
       "      <td>0</td>\n",
       "      <td>женат / замужем</td>\n",
       "      <td>0</td>\n",
       "      <td>F</td>\n",
       "      <td>сотрудник</td>\n",
       "      <td>0</td>\n",
       "      <td>132810.416208</td>\n",
       "      <td>заняться образованием</td>\n",
       "    </tr>\n",
       "    <tr>\n",
       "      <td>9640</td>\n",
       "      <td>0</td>\n",
       "      <td>335986.594409</td>\n",
       "      <td>70</td>\n",
       "      <td>среднее</td>\n",
       "      <td>1</td>\n",
       "      <td>вдовец / вдова</td>\n",
       "      <td>2</td>\n",
       "      <td>F</td>\n",
       "      <td>пенсионер</td>\n",
       "      <td>0</td>\n",
       "      <td>100593.574574</td>\n",
       "      <td>сделка с автомобилем</td>\n",
       "    </tr>\n",
       "    <tr>\n",
       "      <td>17968</td>\n",
       "      <td>0</td>\n",
       "      <td>1779.070910</td>\n",
       "      <td>28</td>\n",
       "      <td>среднее</td>\n",
       "      <td>1</td>\n",
       "      <td>гражданский брак</td>\n",
       "      <td>1</td>\n",
       "      <td>M</td>\n",
       "      <td>сотрудник</td>\n",
       "      <td>0</td>\n",
       "      <td>150475.939507</td>\n",
       "      <td>свадьба</td>\n",
       "    </tr>\n",
       "    <tr>\n",
       "      <td>553</td>\n",
       "      <td>1</td>\n",
       "      <td>1399.832622</td>\n",
       "      <td>40</td>\n",
       "      <td>среднее</td>\n",
       "      <td>1</td>\n",
       "      <td>женат / замужем</td>\n",
       "      <td>0</td>\n",
       "      <td>M</td>\n",
       "      <td>сотрудник</td>\n",
       "      <td>0</td>\n",
       "      <td>181903.015429</td>\n",
       "      <td>покупка жилой недвижимости</td>\n",
       "    </tr>\n",
       "    <tr>\n",
       "      <td>3015</td>\n",
       "      <td>0</td>\n",
       "      <td>1592.663331</td>\n",
       "      <td>34</td>\n",
       "      <td>среднее</td>\n",
       "      <td>1</td>\n",
       "      <td>гражданский брак</td>\n",
       "      <td>1</td>\n",
       "      <td>F</td>\n",
       "      <td>сотрудник</td>\n",
       "      <td>0</td>\n",
       "      <td>195355.965026</td>\n",
       "      <td>на проведение свадьбы</td>\n",
       "    </tr>\n",
       "    <tr>\n",
       "      <td>2036</td>\n",
       "      <td>0</td>\n",
       "      <td>192.684476</td>\n",
       "      <td>52</td>\n",
       "      <td>среднее</td>\n",
       "      <td>1</td>\n",
       "      <td>женат / замужем</td>\n",
       "      <td>0</td>\n",
       "      <td>M</td>\n",
       "      <td>сотрудник</td>\n",
       "      <td>0</td>\n",
       "      <td>203290.084211</td>\n",
       "      <td>дополнительное образование</td>\n",
       "    </tr>\n",
       "    <tr>\n",
       "      <td>8684</td>\n",
       "      <td>0</td>\n",
       "      <td>364736.495833</td>\n",
       "      <td>63</td>\n",
       "      <td>среднее</td>\n",
       "      <td>1</td>\n",
       "      <td>вдовец / вдова</td>\n",
       "      <td>2</td>\n",
       "      <td>F</td>\n",
       "      <td>пенсионер</td>\n",
       "      <td>0</td>\n",
       "      <td>223383.425957</td>\n",
       "      <td>получение образования</td>\n",
       "    </tr>\n",
       "  </tbody>\n",
       "</table>\n",
       "</div>"
      ],
      "text/plain": [
       "       children  days_employed  dob_years education  education_id  \\\n",
       "21075         0  393331.500537         60   Среднее             1   \n",
       "19025         0    3340.554906         52   среднее             1   \n",
       "19933         0    1489.081069         35   среднее             1   \n",
       "21209         2     186.172325         37    высшее             0   \n",
       "9640          0  335986.594409         70   среднее             1   \n",
       "17968         0    1779.070910         28   среднее             1   \n",
       "553           1    1399.832622         40   среднее             1   \n",
       "3015          0    1592.663331         34   среднее             1   \n",
       "2036          0     192.684476         52   среднее             1   \n",
       "8684          0  364736.495833         63   среднее             1   \n",
       "\n",
       "          family_status  family_status_id gender income_type  debt  \\\n",
       "21075   женат / замужем                 0      M   пенсионер     0   \n",
       "19025   женат / замужем                 0      F   сотрудник     0   \n",
       "19933   женат / замужем                 0      M   сотрудник     0   \n",
       "21209   женат / замужем                 0      F   сотрудник     0   \n",
       "9640     вдовец / вдова                 2      F   пенсионер     0   \n",
       "17968  гражданский брак                 1      M   сотрудник     0   \n",
       "553     женат / замужем                 0      M   сотрудник     0   \n",
       "3015   гражданский брак                 1      F   сотрудник     0   \n",
       "2036    женат / замужем                 0      M   сотрудник     0   \n",
       "8684     вдовец / вдова                 2      F   пенсионер     0   \n",
       "\n",
       "        total_income                                 purpose  \n",
       "21075   82652.123982                              автомобили  \n",
       "19025   69460.208101  строительство собственной недвижимости  \n",
       "19933  127424.437254                      высшее образование  \n",
       "21209  132810.416208                   заняться образованием  \n",
       "9640   100593.574574                    сделка с автомобилем  \n",
       "17968  150475.939507                                 свадьба  \n",
       "553    181903.015429              покупка жилой недвижимости  \n",
       "3015   195355.965026                   на проведение свадьбы  \n",
       "2036   203290.084211              дополнительное образование  \n",
       "8684   223383.425957                   получение образования  "
      ]
     },
     "execution_count": 16,
     "metadata": {},
     "output_type": "execute_result"
    }
   ],
   "source": [
    "# проверяем отсутствие отрицательных значений\n",
    "\n",
    "data.sample(10)"
   ]
  },
  {
   "cell_type": "markdown",
   "id": "fbb332b8",
   "metadata": {},
   "source": [
    "Аномальные значения в столбце со стажем исправлены. Причина их пявления скорее всего техническая, ошибки в выгрузке. Минусами могли стать тире или дефисы."
   ]
  },
  {
   "cell_type": "code",
   "execution_count": 17,
   "id": "3bad190d",
   "metadata": {},
   "outputs": [
    {
     "data": {
      "text/plain": [
       " 0     14149\n",
       " 1      4818\n",
       " 2      2055\n",
       " 3       330\n",
       " 20       76\n",
       "-1        47\n",
       " 4        41\n",
       " 5         9\n",
       "Name: children, dtype: int64"
      ]
     },
     "execution_count": 17,
     "metadata": {},
     "output_type": "execute_result"
    }
   ],
   "source": [
    "# получаем список уникальных значений в столбце children\n",
    "\n",
    "data['children'].value_counts()"
   ]
  },
  {
   "cell_type": "markdown",
   "id": "d5cf0d35",
   "metadata": {},
   "source": [
    "В этом столбце два аномальных значения, это \"-1\" ребёнок и 20. Возможно, -1 это 1, а 20 это 2, но нельзя быть в этом уверенным, т.к. по этой логике должны быть и другие значения подобного типа: -5, 40, например.\n",
    "\n",
    "Доля этих значений от общего числа очень мала, поэтому их можно просто удалить."
   ]
  },
  {
   "cell_type": "code",
   "execution_count": 18,
   "id": "f73bba91",
   "metadata": {},
   "outputs": [
    {
     "data": {
      "text/plain": [
       "0.5714285714285714"
      ]
     },
     "execution_count": 18,
     "metadata": {},
     "output_type": "execute_result"
    }
   ],
   "source": [
    "# доля этих значений меньше процента\n",
    "\n",
    "(123/21525)*100"
   ]
  },
  {
   "cell_type": "code",
   "execution_count": 19,
   "id": "515586a2",
   "metadata": {},
   "outputs": [
    {
     "data": {
      "text/plain": [
       "0    14149\n",
       "1     4818\n",
       "2     2055\n",
       "3      330\n",
       "4       41\n",
       "5        9\n",
       "Name: children, dtype: int64"
      ]
     },
     "execution_count": 19,
     "metadata": {},
     "output_type": "execute_result"
    }
   ],
   "source": [
    "# удаляем эти две строки по условиям\n",
    "\n",
    "data = data.loc[data['children'] >= 0]\n",
    "data = data.loc[data['children'] < 20]\n",
    "\n",
    "data['children'].value_counts()"
   ]
  },
  {
   "cell_type": "markdown",
   "id": "901562de",
   "metadata": {},
   "source": [
    "### Изменение типов данных."
   ]
  },
  {
   "cell_type": "code",
   "execution_count": 20,
   "id": "8a846199",
   "metadata": {},
   "outputs": [],
   "source": [
    "# меняем тип float на int в столбце total_income\n",
    "\n",
    "data['total_income'] = data['total_income'].astype('int')"
   ]
  },
  {
   "cell_type": "code",
   "execution_count": 21,
   "id": "5e726855",
   "metadata": {},
   "outputs": [
    {
     "data": {
      "text/plain": [
       "dtype('int64')"
      ]
     },
     "execution_count": 21,
     "metadata": {},
     "output_type": "execute_result"
    }
   ],
   "source": [
    "# проверяем изменение методом dtypes\n",
    "\n",
    "data['total_income'].dtype"
   ]
  },
  {
   "cell_type": "markdown",
   "id": "1a4a8fd9",
   "metadata": {},
   "source": [
    "### Удаление дубликатов."
   ]
  },
  {
   "cell_type": "code",
   "execution_count": 22,
   "id": "2542a4f1",
   "metadata": {},
   "outputs": [
    {
     "data": {
      "text/plain": [
       "среднее                13667\n",
       "высшее                  4698\n",
       "СРЕДНЕЕ                  766\n",
       "Среднее                  703\n",
       "неоконченное высшее      665\n",
       "ВЫСШЕЕ                   271\n",
       "Высшее                   268\n",
       "начальное                250\n",
       "Неоконченное высшее       47\n",
       "НЕОКОНЧЕННОЕ ВЫСШЕЕ       29\n",
       "НАЧАЛЬНОЕ                 17\n",
       "Начальное                 15\n",
       "ученая степень             4\n",
       "Ученая степень             1\n",
       "УЧЕНАЯ СТЕПЕНЬ             1\n",
       "Name: education, dtype: int64"
      ]
     },
     "execution_count": 22,
     "metadata": {},
     "output_type": "execute_result"
    }
   ],
   "source": [
    "# выводим уникальные значения в столбце education методом value_counts()\n",
    "\n",
    "data['education'].value_counts()"
   ]
  },
  {
   "cell_type": "code",
   "execution_count": 23,
   "id": "276b895c",
   "metadata": {},
   "outputs": [],
   "source": [
    "# приводим все значения к одному регистру\n",
    "\n",
    "data['education'] = data['education'].str.lower()"
   ]
  },
  {
   "cell_type": "code",
   "execution_count": 24,
   "id": "a443a997",
   "metadata": {
    "scrolled": true
   },
   "outputs": [
    {
     "data": {
      "text/plain": [
       "среднее                15136\n",
       "высшее                  5237\n",
       "неоконченное высшее      741\n",
       "начальное                282\n",
       "ученая степень             6\n",
       "Name: education, dtype: int64"
      ]
     },
     "execution_count": 24,
     "metadata": {},
     "output_type": "execute_result"
    }
   ],
   "source": [
    "# проверка изменения\n",
    "\n",
    "data['education'].value_counts()"
   ]
  },
  {
   "cell_type": "markdown",
   "id": "4d5d38aa",
   "metadata": {},
   "source": [
    "Все значения приведены к нижнему регистру. Теперь есть смысл проверить совпадения этих значений со значениями из столбца `education_id`."
   ]
  },
  {
   "cell_type": "code",
   "execution_count": 25,
   "id": "9e536bec",
   "metadata": {},
   "outputs": [
    {
     "data": {
      "text/plain": [
       "1    15136\n",
       "0     5237\n",
       "2      741\n",
       "3      282\n",
       "4        6\n",
       "Name: education_id, dtype: int64"
      ]
     },
     "execution_count": 25,
     "metadata": {},
     "output_type": "execute_result"
    }
   ],
   "source": [
    "data['education_id'].value_counts()"
   ]
  },
  {
   "cell_type": "markdown",
   "id": "5c3079d1",
   "metadata": {},
   "source": [
    "Значения полностью совпадают."
   ]
  },
  {
   "cell_type": "code",
   "execution_count": 26,
   "id": "c3e6679d",
   "metadata": {},
   "outputs": [
    {
     "data": {
      "text/plain": [
       "F      14154\n",
       "M       7247\n",
       "XNA        1\n",
       "Name: gender, dtype: int64"
      ]
     },
     "execution_count": 26,
     "metadata": {},
     "output_type": "execute_result"
    }
   ],
   "source": [
    "# проверка значений в столбце gender\n",
    "\n",
    "data['gender'].value_counts()"
   ]
  },
  {
   "cell_type": "markdown",
   "id": "36f5efb3",
   "metadata": {},
   "source": [
    "Одно значение отсутствует, восстановить по имеющимся данным его невозможно, данные обезличены, поэтому оставляем как есть."
   ]
  },
  {
   "cell_type": "code",
   "execution_count": 27,
   "id": "ef9b7c49",
   "metadata": {},
   "outputs": [
    {
     "data": {
      "text/plain": [
       "свадьба                                   796\n",
       "на проведение свадьбы                     772\n",
       "сыграть свадьбу                           769\n",
       "операции с недвижимостью                  673\n",
       "покупка коммерческой недвижимости         661\n",
       "покупка жилья для сдачи                   651\n",
       "операции с жильем                         648\n",
       "операции с коммерческой недвижимостью     646\n",
       "жилье                                     642\n",
       "покупка жилья                             641\n",
       "покупка жилья для семьи                   640\n",
       "недвижимость                              632\n",
       "строительство собственной недвижимости    628\n",
       "операции со своей недвижимостью           626\n",
       "строительство жилой недвижимости          622\n",
       "строительство недвижимости                620\n",
       "покупка своего жилья                      619\n",
       "покупка недвижимости                      619\n",
       "ремонт жилью                              609\n",
       "покупка жилой недвижимости                603\n",
       "на покупку своего автомобиля              504\n",
       "заняться высшим образованием              496\n",
       "автомобиль                                492\n",
       "сделка с подержанным автомобилем          484\n",
       "автомобили                                476\n",
       "свой автомобиль                           475\n",
       "на покупку подержанного автомобиля        472\n",
       "на покупку автомобиля                     470\n",
       "приобретение автомобиля                   460\n",
       "дополнительное образование                457\n",
       "сделка с автомобилем                      455\n",
       "высшее образование                        447\n",
       "получение дополнительного образования     445\n",
       "образование                               442\n",
       "получение образования                     441\n",
       "профильное образование                    432\n",
       "получение высшего образования             425\n",
       "заняться образованием                     412\n",
       "Name: purpose, dtype: int64"
      ]
     },
     "execution_count": 27,
     "metadata": {},
     "output_type": "execute_result"
    }
   ],
   "source": [
    "# проверка значений в столбце purpose\n",
    "\n",
    "data['purpose'].value_counts()"
   ]
  },
  {
   "cell_type": "markdown",
   "id": "6f431d39",
   "metadata": {},
   "source": [
    "В этом столбце больше всего дубликатов, но при внимательном рассмотрении становится ясно, что на самом деле категории можно выделить всего 4: свадьба, недвижимость, автомобиль и образование.\n",
    "\n",
    "Чтобы избавиться от дубликатов в этом случае, применим лемматизацию.\n",
    "\n",
    "Для удобства и наглядности добавим новый столбец с категорией цели. (Выполняем уже здесь пункт 2.7 из инструкции)."
   ]
  },
  {
   "cell_type": "code",
   "execution_count": 28,
   "id": "d3842bed",
   "metadata": {
    "scrolled": true
   },
   "outputs": [
    {
     "data": {
      "text/html": [
       "<div>\n",
       "<style scoped>\n",
       "    .dataframe tbody tr th:only-of-type {\n",
       "        vertical-align: middle;\n",
       "    }\n",
       "\n",
       "    .dataframe tbody tr th {\n",
       "        vertical-align: top;\n",
       "    }\n",
       "\n",
       "    .dataframe thead th {\n",
       "        text-align: right;\n",
       "    }\n",
       "</style>\n",
       "<table border=\"1\" class=\"dataframe\">\n",
       "  <thead>\n",
       "    <tr style=\"text-align: right;\">\n",
       "      <th></th>\n",
       "      <th>children</th>\n",
       "      <th>days_employed</th>\n",
       "      <th>dob_years</th>\n",
       "      <th>education</th>\n",
       "      <th>education_id</th>\n",
       "      <th>family_status</th>\n",
       "      <th>family_status_id</th>\n",
       "      <th>gender</th>\n",
       "      <th>income_type</th>\n",
       "      <th>debt</th>\n",
       "      <th>total_income</th>\n",
       "      <th>purpose</th>\n",
       "      <th>purpose_category</th>\n",
       "    </tr>\n",
       "  </thead>\n",
       "  <tbody>\n",
       "    <tr>\n",
       "      <td>12545</td>\n",
       "      <td>1</td>\n",
       "      <td>1203.369529</td>\n",
       "      <td>46</td>\n",
       "      <td>высшее</td>\n",
       "      <td>0</td>\n",
       "      <td>женат / замужем</td>\n",
       "      <td>0</td>\n",
       "      <td>M</td>\n",
       "      <td>сотрудник</td>\n",
       "      <td>0</td>\n",
       "      <td>142594</td>\n",
       "      <td>покупка жилья для сдачи</td>\n",
       "      <td>операции с недвижимостью</td>\n",
       "    </tr>\n",
       "    <tr>\n",
       "      <td>5648</td>\n",
       "      <td>0</td>\n",
       "      <td>1203.369529</td>\n",
       "      <td>46</td>\n",
       "      <td>среднее</td>\n",
       "      <td>1</td>\n",
       "      <td>женат / замужем</td>\n",
       "      <td>0</td>\n",
       "      <td>M</td>\n",
       "      <td>госслужащий</td>\n",
       "      <td>1</td>\n",
       "      <td>150447</td>\n",
       "      <td>приобретение автомобиля</td>\n",
       "      <td>операции с автомобилем</td>\n",
       "    </tr>\n",
       "    <tr>\n",
       "      <td>3925</td>\n",
       "      <td>2</td>\n",
       "      <td>426.152484</td>\n",
       "      <td>33</td>\n",
       "      <td>среднее</td>\n",
       "      <td>1</td>\n",
       "      <td>женат / замужем</td>\n",
       "      <td>0</td>\n",
       "      <td>M</td>\n",
       "      <td>сотрудник</td>\n",
       "      <td>0</td>\n",
       "      <td>102370</td>\n",
       "      <td>покупка коммерческой недвижимости</td>\n",
       "      <td>операции с недвижимостью</td>\n",
       "    </tr>\n",
       "    <tr>\n",
       "      <td>9554</td>\n",
       "      <td>1</td>\n",
       "      <td>2126.758736</td>\n",
       "      <td>27</td>\n",
       "      <td>среднее</td>\n",
       "      <td>1</td>\n",
       "      <td>гражданский брак</td>\n",
       "      <td>1</td>\n",
       "      <td>F</td>\n",
       "      <td>компаньон</td>\n",
       "      <td>0</td>\n",
       "      <td>89240</td>\n",
       "      <td>заняться образованием</td>\n",
       "      <td>получение образования</td>\n",
       "    </tr>\n",
       "    <tr>\n",
       "      <td>864</td>\n",
       "      <td>0</td>\n",
       "      <td>1289.518226</td>\n",
       "      <td>39</td>\n",
       "      <td>высшее</td>\n",
       "      <td>0</td>\n",
       "      <td>Не женат / не замужем</td>\n",
       "      <td>4</td>\n",
       "      <td>M</td>\n",
       "      <td>сотрудник</td>\n",
       "      <td>0</td>\n",
       "      <td>44207</td>\n",
       "      <td>операции с недвижимостью</td>\n",
       "      <td>операции с недвижимостью</td>\n",
       "    </tr>\n",
       "    <tr>\n",
       "      <td>19611</td>\n",
       "      <td>0</td>\n",
       "      <td>402.188945</td>\n",
       "      <td>37</td>\n",
       "      <td>начальное</td>\n",
       "      <td>3</td>\n",
       "      <td>в разводе</td>\n",
       "      <td>3</td>\n",
       "      <td>M</td>\n",
       "      <td>сотрудник</td>\n",
       "      <td>0</td>\n",
       "      <td>72830</td>\n",
       "      <td>ремонт жилью</td>\n",
       "      <td>операции с недвижимостью</td>\n",
       "    </tr>\n",
       "    <tr>\n",
       "      <td>11085</td>\n",
       "      <td>0</td>\n",
       "      <td>148.372047</td>\n",
       "      <td>44</td>\n",
       "      <td>высшее</td>\n",
       "      <td>0</td>\n",
       "      <td>женат / замужем</td>\n",
       "      <td>0</td>\n",
       "      <td>M</td>\n",
       "      <td>сотрудник</td>\n",
       "      <td>1</td>\n",
       "      <td>79554</td>\n",
       "      <td>автомобиль</td>\n",
       "      <td>операции с автомобилем</td>\n",
       "    </tr>\n",
       "    <tr>\n",
       "      <td>5567</td>\n",
       "      <td>0</td>\n",
       "      <td>1203.369529</td>\n",
       "      <td>24</td>\n",
       "      <td>высшее</td>\n",
       "      <td>0</td>\n",
       "      <td>женат / замужем</td>\n",
       "      <td>0</td>\n",
       "      <td>F</td>\n",
       "      <td>сотрудник</td>\n",
       "      <td>0</td>\n",
       "      <td>142594</td>\n",
       "      <td>дополнительное образование</td>\n",
       "      <td>получение образования</td>\n",
       "    </tr>\n",
       "    <tr>\n",
       "      <td>3309</td>\n",
       "      <td>0</td>\n",
       "      <td>4450.927076</td>\n",
       "      <td>58</td>\n",
       "      <td>высшее</td>\n",
       "      <td>0</td>\n",
       "      <td>гражданский брак</td>\n",
       "      <td>1</td>\n",
       "      <td>M</td>\n",
       "      <td>сотрудник</td>\n",
       "      <td>0</td>\n",
       "      <td>115656</td>\n",
       "      <td>свадьба</td>\n",
       "      <td>проведение свадьбы</td>\n",
       "    </tr>\n",
       "    <tr>\n",
       "      <td>5711</td>\n",
       "      <td>0</td>\n",
       "      <td>4447.791881</td>\n",
       "      <td>36</td>\n",
       "      <td>высшее</td>\n",
       "      <td>0</td>\n",
       "      <td>женат / замужем</td>\n",
       "      <td>0</td>\n",
       "      <td>F</td>\n",
       "      <td>компаньон</td>\n",
       "      <td>0</td>\n",
       "      <td>235908</td>\n",
       "      <td>получение дополнительного образования</td>\n",
       "      <td>получение образования</td>\n",
       "    </tr>\n",
       "  </tbody>\n",
       "</table>\n",
       "</div>"
      ],
      "text/plain": [
       "       children  days_employed  dob_years  education  education_id  \\\n",
       "12545         1    1203.369529         46     высшее             0   \n",
       "5648          0    1203.369529         46    среднее             1   \n",
       "3925          2     426.152484         33    среднее             1   \n",
       "9554          1    2126.758736         27    среднее             1   \n",
       "864           0    1289.518226         39     высшее             0   \n",
       "19611         0     402.188945         37  начальное             3   \n",
       "11085         0     148.372047         44     высшее             0   \n",
       "5567          0    1203.369529         24     высшее             0   \n",
       "3309          0    4450.927076         58     высшее             0   \n",
       "5711          0    4447.791881         36     высшее             0   \n",
       "\n",
       "               family_status  family_status_id gender  income_type  debt  \\\n",
       "12545        женат / замужем                 0      M    сотрудник     0   \n",
       "5648         женат / замужем                 0      M  госслужащий     1   \n",
       "3925         женат / замужем                 0      M    сотрудник     0   \n",
       "9554        гражданский брак                 1      F    компаньон     0   \n",
       "864    Не женат / не замужем                 4      M    сотрудник     0   \n",
       "19611              в разводе                 3      M    сотрудник     0   \n",
       "11085        женат / замужем                 0      M    сотрудник     1   \n",
       "5567         женат / замужем                 0      F    сотрудник     0   \n",
       "3309        гражданский брак                 1      M    сотрудник     0   \n",
       "5711         женат / замужем                 0      F    компаньон     0   \n",
       "\n",
       "       total_income                                purpose  \\\n",
       "12545        142594                покупка жилья для сдачи   \n",
       "5648         150447                приобретение автомобиля   \n",
       "3925         102370      покупка коммерческой недвижимости   \n",
       "9554          89240                  заняться образованием   \n",
       "864           44207               операции с недвижимостью   \n",
       "19611         72830                           ремонт жилью   \n",
       "11085         79554                             автомобиль   \n",
       "5567         142594             дополнительное образование   \n",
       "3309         115656                                свадьба   \n",
       "5711         235908  получение дополнительного образования   \n",
       "\n",
       "               purpose_category  \n",
       "12545  операции с недвижимостью  \n",
       "5648     операции с автомобилем  \n",
       "3925   операции с недвижимостью  \n",
       "9554      получение образования  \n",
       "864    операции с недвижимостью  \n",
       "19611  операции с недвижимостью  \n",
       "11085    операции с автомобилем  \n",
       "5567      получение образования  \n",
       "3309         проведение свадьбы  \n",
       "5711      получение образования  "
      ]
     },
     "execution_count": 28,
     "metadata": {},
     "output_type": "execute_result"
    }
   ],
   "source": [
    "# импортируем pymystem3\n",
    "\n",
    "from pymystem3 import Mystem\n",
    "m = Mystem()\n",
    "\n",
    "# на мой взгляд, такая функция будет хорошим вариантом\n",
    "\n",
    "def find_category(row):\n",
    "    \n",
    "    lemmas = m.lemmatize(row)\n",
    "    \n",
    "    if 'автомобиль' in lemmas:\n",
    "        return 'операции с автомобилем'\n",
    "    if 'свадьба' in lemmas:\n",
    "        return 'проведение свадьбы'\n",
    "    if 'образование' in lemmas:\n",
    "        return 'получение образования'\n",
    "    return 'операции с недвижимостью'\n",
    "\n",
    "# создаём новый столбец с категорией цели\n",
    "\n",
    "data['purpose_category'] = data['purpose'].apply(find_category)\n",
    "\n",
    "# проверка изменений\n",
    "\n",
    "data.sample(10)"
   ]
  },
  {
   "cell_type": "markdown",
   "id": "c4495294",
   "metadata": {},
   "source": [
    "Лемматизация и добавление нового столбца успешно выполнены."
   ]
  },
  {
   "cell_type": "code",
   "execution_count": 29,
   "id": "4b982305",
   "metadata": {},
   "outputs": [
    {
     "data": {
      "text/plain": [
       "операции с недвижимостью    10780\n",
       "операции с автомобилем       4288\n",
       "получение образования        3997\n",
       "проведение свадьбы           2337\n",
       "Name: purpose_category, dtype: int64"
      ]
     },
     "execution_count": 29,
     "metadata": {},
     "output_type": "execute_result"
    }
   ],
   "source": [
    "# проверяем количество уникальных значений в новом столбце\n",
    "\n",
    "data['purpose_category'].value_counts()"
   ]
  },
  {
   "cell_type": "markdown",
   "id": "30e90895",
   "metadata": {},
   "source": [
    "Первичное наблюдение подтвердилось, целей кредита всего 4.\n",
    "\n",
    "**Резюмируя** работу с дубликатами:\n",
    "* для их поиска в столбце был применён метод value_counts() как простой и удобный и подходящий для работы с series;\n",
    "* для выделения категорий цели кредита была применена лемматизация, более продвинутый и надёжный вариант чем стемминг.\n",
    "\n",
    "**Причины** появления дубликатов:\n",
    "* в столбце `education` чётко видны три регистра написания, значит, как минимум три человека заполняли эти данные без единого формата;\n",
    "* цели кредита записаны совершенно в свободной форме, скорее всего со слов клиентов, либо сами клиенты заполняли вручную."
   ]
  },
  {
   "cell_type": "markdown",
   "id": "0d74f7f3",
   "metadata": {},
   "source": [
    "### Формирование дополнительных датафреймов словарей, декомпозиция исходного датафрейма."
   ]
  },
  {
   "cell_type": "code",
   "execution_count": 30,
   "id": "f4b6ec38",
   "metadata": {},
   "outputs": [
    {
     "data": {
      "text/html": [
       "<div>\n",
       "<style scoped>\n",
       "    .dataframe tbody tr th:only-of-type {\n",
       "        vertical-align: middle;\n",
       "    }\n",
       "\n",
       "    .dataframe tbody tr th {\n",
       "        vertical-align: top;\n",
       "    }\n",
       "\n",
       "    .dataframe thead th {\n",
       "        text-align: right;\n",
       "    }\n",
       "</style>\n",
       "<table border=\"1\" class=\"dataframe\">\n",
       "  <thead>\n",
       "    <tr style=\"text-align: right;\">\n",
       "      <th></th>\n",
       "      <th>education_id</th>\n",
       "      <th>education</th>\n",
       "    </tr>\n",
       "  </thead>\n",
       "  <tbody>\n",
       "    <tr>\n",
       "      <td>0</td>\n",
       "      <td>0</td>\n",
       "      <td>высшее</td>\n",
       "    </tr>\n",
       "    <tr>\n",
       "      <td>1</td>\n",
       "      <td>1</td>\n",
       "      <td>среднее</td>\n",
       "    </tr>\n",
       "    <tr>\n",
       "      <td>2</td>\n",
       "      <td>1</td>\n",
       "      <td>среднее</td>\n",
       "    </tr>\n",
       "    <tr>\n",
       "      <td>3</td>\n",
       "      <td>1</td>\n",
       "      <td>среднее</td>\n",
       "    </tr>\n",
       "    <tr>\n",
       "      <td>4</td>\n",
       "      <td>1</td>\n",
       "      <td>среднее</td>\n",
       "    </tr>\n",
       "    <tr>\n",
       "      <td>5</td>\n",
       "      <td>0</td>\n",
       "      <td>высшее</td>\n",
       "    </tr>\n",
       "    <tr>\n",
       "      <td>6</td>\n",
       "      <td>0</td>\n",
       "      <td>высшее</td>\n",
       "    </tr>\n",
       "    <tr>\n",
       "      <td>7</td>\n",
       "      <td>1</td>\n",
       "      <td>среднее</td>\n",
       "    </tr>\n",
       "    <tr>\n",
       "      <td>8</td>\n",
       "      <td>0</td>\n",
       "      <td>высшее</td>\n",
       "    </tr>\n",
       "    <tr>\n",
       "      <td>9</td>\n",
       "      <td>1</td>\n",
       "      <td>среднее</td>\n",
       "    </tr>\n",
       "  </tbody>\n",
       "</table>\n",
       "</div>"
      ],
      "text/plain": [
       "   education_id education\n",
       "0             0    высшее\n",
       "1             1   среднее\n",
       "2             1   среднее\n",
       "3             1   среднее\n",
       "4             1   среднее\n",
       "5             0    высшее\n",
       "6             0    высшее\n",
       "7             1   среднее\n",
       "8             0    высшее\n",
       "9             1   среднее"
      ]
     },
     "execution_count": 30,
     "metadata": {},
     "output_type": "execute_result"
    }
   ],
   "source": [
    "# создаём первый новый датафрейм с данными об образовании\n",
    "\n",
    "data = data\n",
    "columns = 'education_id', 'education'\n",
    "edu_data = pd.DataFrame(data = data, columns = columns)\n",
    "edu_data.head(10)"
   ]
  },
  {
   "cell_type": "code",
   "execution_count": 31,
   "id": "bea7fe49",
   "metadata": {},
   "outputs": [
    {
     "data": {
      "text/html": [
       "<div>\n",
       "<style scoped>\n",
       "    .dataframe tbody tr th:only-of-type {\n",
       "        vertical-align: middle;\n",
       "    }\n",
       "\n",
       "    .dataframe tbody tr th {\n",
       "        vertical-align: top;\n",
       "    }\n",
       "\n",
       "    .dataframe thead th {\n",
       "        text-align: right;\n",
       "    }\n",
       "</style>\n",
       "<table border=\"1\" class=\"dataframe\">\n",
       "  <thead>\n",
       "    <tr style=\"text-align: right;\">\n",
       "      <th></th>\n",
       "      <th>family_status_id</th>\n",
       "      <th>family_status</th>\n",
       "    </tr>\n",
       "  </thead>\n",
       "  <tbody>\n",
       "    <tr>\n",
       "      <td>0</td>\n",
       "      <td>0</td>\n",
       "      <td>женат / замужем</td>\n",
       "    </tr>\n",
       "    <tr>\n",
       "      <td>1</td>\n",
       "      <td>0</td>\n",
       "      <td>женат / замужем</td>\n",
       "    </tr>\n",
       "    <tr>\n",
       "      <td>2</td>\n",
       "      <td>0</td>\n",
       "      <td>женат / замужем</td>\n",
       "    </tr>\n",
       "    <tr>\n",
       "      <td>3</td>\n",
       "      <td>0</td>\n",
       "      <td>женат / замужем</td>\n",
       "    </tr>\n",
       "    <tr>\n",
       "      <td>4</td>\n",
       "      <td>1</td>\n",
       "      <td>гражданский брак</td>\n",
       "    </tr>\n",
       "  </tbody>\n",
       "</table>\n",
       "</div>"
      ],
      "text/plain": [
       "   family_status_id     family_status\n",
       "0                 0   женат / замужем\n",
       "1                 0   женат / замужем\n",
       "2                 0   женат / замужем\n",
       "3                 0   женат / замужем\n",
       "4                 1  гражданский брак"
      ]
     },
     "execution_count": 31,
     "metadata": {},
     "output_type": "execute_result"
    }
   ],
   "source": [
    "# создаём второй новый датафрейм с данными о семейном положении\n",
    "\n",
    "data = data\n",
    "columns = 'family_status_id', 'family_status'\n",
    "family_data = pd.DataFrame(data = data, columns = columns)\n",
    "family_data.head()"
   ]
  },
  {
   "cell_type": "markdown",
   "id": "1ef06e78",
   "metadata": {},
   "source": [
    "Новые датафреймы это «словари», к которым можно обращаться по идентификатору.\n",
    "\n",
    "Теперь можно удалить эти столбцы из общего датафрейма."
   ]
  },
  {
   "cell_type": "code",
   "execution_count": 32,
   "id": "68e6e519",
   "metadata": {},
   "outputs": [
    {
     "data": {
      "text/plain": [
       "Index(['children', 'days_employed', 'dob_years', 'education', 'education_id',\n",
       "       'family_status', 'family_status_id', 'gender', 'income_type', 'debt',\n",
       "       'total_income', 'purpose', 'purpose_category'],\n",
       "      dtype='object')"
      ]
     },
     "execution_count": 32,
     "metadata": {},
     "output_type": "execute_result"
    }
   ],
   "source": [
    "# удаляем столбец education\n",
    "\n",
    "# data = data.drop(['education'], axis = 1)\n",
    "\n",
    "# проверка методом columns\n",
    "\n",
    "data.columns"
   ]
  },
  {
   "cell_type": "code",
   "execution_count": 33,
   "id": "a7d464d1",
   "metadata": {},
   "outputs": [
    {
     "data": {
      "text/plain": [
       "Index(['children', 'days_employed', 'dob_years', 'education', 'education_id',\n",
       "       'family_status', 'family_status_id', 'gender', 'income_type', 'debt',\n",
       "       'total_income', 'purpose', 'purpose_category'],\n",
       "      dtype='object')"
      ]
     },
     "execution_count": 33,
     "metadata": {},
     "output_type": "execute_result"
    }
   ],
   "source": [
    "# удаляем столбец family_status\n",
    "\n",
    "# data = data.drop(['family_status'], axis = 1)\n",
    "\n",
    "# проверка методом columns\n",
    "\n",
    "data.columns"
   ]
  },
  {
   "cell_type": "markdown",
   "id": "5ae71f8d",
   "metadata": {},
   "source": [
    "Задание выполнено, новые датафреймы созданы, столбцы удалены.\n",
    "\n",
    "*Удаление отменено*"
   ]
  },
  {
   "cell_type": "markdown",
   "id": "3363a20d",
   "metadata": {},
   "source": [
    "### Категоризация дохода."
   ]
  },
  {
   "cell_type": "code",
   "execution_count": 34,
   "id": "86d7bdbc",
   "metadata": {
    "scrolled": true
   },
   "outputs": [
    {
     "data": {
      "text/html": [
       "<div>\n",
       "<style scoped>\n",
       "    .dataframe tbody tr th:only-of-type {\n",
       "        vertical-align: middle;\n",
       "    }\n",
       "\n",
       "    .dataframe tbody tr th {\n",
       "        vertical-align: top;\n",
       "    }\n",
       "\n",
       "    .dataframe thead th {\n",
       "        text-align: right;\n",
       "    }\n",
       "</style>\n",
       "<table border=\"1\" class=\"dataframe\">\n",
       "  <thead>\n",
       "    <tr style=\"text-align: right;\">\n",
       "      <th></th>\n",
       "      <th>children</th>\n",
       "      <th>days_employed</th>\n",
       "      <th>dob_years</th>\n",
       "      <th>education</th>\n",
       "      <th>education_id</th>\n",
       "      <th>family_status</th>\n",
       "      <th>family_status_id</th>\n",
       "      <th>gender</th>\n",
       "      <th>income_type</th>\n",
       "      <th>debt</th>\n",
       "      <th>total_income</th>\n",
       "      <th>purpose</th>\n",
       "      <th>purpose_category</th>\n",
       "      <th>total_income_category</th>\n",
       "    </tr>\n",
       "  </thead>\n",
       "  <tbody>\n",
       "    <tr>\n",
       "      <td>9772</td>\n",
       "      <td>1</td>\n",
       "      <td>2622.968859</td>\n",
       "      <td>40</td>\n",
       "      <td>среднее</td>\n",
       "      <td>1</td>\n",
       "      <td>женат / замужем</td>\n",
       "      <td>0</td>\n",
       "      <td>M</td>\n",
       "      <td>сотрудник</td>\n",
       "      <td>1</td>\n",
       "      <td>166450</td>\n",
       "      <td>на покупку подержанного автомобиля</td>\n",
       "      <td>операции с автомобилем</td>\n",
       "      <td>C (50001–200000)</td>\n",
       "    </tr>\n",
       "    <tr>\n",
       "      <td>2924</td>\n",
       "      <td>0</td>\n",
       "      <td>3143.965479</td>\n",
       "      <td>36</td>\n",
       "      <td>среднее</td>\n",
       "      <td>1</td>\n",
       "      <td>гражданский брак</td>\n",
       "      <td>1</td>\n",
       "      <td>F</td>\n",
       "      <td>сотрудник</td>\n",
       "      <td>0</td>\n",
       "      <td>114010</td>\n",
       "      <td>операции с недвижимостью</td>\n",
       "      <td>операции с недвижимостью</td>\n",
       "      <td>C (50001–200000)</td>\n",
       "    </tr>\n",
       "    <tr>\n",
       "      <td>19469</td>\n",
       "      <td>0</td>\n",
       "      <td>336815.105012</td>\n",
       "      <td>64</td>\n",
       "      <td>высшее</td>\n",
       "      <td>0</td>\n",
       "      <td>Не женат / не замужем</td>\n",
       "      <td>4</td>\n",
       "      <td>F</td>\n",
       "      <td>пенсионер</td>\n",
       "      <td>0</td>\n",
       "      <td>138957</td>\n",
       "      <td>приобретение автомобиля</td>\n",
       "      <td>операции с автомобилем</td>\n",
       "      <td>C (50001–200000)</td>\n",
       "    </tr>\n",
       "    <tr>\n",
       "      <td>3555</td>\n",
       "      <td>0</td>\n",
       "      <td>395662.090486</td>\n",
       "      <td>52</td>\n",
       "      <td>неоконченное высшее</td>\n",
       "      <td>2</td>\n",
       "      <td>вдовец / вдова</td>\n",
       "      <td>2</td>\n",
       "      <td>F</td>\n",
       "      <td>пенсионер</td>\n",
       "      <td>0</td>\n",
       "      <td>72824</td>\n",
       "      <td>ремонт жилью</td>\n",
       "      <td>операции с недвижимостью</td>\n",
       "      <td>C (50001–200000)</td>\n",
       "    </tr>\n",
       "    <tr>\n",
       "      <td>5275</td>\n",
       "      <td>0</td>\n",
       "      <td>142.276217</td>\n",
       "      <td>29</td>\n",
       "      <td>высшее</td>\n",
       "      <td>0</td>\n",
       "      <td>Не женат / не замужем</td>\n",
       "      <td>4</td>\n",
       "      <td>M</td>\n",
       "      <td>компаньон</td>\n",
       "      <td>0</td>\n",
       "      <td>42777</td>\n",
       "      <td>покупка жилья</td>\n",
       "      <td>операции с недвижимостью</td>\n",
       "      <td>D (30001–50000)</td>\n",
       "    </tr>\n",
       "    <tr>\n",
       "      <td>21495</td>\n",
       "      <td>1</td>\n",
       "      <td>1203.369529</td>\n",
       "      <td>50</td>\n",
       "      <td>среднее</td>\n",
       "      <td>1</td>\n",
       "      <td>гражданский брак</td>\n",
       "      <td>1</td>\n",
       "      <td>F</td>\n",
       "      <td>сотрудник</td>\n",
       "      <td>0</td>\n",
       "      <td>142594</td>\n",
       "      <td>свадьба</td>\n",
       "      <td>проведение свадьбы</td>\n",
       "      <td>C (50001–200000)</td>\n",
       "    </tr>\n",
       "    <tr>\n",
       "      <td>7420</td>\n",
       "      <td>0</td>\n",
       "      <td>1203.369529</td>\n",
       "      <td>58</td>\n",
       "      <td>среднее</td>\n",
       "      <td>1</td>\n",
       "      <td>женат / замужем</td>\n",
       "      <td>0</td>\n",
       "      <td>F</td>\n",
       "      <td>пенсионер</td>\n",
       "      <td>0</td>\n",
       "      <td>118514</td>\n",
       "      <td>сделка с подержанным автомобилем</td>\n",
       "      <td>операции с автомобилем</td>\n",
       "      <td>C (50001–200000)</td>\n",
       "    </tr>\n",
       "    <tr>\n",
       "      <td>10616</td>\n",
       "      <td>0</td>\n",
       "      <td>223.532398</td>\n",
       "      <td>55</td>\n",
       "      <td>среднее</td>\n",
       "      <td>1</td>\n",
       "      <td>вдовец / вдова</td>\n",
       "      <td>2</td>\n",
       "      <td>F</td>\n",
       "      <td>госслужащий</td>\n",
       "      <td>0</td>\n",
       "      <td>113541</td>\n",
       "      <td>получение дополнительного образования</td>\n",
       "      <td>получение образования</td>\n",
       "      <td>C (50001–200000)</td>\n",
       "    </tr>\n",
       "    <tr>\n",
       "      <td>957</td>\n",
       "      <td>0</td>\n",
       "      <td>727.202449</td>\n",
       "      <td>33</td>\n",
       "      <td>среднее</td>\n",
       "      <td>1</td>\n",
       "      <td>Не женат / не замужем</td>\n",
       "      <td>4</td>\n",
       "      <td>F</td>\n",
       "      <td>компаньон</td>\n",
       "      <td>0</td>\n",
       "      <td>233913</td>\n",
       "      <td>жилье</td>\n",
       "      <td>операции с недвижимостью</td>\n",
       "      <td>B (200001–1000000)</td>\n",
       "    </tr>\n",
       "    <tr>\n",
       "      <td>14675</td>\n",
       "      <td>3</td>\n",
       "      <td>505.848224</td>\n",
       "      <td>32</td>\n",
       "      <td>среднее</td>\n",
       "      <td>1</td>\n",
       "      <td>женат / замужем</td>\n",
       "      <td>0</td>\n",
       "      <td>F</td>\n",
       "      <td>сотрудник</td>\n",
       "      <td>0</td>\n",
       "      <td>81823</td>\n",
       "      <td>покупка жилья для семьи</td>\n",
       "      <td>операции с недвижимостью</td>\n",
       "      <td>C (50001–200000)</td>\n",
       "    </tr>\n",
       "  </tbody>\n",
       "</table>\n",
       "</div>"
      ],
      "text/plain": [
       "       children  days_employed  dob_years            education  education_id  \\\n",
       "9772          1    2622.968859         40              среднее             1   \n",
       "2924          0    3143.965479         36              среднее             1   \n",
       "19469         0  336815.105012         64               высшее             0   \n",
       "3555          0  395662.090486         52  неоконченное высшее             2   \n",
       "5275          0     142.276217         29               высшее             0   \n",
       "21495         1    1203.369529         50              среднее             1   \n",
       "7420          0    1203.369529         58              среднее             1   \n",
       "10616         0     223.532398         55              среднее             1   \n",
       "957           0     727.202449         33              среднее             1   \n",
       "14675         3     505.848224         32              среднее             1   \n",
       "\n",
       "               family_status  family_status_id gender  income_type  debt  \\\n",
       "9772         женат / замужем                 0      M    сотрудник     1   \n",
       "2924        гражданский брак                 1      F    сотрудник     0   \n",
       "19469  Не женат / не замужем                 4      F    пенсионер     0   \n",
       "3555          вдовец / вдова                 2      F    пенсионер     0   \n",
       "5275   Не женат / не замужем                 4      M    компаньон     0   \n",
       "21495       гражданский брак                 1      F    сотрудник     0   \n",
       "7420         женат / замужем                 0      F    пенсионер     0   \n",
       "10616         вдовец / вдова                 2      F  госслужащий     0   \n",
       "957    Не женат / не замужем                 4      F    компаньон     0   \n",
       "14675        женат / замужем                 0      F    сотрудник     0   \n",
       "\n",
       "       total_income                                purpose  \\\n",
       "9772         166450     на покупку подержанного автомобиля   \n",
       "2924         114010               операции с недвижимостью   \n",
       "19469        138957                приобретение автомобиля   \n",
       "3555          72824                           ремонт жилью   \n",
       "5275          42777                          покупка жилья   \n",
       "21495        142594                                свадьба   \n",
       "7420         118514       сделка с подержанным автомобилем   \n",
       "10616        113541  получение дополнительного образования   \n",
       "957          233913                                  жилье   \n",
       "14675         81823                покупка жилья для семьи   \n",
       "\n",
       "               purpose_category total_income_category  \n",
       "9772     операции с автомобилем      C (50001–200000)  \n",
       "2924   операции с недвижимостью      C (50001–200000)  \n",
       "19469    операции с автомобилем      C (50001–200000)  \n",
       "3555   операции с недвижимостью      C (50001–200000)  \n",
       "5275   операции с недвижимостью       D (30001–50000)  \n",
       "21495        проведение свадьбы      C (50001–200000)  \n",
       "7420     операции с автомобилем      C (50001–200000)  \n",
       "10616     получение образования      C (50001–200000)  \n",
       "957    операции с недвижимостью    B (200001–1000000)  \n",
       "14675  операции с недвижимостью      C (50001–200000)  "
      ]
     },
     "execution_count": 34,
     "metadata": {},
     "output_type": "execute_result"
    }
   ],
   "source": [
    "# пишем функцию для категоризации доходов на 5 категорий\n",
    "\n",
    "def cat_income(income):\n",
    "    \n",
    "    if income <= 30000:\n",
    "        return 'E (0–30000)'\n",
    "    if 30001 <= income <= 50000:\n",
    "        return 'D (30001–50000)'\n",
    "    if 50001 <= income <= 200000:\n",
    "        return 'C (50001–200000)'\n",
    "    if 200001 <= income <= 1000000:\n",
    "        return 'B (200001–1000000)'\n",
    "    if income >= 1000001:\n",
    "        return 'A (1000001+)'\n",
    "    \n",
    "# создаём столбец total_income_category\n",
    "\n",
    "data['total_income_category'] = data['total_income'].apply(cat_income)\n",
    "\n",
    "# проверка изменений\n",
    "\n",
    "data.sample(10)"
   ]
  },
  {
   "cell_type": "markdown",
   "id": "4ca671a6",
   "metadata": {},
   "source": [
    "### Категоризация целей кредита."
   ]
  },
  {
   "cell_type": "code",
   "execution_count": 35,
   "id": "105d3dc5",
   "metadata": {},
   "outputs": [],
   "source": [
    "# категоризацию целей кредита сделали ранее этой функцией, приведём её и тут\n",
    "\n",
    "# def find_category(row):\n",
    "    \n",
    "    # lemmas = m.lemmatize(row)\n",
    "    \n",
    "    # if 'автомобиль' in lemmas:\n",
    "        # return 'операции с автомобилем'\n",
    "    # if 'свадьба' in lemmas:\n",
    "        # return 'проведение свадьбы'\n",
    "    # if 'образование' in lemmas:\n",
    "        # return 'получение образования'\n",
    "    # return 'операции с недвижимостью'"
   ]
  },
  {
   "cell_type": "markdown",
   "id": "6bef1a0b",
   "metadata": {},
   "source": [
    "### Ответы на вопросы."
   ]
  },
  {
   "cell_type": "markdown",
   "id": "f2e1bbdf",
   "metadata": {},
   "source": [
    "#### Вопрос 1: Есть ли зависимость между количеством детей и возвратом кредита в срок?"
   ]
  },
  {
   "cell_type": "code",
   "execution_count": 36,
   "id": "555891ce",
   "metadata": {},
   "outputs": [
    {
     "data": {
      "text/html": [
       "<div>\n",
       "<style scoped>\n",
       "    .dataframe tbody tr th:only-of-type {\n",
       "        vertical-align: middle;\n",
       "    }\n",
       "\n",
       "    .dataframe tbody tr th {\n",
       "        vertical-align: top;\n",
       "    }\n",
       "\n",
       "    .dataframe thead th {\n",
       "        text-align: right;\n",
       "    }\n",
       "</style>\n",
       "<table border=\"1\" class=\"dataframe\">\n",
       "  <thead>\n",
       "    <tr style=\"text-align: right;\">\n",
       "      <th></th>\n",
       "      <th>children_number</th>\n",
       "      <th>children_number_sum</th>\n",
       "      <th>debt_ratio</th>\n",
       "    </tr>\n",
       "    <tr>\n",
       "      <th>children</th>\n",
       "      <th></th>\n",
       "      <th></th>\n",
       "      <th></th>\n",
       "    </tr>\n",
       "  </thead>\n",
       "  <tbody>\n",
       "    <tr>\n",
       "      <td>4</td>\n",
       "      <td>41</td>\n",
       "      <td>4</td>\n",
       "      <td>9.756098</td>\n",
       "    </tr>\n",
       "    <tr>\n",
       "      <td>2</td>\n",
       "      <td>2055</td>\n",
       "      <td>194</td>\n",
       "      <td>9.440389</td>\n",
       "    </tr>\n",
       "    <tr>\n",
       "      <td>1</td>\n",
       "      <td>4818</td>\n",
       "      <td>444</td>\n",
       "      <td>9.215442</td>\n",
       "    </tr>\n",
       "    <tr>\n",
       "      <td>3</td>\n",
       "      <td>330</td>\n",
       "      <td>27</td>\n",
       "      <td>8.181818</td>\n",
       "    </tr>\n",
       "    <tr>\n",
       "      <td>0</td>\n",
       "      <td>14149</td>\n",
       "      <td>1063</td>\n",
       "      <td>7.512898</td>\n",
       "    </tr>\n",
       "    <tr>\n",
       "      <td>5</td>\n",
       "      <td>9</td>\n",
       "      <td>0</td>\n",
       "      <td>0.000000</td>\n",
       "    </tr>\n",
       "  </tbody>\n",
       "</table>\n",
       "</div>"
      ],
      "text/plain": [
       "          children_number  children_number_sum  debt_ratio\n",
       "children                                                  \n",
       "4                      41                    4    9.756098\n",
       "2                    2055                  194    9.440389\n",
       "1                    4818                  444    9.215442\n",
       "3                     330                   27    8.181818\n",
       "0                   14149                 1063    7.512898\n",
       "5                       9                    0    0.000000"
      ]
     },
     "execution_count": 36,
     "metadata": {},
     "output_type": "execute_result"
    }
   ],
   "source": [
    "# столбцы новой таблицы\n",
    "\n",
    "children_df = pd.DataFrame()\n",
    "\n",
    "children_df['children_number'] = data.groupby('children')['debt'].count()\n",
    "children_df['children_number_sum'] = data.groupby('children')['debt'].sum()\n",
    "children_df['debt_ratio'] = children_df['children_number_sum'] / children_df['children_number'] * 100\n",
    "\n",
    "# сортировка по значению долга в порядке убывания\n",
    "\n",
    "children_df.sort_values('debt_ratio',  ascending = False)"
   ]
  },
  {
   "cell_type": "markdown",
   "id": "f9f481e8",
   "metadata": {},
   "source": [
    "#### Вывод 1:"
   ]
  },
  {
   "cell_type": "markdown",
   "id": "90f8cce9",
   "metadata": {},
   "source": [
    "Да, полученные данные позволяют сказать, что вероятность просрочки возрастает с увеличением количества детей, но не всё так однозначно.\n",
    "\n",
    "Например, семьи с 3 детьми лучше выплачивают кредит, чем семьи с 1 ребёнком.\n",
    "\n",
    "В топе просрочек семьи с 4 детьми, зато там, где детей уже 5, просрочек нет вообще.\n",
    "\n",
    "Такие противоречивые данные связаны, конечно, с особенностью нашей выборки, возможно, нужна выборка побольше.\n",
    "\n",
    "Кроме того, нет данных, какой временной промежуток представляет исходный датасет.\n",
    " \n",
    "Как вариант, интересно было бы проанализировать долю просрочек в зависимости от времени года: начало, середина, конец.\n",
    "Праздники, отпуска, премии по итогам года, я думаю, имеют существенное влияние на выплату кредитов."
   ]
  },
  {
   "cell_type": "markdown",
   "id": "b8f5221f",
   "metadata": {},
   "source": [
    "#### Вопрос 2: Есть ли зависимость между семейным положением и возвратом кредита в срок?"
   ]
  },
  {
   "cell_type": "code",
   "execution_count": 37,
   "id": "bdfcc01b",
   "metadata": {
    "scrolled": false
   },
   "outputs": [
    {
     "data": {
      "text/html": [
       "<div>\n",
       "<style scoped>\n",
       "    .dataframe tbody tr th:only-of-type {\n",
       "        vertical-align: middle;\n",
       "    }\n",
       "\n",
       "    .dataframe tbody tr th {\n",
       "        vertical-align: top;\n",
       "    }\n",
       "\n",
       "    .dataframe thead th {\n",
       "        text-align: right;\n",
       "    }\n",
       "</style>\n",
       "<table border=\"1\" class=\"dataframe\">\n",
       "  <thead>\n",
       "    <tr style=\"text-align: right;\">\n",
       "      <th></th>\n",
       "      <th>family_status</th>\n",
       "      <th>sum_family_status</th>\n",
       "      <th>count_family_status</th>\n",
       "      <th>debt_ratio</th>\n",
       "    </tr>\n",
       "    <tr>\n",
       "      <th>family_status_id</th>\n",
       "      <th></th>\n",
       "      <th></th>\n",
       "      <th></th>\n",
       "      <th></th>\n",
       "    </tr>\n",
       "  </thead>\n",
       "  <tbody>\n",
       "    <tr>\n",
       "      <td>4</td>\n",
       "      <td>[Не женат / не замужем]</td>\n",
       "      <td>273</td>\n",
       "      <td>2799</td>\n",
       "      <td>9.753483</td>\n",
       "    </tr>\n",
       "    <tr>\n",
       "      <td>1</td>\n",
       "      <td>[гражданский брак]</td>\n",
       "      <td>385</td>\n",
       "      <td>4160</td>\n",
       "      <td>9.254808</td>\n",
       "    </tr>\n",
       "    <tr>\n",
       "      <td>0</td>\n",
       "      <td>[женат / замужем]</td>\n",
       "      <td>927</td>\n",
       "      <td>12302</td>\n",
       "      <td>7.535360</td>\n",
       "    </tr>\n",
       "    <tr>\n",
       "      <td>3</td>\n",
       "      <td>[в разводе]</td>\n",
       "      <td>84</td>\n",
       "      <td>1189</td>\n",
       "      <td>7.064760</td>\n",
       "    </tr>\n",
       "    <tr>\n",
       "      <td>2</td>\n",
       "      <td>[вдовец / вдова]</td>\n",
       "      <td>63</td>\n",
       "      <td>952</td>\n",
       "      <td>6.617647</td>\n",
       "    </tr>\n",
       "  </tbody>\n",
       "</table>\n",
       "</div>"
      ],
      "text/plain": [
       "                            family_status  sum_family_status  \\\n",
       "family_status_id                                               \n",
       "4                 [Не женат / не замужем]                273   \n",
       "1                      [гражданский брак]                385   \n",
       "0                       [женат / замужем]                927   \n",
       "3                             [в разводе]                 84   \n",
       "2                        [вдовец / вдова]                 63   \n",
       "\n",
       "                  count_family_status  debt_ratio  \n",
       "family_status_id                                   \n",
       "4                                2799    9.753483  \n",
       "1                                4160    9.254808  \n",
       "0                               12302    7.535360  \n",
       "3                                1189    7.064760  \n",
       "2                                 952    6.617647  "
      ]
     },
     "execution_count": 37,
     "metadata": {},
     "output_type": "execute_result"
    }
   ],
   "source": [
    "# создаём столбцы таблицы, 'family_status' беру из созданного мной датафрейма family_data\n",
    "\n",
    "family_stat_df = pd.DataFrame()\n",
    "\n",
    "family_stat_df['family_status'] = family_data.groupby('family_status_id')['family_status'].unique()\n",
    "\n",
    "family_stat_df['sum_family_status'] = data.groupby('family_status_id')['debt'].sum()\n",
    "family_stat_df['count_family_status'] = data.groupby('family_status_id')['debt'].count()\n",
    "family_stat_df['debt_ratio'] = family_stat_df['sum_family_status'] / family_stat_df['count_family_status'] * 100\n",
    "\n",
    "# сортируем по значению долга в порядке убывания\n",
    "\n",
    "family_stat_df.sort_values('debt_ratio', ascending = False)"
   ]
  },
  {
   "cell_type": "markdown",
   "id": "9d7bc112",
   "metadata": {},
   "source": [
    "#### Вывод 2:"
   ]
  },
  {
   "cell_type": "markdown",
   "id": "5d6b0a7e",
   "metadata": {},
   "source": [
    "Да, и такая зависимость есть: у людей, не вступивших в брак, доля просрочки самая большая. Скорее всего, это молодые люди, которые чаще меняют работу, отсюда и возможные задержки платежей.\n",
    "\n",
    "У разведённых и овдовевших самая небольшая просрочка, видимо, это опытные люди, и их финансовая дисциплина самая строгая.\n",
    "\n",
    "Люди в официальном браке в середине списка, рядом с ними те, кто в гражданском. Можно предположить, что муж/жена тоже помогает с кредитом, но и траты у этих категорий заёмщиков обычно выше."
   ]
  },
  {
   "cell_type": "markdown",
   "id": "f619868a",
   "metadata": {},
   "source": [
    "#### Вопрос 3: Есть ли зависимость между уровнем дохода и возвратом кредита в срок?"
   ]
  },
  {
   "cell_type": "code",
   "execution_count": 38,
   "id": "90115d24",
   "metadata": {
    "scrolled": true
   },
   "outputs": [
    {
     "data": {
      "text/html": [
       "<div>\n",
       "<style scoped>\n",
       "    .dataframe tbody tr th:only-of-type {\n",
       "        vertical-align: middle;\n",
       "    }\n",
       "\n",
       "    .dataframe tbody tr th {\n",
       "        vertical-align: top;\n",
       "    }\n",
       "\n",
       "    .dataframe thead tr th {\n",
       "        text-align: left;\n",
       "    }\n",
       "\n",
       "    .dataframe thead tr:last-of-type th {\n",
       "        text-align: right;\n",
       "    }\n",
       "</style>\n",
       "<table border=\"1\" class=\"dataframe\">\n",
       "  <thead>\n",
       "    <tr>\n",
       "      <th></th>\n",
       "      <th colspan=\"2\" halign=\"left\">debt</th>\n",
       "      <th>debt_ratio</th>\n",
       "    </tr>\n",
       "    <tr>\n",
       "      <th></th>\n",
       "      <th>sum</th>\n",
       "      <th>count</th>\n",
       "      <th></th>\n",
       "    </tr>\n",
       "    <tr>\n",
       "      <th>total_income_category</th>\n",
       "      <th></th>\n",
       "      <th></th>\n",
       "      <th></th>\n",
       "    </tr>\n",
       "  </thead>\n",
       "  <tbody>\n",
       "    <tr>\n",
       "      <td>E (0–30000)</td>\n",
       "      <td>2</td>\n",
       "      <td>22</td>\n",
       "      <td>9.090909</td>\n",
       "    </tr>\n",
       "    <tr>\n",
       "      <td>C (50001–200000)</td>\n",
       "      <td>1353</td>\n",
       "      <td>15992</td>\n",
       "      <td>8.460480</td>\n",
       "    </tr>\n",
       "    <tr>\n",
       "      <td>A (1000001+)</td>\n",
       "      <td>2</td>\n",
       "      <td>25</td>\n",
       "      <td>8.000000</td>\n",
       "    </tr>\n",
       "    <tr>\n",
       "      <td>B (200001–1000000)</td>\n",
       "      <td>354</td>\n",
       "      <td>5014</td>\n",
       "      <td>7.060231</td>\n",
       "    </tr>\n",
       "    <tr>\n",
       "      <td>D (30001–50000)</td>\n",
       "      <td>21</td>\n",
       "      <td>349</td>\n",
       "      <td>6.017192</td>\n",
       "    </tr>\n",
       "  </tbody>\n",
       "</table>\n",
       "</div>"
      ],
      "text/plain": [
       "                       debt        debt_ratio\n",
       "                        sum  count           \n",
       "total_income_category                        \n",
       "E (0–30000)               2     22   9.090909\n",
       "C (50001–200000)       1353  15992   8.460480\n",
       "A (1000001+)              2     25   8.000000\n",
       "B (200001–1000000)      354   5014   7.060231\n",
       "D (30001–50000)          21    349   6.017192"
      ]
     },
     "execution_count": 38,
     "metadata": {},
     "output_type": "execute_result"
    }
   ],
   "source": [
    "# столбцы новой таблицы\n",
    "\n",
    "income_cat_df = data.groupby(['total_income_category']).agg({'debt':['sum', 'count']})\n",
    "income_cat_df[('debt_ratio')] = income_cat_df[('debt', 'sum')] / income_cat_df[('debt', 'count')] * 100\n",
    "\n",
    "# всё так же сортируем по убыванию для наглядности\n",
    "\n",
    "income_cat_df.sort_values(['debt_ratio'], ascending = False)"
   ]
  },
  {
   "cell_type": "markdown",
   "id": "d87d2f00",
   "metadata": {},
   "source": [
    "#### Вывод 3:"
   ]
  },
  {
   "cell_type": "markdown",
   "id": "82b38525",
   "metadata": {},
   "source": [
    "А в этом случае зависимость минимальная, на мой взгляд. Подтверждается только очевидный факт, что просрочек больше всего у категории с самым низким доходом. А самая обеспеченная категория неожиданно оказалась ровно по центру. Возможно, это опять же особенность выборки нашего датасета."
   ]
  },
  {
   "cell_type": "markdown",
   "id": "c7942619",
   "metadata": {},
   "source": [
    "#### Вопрос 4: Как разные цели кредита влияют на его возврат в срок?"
   ]
  },
  {
   "cell_type": "code",
   "execution_count": 39,
   "id": "4bc72336",
   "metadata": {
    "scrolled": true
   },
   "outputs": [
    {
     "data": {
      "text/html": [
       "<div>\n",
       "<style scoped>\n",
       "    .dataframe tbody tr th:only-of-type {\n",
       "        vertical-align: middle;\n",
       "    }\n",
       "\n",
       "    .dataframe tbody tr th {\n",
       "        vertical-align: top;\n",
       "    }\n",
       "\n",
       "    .dataframe thead th {\n",
       "        text-align: right;\n",
       "    }\n",
       "</style>\n",
       "<table border=\"1\" class=\"dataframe\">\n",
       "  <thead>\n",
       "    <tr style=\"text-align: right;\">\n",
       "      <th></th>\n",
       "      <th>sum_purpose_cat</th>\n",
       "      <th>count_purpose_cat</th>\n",
       "      <th>debt_ratio</th>\n",
       "    </tr>\n",
       "    <tr>\n",
       "      <th>purpose_category</th>\n",
       "      <th></th>\n",
       "      <th></th>\n",
       "      <th></th>\n",
       "    </tr>\n",
       "  </thead>\n",
       "  <tbody>\n",
       "    <tr>\n",
       "      <td>операции с автомобилем</td>\n",
       "      <td>400</td>\n",
       "      <td>4288</td>\n",
       "      <td>9.328358</td>\n",
       "    </tr>\n",
       "    <tr>\n",
       "      <td>получение образования</td>\n",
       "      <td>369</td>\n",
       "      <td>3997</td>\n",
       "      <td>9.231924</td>\n",
       "    </tr>\n",
       "    <tr>\n",
       "      <td>проведение свадьбы</td>\n",
       "      <td>183</td>\n",
       "      <td>2337</td>\n",
       "      <td>7.830552</td>\n",
       "    </tr>\n",
       "    <tr>\n",
       "      <td>операции с недвижимостью</td>\n",
       "      <td>780</td>\n",
       "      <td>10780</td>\n",
       "      <td>7.235622</td>\n",
       "    </tr>\n",
       "  </tbody>\n",
       "</table>\n",
       "</div>"
      ],
      "text/plain": [
       "                          sum_purpose_cat  count_purpose_cat  debt_ratio\n",
       "purpose_category                                                        \n",
       "операции с автомобилем                400               4288    9.328358\n",
       "получение образования                 369               3997    9.231924\n",
       "проведение свадьбы                    183               2337    7.830552\n",
       "операции с недвижимостью              780              10780    7.235622"
      ]
     },
     "execution_count": 39,
     "metadata": {},
     "output_type": "execute_result"
    }
   ],
   "source": [
    "# столбцы новой таблицы\n",
    "\n",
    "purpose_cat_df = pd.DataFrame()\n",
    "\n",
    "purpose_cat_df['sum_purpose_cat'] = data.groupby('purpose_category')['debt'].sum()\n",
    "purpose_cat_df['count_purpose_cat'] = data.groupby('purpose_category')['debt'].count()\n",
    "\n",
    "purpose_cat_df['debt_ratio'] = purpose_cat_df['sum_purpose_cat'] / purpose_cat_df['count_purpose_cat'] * 100\n",
    "\n",
    "# всё так же сортируем по убыванию для наглядности\n",
    "\n",
    "purpose_cat_df.sort_values('debt_ratio', ascending = False)"
   ]
  },
  {
   "cell_type": "markdown",
   "id": "188a9407",
   "metadata": {},
   "source": [
    "#### Вывод 4:"
   ]
  },
  {
   "cell_type": "markdown",
   "id": "1ae652d2",
   "metadata": {},
   "source": [
    "Влияют по-разному. \n",
    "\n",
    "Операции с недвижимостью самая дорогая категория расходов, процент просрочек меньше, возможно потому, что это самая серьёзная и ответственная статья. Сдедовательно, к такому кредиту и выплатам должны основательно готовиться.\n",
    "\n",
    "\n",
    "Та же ситуация со свадьбой, такие мероприятия готовтся обычно заранее и детально просчитываются.\n",
    "\n",
    "\n",
    "Покупка автомобиля может быть эмоциональным решением, необдуманным, отсюда и возможные проблемы с выплатами."
   ]
  },
  {
   "cell_type": "markdown",
   "id": "1c6e325e",
   "metadata": {},
   "source": [
    "## Общий вывод:"
   ]
  },
  {
   "cell_type": "markdown",
   "id": "550dea9d",
   "metadata": {},
   "source": [
    "*Практический вывод:* В ходе работы над первым самостоятельным проектом нашли применение и были закреплены знания и навыки, необходимые каждому начинающему аналитику: чтение датафреймов, оценка поступивших данных, их предобработка, разнообразные операции - переименование, сортировка, создание новых столбцов, работа с функциями.\n",
    "\n",
    "Был получен новый ценный опыт самостоятельного анализа и интерпретации полученных данных для ответов на поставленные вопросы.\n",
    "\n",
    "*Вывод по итогам исследования:* были выявлены интересные взамосвязи между семейным статусом, наличием и количеством детей и возвратом кредита в срок. Благодаря им банк может разработать более гибкие и индивидуальные решения для проблемных категорий заёмщиков, например, меньшая процентная ставка (хотя это маловероятно), больший срок кредита (что более вероятно), уменьшение процента в случае досрочного или аккуратного погашения."
   ]
  }
 ],
 "metadata": {
  "ExecuteTimeLog": [
   {
    "duration": 870,
    "start_time": "2022-02-01T09:20:27.994Z"
   },
   {
    "duration": 31,
    "start_time": "2022-02-01T09:39:02.394Z"
   },
   {
    "duration": 19,
    "start_time": "2022-02-01T09:39:20.435Z"
   },
   {
    "duration": 17,
    "start_time": "2022-02-01T09:39:36.869Z"
   },
   {
    "duration": 20,
    "start_time": "2022-02-01T09:39:47.681Z"
   },
   {
    "duration": 608,
    "start_time": "2022-02-01T14:53:07.781Z"
   },
   {
    "duration": 10,
    "start_time": "2022-02-01T14:53:27.799Z"
   },
   {
    "duration": 18,
    "start_time": "2022-02-01T14:57:31.388Z"
   },
   {
    "duration": 385,
    "start_time": "2022-02-01T16:23:09.514Z"
   },
   {
    "duration": 10,
    "start_time": "2022-02-01T16:23:19.143Z"
   },
   {
    "duration": 298,
    "start_time": "2022-02-02T10:19:34.259Z"
   },
   {
    "duration": 677,
    "start_time": "2022-02-02T10:19:47.395Z"
   },
   {
    "duration": 11,
    "start_time": "2022-02-02T10:19:48.074Z"
   },
   {
    "duration": 30,
    "start_time": "2022-02-02T10:19:48.087Z"
   },
   {
    "duration": 13,
    "start_time": "2022-02-02T10:19:48.118Z"
   },
   {
    "duration": 26,
    "start_time": "2022-02-02T10:19:48.132Z"
   },
   {
    "duration": 6,
    "start_time": "2022-02-02T10:22:42.939Z"
   },
   {
    "duration": 4,
    "start_time": "2022-02-02T12:08:24.888Z"
   },
   {
    "duration": 4,
    "start_time": "2022-02-02T12:08:28.759Z"
   },
   {
    "duration": 50,
    "start_time": "2022-02-02T12:08:32.288Z"
   },
   {
    "duration": 11,
    "start_time": "2022-02-02T12:08:32.340Z"
   },
   {
    "duration": 15,
    "start_time": "2022-02-02T12:08:32.354Z"
   },
   {
    "duration": 38,
    "start_time": "2022-02-02T12:08:32.371Z"
   },
   {
    "duration": 6,
    "start_time": "2022-02-02T12:08:32.411Z"
   },
   {
    "duration": 7,
    "start_time": "2022-02-02T12:08:32.419Z"
   },
   {
    "duration": 5,
    "start_time": "2022-02-02T12:08:51.235Z"
   },
   {
    "duration": 4,
    "start_time": "2022-02-02T12:08:54.499Z"
   },
   {
    "duration": 5,
    "start_time": "2022-02-02T12:09:16.635Z"
   },
   {
    "duration": 5,
    "start_time": "2022-02-02T12:09:47.625Z"
   },
   {
    "duration": 4,
    "start_time": "2022-02-02T12:09:55.900Z"
   },
   {
    "duration": 6,
    "start_time": "2022-02-02T12:10:13.819Z"
   },
   {
    "duration": 5,
    "start_time": "2022-02-02T12:10:54.034Z"
   },
   {
    "duration": 5,
    "start_time": "2022-02-02T12:10:56.614Z"
   },
   {
    "duration": 5,
    "start_time": "2022-02-02T12:20:10.007Z"
   },
   {
    "duration": 11,
    "start_time": "2022-02-02T12:20:32.042Z"
   },
   {
    "duration": 6,
    "start_time": "2022-02-02T12:22:02.931Z"
   },
   {
    "duration": 10,
    "start_time": "2022-02-02T12:22:06.494Z"
   },
   {
    "duration": 19,
    "start_time": "2022-02-02T12:25:01.515Z"
   },
   {
    "duration": 331,
    "start_time": "2022-02-02T12:27:21.060Z"
   },
   {
    "duration": 267,
    "start_time": "2022-02-02T12:28:05.719Z"
   },
   {
    "duration": 256,
    "start_time": "2022-02-02T12:29:49.591Z"
   },
   {
    "duration": 273,
    "start_time": "2022-02-02T12:31:09.591Z"
   },
   {
    "duration": 253,
    "start_time": "2022-02-02T12:48:58.823Z"
   },
   {
    "duration": 260,
    "start_time": "2022-02-02T12:49:04.143Z"
   },
   {
    "duration": 34,
    "start_time": "2022-02-02T12:49:15.867Z"
   },
   {
    "duration": 50,
    "start_time": "2022-02-02T12:49:38.318Z"
   },
   {
    "duration": 6,
    "start_time": "2022-02-02T12:51:00.573Z"
   },
   {
    "duration": 6,
    "start_time": "2022-02-02T12:51:11.979Z"
   },
   {
    "duration": 7,
    "start_time": "2022-02-02T12:51:22.287Z"
   },
   {
    "duration": 8,
    "start_time": "2022-02-02T12:51:32.929Z"
   },
   {
    "duration": 5,
    "start_time": "2022-02-02T12:52:12.962Z"
   },
   {
    "duration": 8,
    "start_time": "2022-02-02T12:52:28.715Z"
   },
   {
    "duration": 276,
    "start_time": "2022-02-02T12:52:48.463Z"
   },
   {
    "duration": 6,
    "start_time": "2022-02-02T12:52:54.246Z"
   },
   {
    "duration": 5,
    "start_time": "2022-02-02T12:53:29.113Z"
   },
   {
    "duration": 6,
    "start_time": "2022-02-02T12:53:38.010Z"
   },
   {
    "duration": 8,
    "start_time": "2022-02-02T12:54:00.675Z"
   },
   {
    "duration": 5,
    "start_time": "2022-02-02T12:54:27.994Z"
   },
   {
    "duration": 6,
    "start_time": "2022-02-02T12:54:49.032Z"
   },
   {
    "duration": 37,
    "start_time": "2022-02-02T13:05:14.345Z"
   },
   {
    "duration": 45,
    "start_time": "2022-02-02T13:25:30.358Z"
   },
   {
    "duration": 283,
    "start_time": "2022-02-02T14:25:40.243Z"
   },
   {
    "duration": 330,
    "start_time": "2022-02-02T14:25:47.037Z"
   },
   {
    "duration": 319,
    "start_time": "2022-02-02T14:26:10.850Z"
   },
   {
    "duration": 105,
    "start_time": "2022-02-04T12:59:12.129Z"
   },
   {
    "duration": 89,
    "start_time": "2022-02-04T12:59:26.860Z"
   },
   {
    "duration": 86,
    "start_time": "2022-02-04T13:01:56.291Z"
   },
   {
    "duration": 128,
    "start_time": "2022-02-04T13:02:00.677Z"
   },
   {
    "duration": 14,
    "start_time": "2022-02-04T13:02:34.111Z"
   },
   {
    "duration": 78,
    "start_time": "2022-02-04T13:04:20.222Z"
   },
   {
    "duration": 89,
    "start_time": "2022-02-04T13:04:45.370Z"
   },
   {
    "duration": 6,
    "start_time": "2022-02-04T13:05:04.313Z"
   },
   {
    "duration": 4,
    "start_time": "2022-02-04T13:05:41.732Z"
   },
   {
    "duration": 6,
    "start_time": "2022-02-04T13:05:49.112Z"
   },
   {
    "duration": 87,
    "start_time": "2022-02-04T13:06:15.067Z"
   },
   {
    "duration": 4,
    "start_time": "2022-02-04T13:06:25.460Z"
   },
   {
    "duration": 4,
    "start_time": "2022-02-04T13:06:44.827Z"
   },
   {
    "duration": 5,
    "start_time": "2022-02-04T13:06:53.327Z"
   },
   {
    "duration": 5,
    "start_time": "2022-02-04T13:08:13.762Z"
   },
   {
    "duration": 5,
    "start_time": "2022-02-04T13:08:37.258Z"
   },
   {
    "duration": 5,
    "start_time": "2022-02-04T13:08:44.666Z"
   },
   {
    "duration": 5,
    "start_time": "2022-02-04T13:08:55.074Z"
   },
   {
    "duration": 174,
    "start_time": "2022-02-04T13:10:24.114Z"
   },
   {
    "duration": 82,
    "start_time": "2022-02-04T13:10:37.105Z"
   },
   {
    "duration": 5,
    "start_time": "2022-02-04T13:10:45.913Z"
   },
   {
    "duration": 294,
    "start_time": "2022-02-04T13:11:44.003Z"
   },
   {
    "duration": 5,
    "start_time": "2022-02-04T13:11:57.047Z"
   },
   {
    "duration": 5,
    "start_time": "2022-02-04T13:12:05.507Z"
   },
   {
    "duration": 4,
    "start_time": "2022-02-04T13:12:21.596Z"
   },
   {
    "duration": 254,
    "start_time": "2022-02-04T13:12:27.563Z"
   },
   {
    "duration": 5,
    "start_time": "2022-02-04T13:12:31.556Z"
   },
   {
    "duration": 255,
    "start_time": "2022-02-04T13:12:37.710Z"
   },
   {
    "duration": 4,
    "start_time": "2022-02-04T13:12:44.337Z"
   },
   {
    "duration": 4,
    "start_time": "2022-02-04T13:13:19.940Z"
   },
   {
    "duration": 4,
    "start_time": "2022-02-04T13:13:55.212Z"
   },
   {
    "duration": 5,
    "start_time": "2022-02-04T13:14:08.012Z"
   },
   {
    "duration": 5,
    "start_time": "2022-02-04T13:14:13.262Z"
   },
   {
    "duration": 4,
    "start_time": "2022-02-04T13:16:14.350Z"
   },
   {
    "duration": 4,
    "start_time": "2022-02-04T13:16:46.165Z"
   },
   {
    "duration": 5,
    "start_time": "2022-02-04T13:17:30.728Z"
   },
   {
    "duration": 4,
    "start_time": "2022-02-04T13:18:38.304Z"
   },
   {
    "duration": 4,
    "start_time": "2022-02-04T13:18:53.415Z"
   },
   {
    "duration": 83,
    "start_time": "2022-02-04T13:19:04.462Z"
   },
   {
    "duration": 82,
    "start_time": "2022-02-04T13:19:16.767Z"
   },
   {
    "duration": 81,
    "start_time": "2022-02-04T13:19:33.996Z"
   },
   {
    "duration": 113,
    "start_time": "2022-02-04T13:19:45.025Z"
   },
   {
    "duration": 96,
    "start_time": "2022-02-04T13:19:50.327Z"
   },
   {
    "duration": 80,
    "start_time": "2022-02-04T13:20:17.576Z"
   },
   {
    "duration": 90,
    "start_time": "2022-02-04T13:20:31.508Z"
   },
   {
    "duration": 5,
    "start_time": "2022-02-04T13:20:53.438Z"
   },
   {
    "duration": 4,
    "start_time": "2022-02-04T13:20:59.452Z"
   },
   {
    "duration": 4,
    "start_time": "2022-02-04T13:21:25.623Z"
   },
   {
    "duration": 5,
    "start_time": "2022-02-04T13:21:32.784Z"
   },
   {
    "duration": 4,
    "start_time": "2022-02-04T13:33:57.192Z"
   },
   {
    "duration": 4,
    "start_time": "2022-02-04T13:34:04.164Z"
   },
   {
    "duration": 6,
    "start_time": "2022-02-04T13:34:10.934Z"
   },
   {
    "duration": 251,
    "start_time": "2022-02-04T13:34:15.731Z"
   },
   {
    "duration": 5,
    "start_time": "2022-02-04T13:34:31.696Z"
   },
   {
    "duration": 5,
    "start_time": "2022-02-04T13:34:42.944Z"
   },
   {
    "duration": 5,
    "start_time": "2022-02-04T13:34:48.164Z"
   },
   {
    "duration": 4,
    "start_time": "2022-02-04T13:34:58.861Z"
   },
   {
    "duration": 250,
    "start_time": "2022-02-04T13:35:06.312Z"
   },
   {
    "duration": 87,
    "start_time": "2022-02-04T13:35:27.498Z"
   },
   {
    "duration": 5,
    "start_time": "2022-02-04T13:35:33.068Z"
   },
   {
    "duration": 269,
    "start_time": "2022-02-04T13:35:42.078Z"
   },
   {
    "duration": 5,
    "start_time": "2022-02-04T13:35:51.178Z"
   },
   {
    "duration": 3,
    "start_time": "2022-02-04T13:36:31.124Z"
   },
   {
    "duration": 5,
    "start_time": "2022-02-04T13:36:38.485Z"
   },
   {
    "duration": 5,
    "start_time": "2022-02-04T13:36:42.971Z"
   },
   {
    "duration": 4,
    "start_time": "2022-02-04T13:36:50.023Z"
   },
   {
    "duration": 5,
    "start_time": "2022-02-04T13:38:53.083Z"
   },
   {
    "duration": 5,
    "start_time": "2022-02-04T13:40:11.006Z"
   },
   {
    "duration": 4,
    "start_time": "2022-02-04T13:40:19.752Z"
   },
   {
    "duration": 4,
    "start_time": "2022-02-04T13:40:27.209Z"
   },
   {
    "duration": 4,
    "start_time": "2022-02-04T13:40:41.393Z"
   },
   {
    "duration": 4,
    "start_time": "2022-02-04T13:41:07.298Z"
   },
   {
    "duration": 3,
    "start_time": "2022-02-04T14:23:44.691Z"
   },
   {
    "duration": 3,
    "start_time": "2022-02-04T14:24:39.324Z"
   },
   {
    "duration": 250,
    "start_time": "2022-02-04T14:35:10.915Z"
   },
   {
    "duration": 758,
    "start_time": "2022-02-04T14:35:19.699Z"
   },
   {
    "duration": 13,
    "start_time": "2022-02-04T14:35:20.459Z"
   },
   {
    "duration": 31,
    "start_time": "2022-02-04T14:35:20.475Z"
   },
   {
    "duration": 45,
    "start_time": "2022-02-04T14:35:20.508Z"
   },
   {
    "duration": 10,
    "start_time": "2022-02-04T14:35:20.555Z"
   },
   {
    "duration": 8,
    "start_time": "2022-02-04T14:35:20.567Z"
   },
   {
    "duration": 13,
    "start_time": "2022-02-04T14:35:20.577Z"
   },
   {
    "duration": 16,
    "start_time": "2022-02-04T14:35:20.593Z"
   },
   {
    "duration": 5,
    "start_time": "2022-02-04T14:35:20.612Z"
   },
   {
    "duration": 15,
    "start_time": "2022-02-04T14:35:20.619Z"
   },
   {
    "duration": 12,
    "start_time": "2022-02-04T14:35:20.636Z"
   },
   {
    "duration": 10,
    "start_time": "2022-02-04T14:35:28.912Z"
   },
   {
    "duration": 18,
    "start_time": "2022-02-04T14:36:36.462Z"
   },
   {
    "duration": 16,
    "start_time": "2022-02-04T14:51:21.467Z"
   },
   {
    "duration": 291,
    "start_time": "2022-02-04T15:00:43.340Z"
   },
   {
    "duration": 4,
    "start_time": "2022-02-04T15:00:57.442Z"
   },
   {
    "duration": 5,
    "start_time": "2022-02-04T15:01:38.886Z"
   },
   {
    "duration": 5,
    "start_time": "2022-02-04T15:03:50.048Z"
   },
   {
    "duration": 10,
    "start_time": "2022-02-04T15:42:49.261Z"
   },
   {
    "duration": 427,
    "start_time": "2022-02-04T15:45:13.472Z"
   },
   {
    "duration": 332,
    "start_time": "2022-02-04T15:45:23.929Z"
   },
   {
    "duration": 10,
    "start_time": "2022-02-04T15:45:42.191Z"
   },
   {
    "duration": 9,
    "start_time": "2022-02-04T15:45:56.133Z"
   },
   {
    "duration": 11,
    "start_time": "2022-02-04T15:47:07.738Z"
   },
   {
    "duration": 9,
    "start_time": "2022-02-04T15:47:21.193Z"
   },
   {
    "duration": 3,
    "start_time": "2022-02-04T15:50:17.450Z"
   },
   {
    "duration": 13,
    "start_time": "2022-02-04T15:50:53.357Z"
   },
   {
    "duration": 3,
    "start_time": "2022-02-04T15:51:21.216Z"
   },
   {
    "duration": 11,
    "start_time": "2022-02-04T15:51:30.240Z"
   },
   {
    "duration": 8,
    "start_time": "2022-02-04T15:54:27.008Z"
   },
   {
    "duration": 9,
    "start_time": "2022-02-04T15:57:37.989Z"
   },
   {
    "duration": 9,
    "start_time": "2022-02-04T16:15:54.932Z"
   },
   {
    "duration": 8,
    "start_time": "2022-02-04T16:16:42.105Z"
   },
   {
    "duration": 16,
    "start_time": "2022-02-04T16:17:29.661Z"
   },
   {
    "duration": 9,
    "start_time": "2022-02-04T16:18:37.765Z"
   },
   {
    "duration": 5,
    "start_time": "2022-02-04T16:32:28.573Z"
   },
   {
    "duration": 423,
    "start_time": "2022-02-04T17:13:16.472Z"
   },
   {
    "duration": 9,
    "start_time": "2022-02-04T17:13:30.005Z"
   },
   {
    "duration": 4,
    "start_time": "2022-02-04T17:13:43.584Z"
   },
   {
    "duration": 719,
    "start_time": "2022-02-04T17:14:42.711Z"
   },
   {
    "duration": 710,
    "start_time": "2022-02-04T17:14:53.792Z"
   },
   {
    "duration": 698,
    "start_time": "2022-02-04T17:16:06.456Z"
   },
   {
    "duration": 285,
    "start_time": "2022-02-04T17:20:42.154Z"
   },
   {
    "duration": 693,
    "start_time": "2022-02-04T17:20:59.515Z"
   },
   {
    "duration": 722,
    "start_time": "2022-02-04T18:30:26.326Z"
   },
   {
    "duration": 754,
    "start_time": "2022-02-04T18:30:31.917Z"
   },
   {
    "duration": 14,
    "start_time": "2022-02-04T18:38:31.225Z"
   },
   {
    "duration": 325,
    "start_time": "2022-02-04T18:39:06.847Z"
   },
   {
    "duration": 248,
    "start_time": "2022-02-04T18:44:11.805Z"
   },
   {
    "duration": 9,
    "start_time": "2022-02-04T18:45:49.134Z"
   },
   {
    "duration": 5,
    "start_time": "2022-02-04T18:46:12.878Z"
   },
   {
    "duration": 4,
    "start_time": "2022-02-04T18:47:05.751Z"
   },
   {
    "duration": 458,
    "start_time": "2022-02-04T19:17:30.472Z"
   },
   {
    "duration": 80,
    "start_time": "2022-02-04T19:17:41.272Z"
   },
   {
    "duration": 4,
    "start_time": "2022-02-04T19:17:45.221Z"
   },
   {
    "duration": 337,
    "start_time": "2022-02-05T13:43:12.029Z"
   },
   {
    "duration": 821,
    "start_time": "2022-02-05T13:43:28.233Z"
   },
   {
    "duration": 16,
    "start_time": "2022-02-05T13:43:29.057Z"
   },
   {
    "duration": 31,
    "start_time": "2022-02-05T13:43:29.077Z"
   },
   {
    "duration": 47,
    "start_time": "2022-02-05T13:43:29.133Z"
   },
   {
    "duration": 12,
    "start_time": "2022-02-05T13:43:29.183Z"
   },
   {
    "duration": 39,
    "start_time": "2022-02-05T13:43:29.198Z"
   },
   {
    "duration": 16,
    "start_time": "2022-02-05T13:43:29.240Z"
   },
   {
    "duration": 15,
    "start_time": "2022-02-05T13:43:29.260Z"
   },
   {
    "duration": 11,
    "start_time": "2022-02-05T13:43:29.278Z"
   },
   {
    "duration": 15,
    "start_time": "2022-02-05T13:43:29.291Z"
   },
   {
    "duration": 33,
    "start_time": "2022-02-05T13:43:29.308Z"
   },
   {
    "duration": 21,
    "start_time": "2022-02-05T13:43:29.343Z"
   },
   {
    "duration": 25,
    "start_time": "2022-02-05T13:43:29.367Z"
   },
   {
    "duration": 12,
    "start_time": "2022-02-05T13:43:29.394Z"
   },
   {
    "duration": 14,
    "start_time": "2022-02-05T13:43:29.408Z"
   },
   {
    "duration": 15,
    "start_time": "2022-02-05T13:43:29.432Z"
   },
   {
    "duration": 16,
    "start_time": "2022-02-05T13:43:29.449Z"
   },
   {
    "duration": 9,
    "start_time": "2022-02-05T13:43:29.467Z"
   },
   {
    "duration": 9,
    "start_time": "2022-02-05T13:43:29.478Z"
   },
   {
    "duration": 43,
    "start_time": "2022-02-05T13:43:29.490Z"
   },
   {
    "duration": 5185,
    "start_time": "2022-02-05T13:43:29.535Z"
   },
   {
    "duration": 5114,
    "start_time": "2022-02-05T13:44:37.552Z"
   },
   {
    "duration": 4799,
    "start_time": "2022-02-05T13:45:02.793Z"
   },
   {
    "duration": 11,
    "start_time": "2022-02-05T13:45:36.500Z"
   },
   {
    "duration": 5784,
    "start_time": "2022-02-05T13:48:46.033Z"
   },
   {
    "duration": 749,
    "start_time": "2022-02-05T15:03:27.442Z"
   },
   {
    "duration": 281,
    "start_time": "2022-02-05T15:06:32.170Z"
   },
   {
    "duration": 17,
    "start_time": "2022-02-05T15:06:43.712Z"
   },
   {
    "duration": 8,
    "start_time": "2022-02-05T15:08:04.952Z"
   },
   {
    "duration": 12,
    "start_time": "2022-02-05T15:08:07.994Z"
   },
   {
    "duration": 15,
    "start_time": "2022-02-05T15:10:21.370Z"
   },
   {
    "duration": 16,
    "start_time": "2022-02-05T15:10:29.924Z"
   },
   {
    "duration": 14,
    "start_time": "2022-02-05T15:11:18.757Z"
   },
   {
    "duration": 3,
    "start_time": "2022-02-05T15:16:46.326Z"
   },
   {
    "duration": 10,
    "start_time": "2022-02-05T15:34:27.915Z"
   },
   {
    "duration": 9,
    "start_time": "2022-02-05T15:35:38.528Z"
   },
   {
    "duration": 14,
    "start_time": "2022-02-05T15:36:00.329Z"
   },
   {
    "duration": 17,
    "start_time": "2022-02-05T15:36:13.653Z"
   },
   {
    "duration": 87,
    "start_time": "2022-02-05T15:38:16.932Z"
   },
   {
    "duration": 4981,
    "start_time": "2022-02-05T15:51:27.509Z"
   },
   {
    "duration": 11,
    "start_time": "2022-02-05T15:51:42.348Z"
   },
   {
    "duration": 82,
    "start_time": "2022-02-05T16:38:29.473Z"
   },
   {
    "duration": 35,
    "start_time": "2022-02-05T16:38:52.469Z"
   },
   {
    "duration": 37,
    "start_time": "2022-02-05T16:41:09.331Z"
   },
   {
    "duration": 37,
    "start_time": "2022-02-05T16:41:39.499Z"
   },
   {
    "duration": 36,
    "start_time": "2022-02-05T16:43:16.116Z"
   },
   {
    "duration": 34,
    "start_time": "2022-02-05T16:44:14.747Z"
   },
   {
    "duration": 32,
    "start_time": "2022-02-05T16:44:38.876Z"
   },
   {
    "duration": 33,
    "start_time": "2022-02-05T16:50:16.397Z"
   },
   {
    "duration": 35,
    "start_time": "2022-02-05T16:50:28.014Z"
   },
   {
    "duration": 85,
    "start_time": "2022-02-05T16:51:22.917Z"
   },
   {
    "duration": 34,
    "start_time": "2022-02-05T16:51:46.872Z"
   },
   {
    "duration": 34,
    "start_time": "2022-02-05T17:16:17.862Z"
   },
   {
    "duration": 68,
    "start_time": "2022-02-05T17:17:42.641Z"
   },
   {
    "duration": 32,
    "start_time": "2022-02-05T17:18:15.866Z"
   },
   {
    "duration": 8,
    "start_time": "2022-02-05T17:18:52.652Z"
   },
   {
    "duration": 10,
    "start_time": "2022-02-05T18:13:41.944Z"
   },
   {
    "duration": 7,
    "start_time": "2022-02-05T19:22:40.641Z"
   },
   {
    "duration": 86,
    "start_time": "2022-02-05T19:23:56.747Z"
   },
   {
    "duration": 76,
    "start_time": "2022-02-05T19:24:03.439Z"
   },
   {
    "duration": 103,
    "start_time": "2022-02-05T19:24:09.363Z"
   },
   {
    "duration": 249,
    "start_time": "2022-02-05T19:24:21.950Z"
   },
   {
    "duration": 6,
    "start_time": "2022-02-05T19:24:35.117Z"
   },
   {
    "duration": 5,
    "start_time": "2022-02-05T19:24:42.172Z"
   },
   {
    "duration": 6,
    "start_time": "2022-02-05T19:25:18.434Z"
   },
   {
    "duration": 256,
    "start_time": "2022-02-05T19:25:34.732Z"
   },
   {
    "duration": 5,
    "start_time": "2022-02-05T19:25:42.348Z"
   },
   {
    "duration": 122,
    "start_time": "2022-02-05T19:42:40.491Z"
   },
   {
    "duration": 5,
    "start_time": "2022-02-05T19:42:43.111Z"
   },
   {
    "duration": 6,
    "start_time": "2022-02-05T19:43:23.518Z"
   },
   {
    "duration": 4,
    "start_time": "2022-02-05T19:43:36.800Z"
   },
   {
    "duration": 6,
    "start_time": "2022-02-05T19:44:30.506Z"
   },
   {
    "duration": 231,
    "start_time": "2022-02-05T19:45:20.030Z"
   },
   {
    "duration": 6,
    "start_time": "2022-02-05T19:45:37.758Z"
   },
   {
    "duration": 6,
    "start_time": "2022-02-05T19:45:55.680Z"
   },
   {
    "duration": 5,
    "start_time": "2022-02-05T19:46:20.219Z"
   },
   {
    "duration": 94,
    "start_time": "2022-02-05T19:46:24.301Z"
   },
   {
    "duration": 225,
    "start_time": "2022-02-05T19:46:28.305Z"
   },
   {
    "duration": 80,
    "start_time": "2022-02-05T19:46:32.824Z"
   },
   {
    "duration": 78,
    "start_time": "2022-02-05T19:46:43.262Z"
   },
   {
    "duration": 82,
    "start_time": "2022-02-05T19:46:46.858Z"
   },
   {
    "duration": 5,
    "start_time": "2022-02-05T19:46:58.909Z"
   },
   {
    "duration": 89,
    "start_time": "2022-02-05T19:47:02.291Z"
   },
   {
    "duration": 5,
    "start_time": "2022-02-05T19:54:59.849Z"
   },
   {
    "duration": 5,
    "start_time": "2022-02-05T19:55:31.909Z"
   },
   {
    "duration": 6,
    "start_time": "2022-02-05T19:56:49.295Z"
   },
   {
    "duration": 5,
    "start_time": "2022-02-05T19:57:30.197Z"
   },
   {
    "duration": 82,
    "start_time": "2022-02-05T19:57:58.120Z"
   },
   {
    "duration": 6,
    "start_time": "2022-02-05T19:58:02.742Z"
   },
   {
    "duration": 6,
    "start_time": "2022-02-05T19:58:41.010Z"
   },
   {
    "duration": 6,
    "start_time": "2022-02-05T19:59:06.821Z"
   },
   {
    "duration": 5,
    "start_time": "2022-02-05T19:59:42.333Z"
   },
   {
    "duration": 5,
    "start_time": "2022-02-05T19:59:52.542Z"
   },
   {
    "duration": 6,
    "start_time": "2022-02-05T20:00:07.964Z"
   },
   {
    "duration": 5,
    "start_time": "2022-02-05T20:00:29.502Z"
   },
   {
    "duration": 6,
    "start_time": "2022-02-05T20:01:08.576Z"
   },
   {
    "duration": 5,
    "start_time": "2022-02-05T20:01:49.362Z"
   },
   {
    "duration": 5,
    "start_time": "2022-02-05T20:02:05.236Z"
   },
   {
    "duration": 5,
    "start_time": "2022-02-05T20:02:10.141Z"
   },
   {
    "duration": 6,
    "start_time": "2022-02-05T20:02:37.668Z"
   },
   {
    "duration": 5,
    "start_time": "2022-02-05T20:02:44.120Z"
   },
   {
    "duration": 6,
    "start_time": "2022-02-05T20:03:01.647Z"
   },
   {
    "duration": 5,
    "start_time": "2022-02-05T20:03:15.908Z"
   },
   {
    "duration": 6,
    "start_time": "2022-02-05T20:03:20.685Z"
   },
   {
    "duration": 6,
    "start_time": "2022-02-05T20:04:45.963Z"
   },
   {
    "duration": 6,
    "start_time": "2022-02-05T20:09:51.489Z"
   },
   {
    "duration": 256,
    "start_time": "2022-02-05T20:09:58.851Z"
   },
   {
    "duration": 5,
    "start_time": "2022-02-05T20:10:06.570Z"
   },
   {
    "duration": 263,
    "start_time": "2022-02-05T20:10:23.462Z"
   },
   {
    "duration": 5,
    "start_time": "2022-02-05T20:10:28.199Z"
   },
   {
    "duration": 6,
    "start_time": "2022-02-05T20:10:33.743Z"
   },
   {
    "duration": 6,
    "start_time": "2022-02-05T20:11:06.734Z"
   },
   {
    "duration": 6,
    "start_time": "2022-02-05T20:22:54.410Z"
   },
   {
    "duration": 10,
    "start_time": "2022-02-05T20:23:53.021Z"
   },
   {
    "duration": 5,
    "start_time": "2022-02-05T20:45:23.257Z"
   },
   {
    "duration": 314,
    "start_time": "2022-02-06T08:54:51.501Z"
   },
   {
    "duration": 767,
    "start_time": "2022-02-06T08:54:55.555Z"
   },
   {
    "duration": 15,
    "start_time": "2022-02-06T08:54:56.325Z"
   },
   {
    "duration": 31,
    "start_time": "2022-02-06T08:54:56.343Z"
   },
   {
    "duration": 73,
    "start_time": "2022-02-06T08:54:56.376Z"
   },
   {
    "duration": 11,
    "start_time": "2022-02-06T08:54:56.451Z"
   },
   {
    "duration": 8,
    "start_time": "2022-02-06T08:54:56.465Z"
   },
   {
    "duration": 7,
    "start_time": "2022-02-06T08:54:56.475Z"
   },
   {
    "duration": 7,
    "start_time": "2022-02-06T08:54:56.485Z"
   },
   {
    "duration": 7,
    "start_time": "2022-02-06T08:54:56.534Z"
   },
   {
    "duration": 15,
    "start_time": "2022-02-06T08:54:56.543Z"
   },
   {
    "duration": 16,
    "start_time": "2022-02-06T08:54:56.560Z"
   },
   {
    "duration": 60,
    "start_time": "2022-02-06T08:54:56.578Z"
   },
   {
    "duration": 10,
    "start_time": "2022-02-06T08:54:56.641Z"
   },
   {
    "duration": 5,
    "start_time": "2022-02-06T08:54:56.653Z"
   },
   {
    "duration": 5,
    "start_time": "2022-02-06T08:54:56.661Z"
   },
   {
    "duration": 6,
    "start_time": "2022-02-06T08:54:56.668Z"
   },
   {
    "duration": 58,
    "start_time": "2022-02-06T08:54:56.676Z"
   },
   {
    "duration": 17,
    "start_time": "2022-02-06T08:54:56.737Z"
   },
   {
    "duration": 12,
    "start_time": "2022-02-06T08:54:56.757Z"
   },
   {
    "duration": 7,
    "start_time": "2022-02-06T08:54:56.772Z"
   },
   {
    "duration": 8,
    "start_time": "2022-02-06T08:54:56.782Z"
   },
   {
    "duration": 13,
    "start_time": "2022-02-06T08:54:56.834Z"
   },
   {
    "duration": 5029,
    "start_time": "2022-02-06T08:54:56.854Z"
   },
   {
    "duration": 11,
    "start_time": "2022-02-06T08:55:01.887Z"
   },
   {
    "duration": 38,
    "start_time": "2022-02-06T08:55:01.901Z"
   },
   {
    "duration": 18,
    "start_time": "2022-02-06T08:55:01.942Z"
   },
   {
    "duration": 14,
    "start_time": "2022-02-06T08:55:01.963Z"
   },
   {
    "duration": 11,
    "start_time": "2022-02-06T08:55:01.980Z"
   },
   {
    "duration": 37,
    "start_time": "2022-02-06T08:55:02.033Z"
   },
   {
    "duration": 4,
    "start_time": "2022-02-06T08:55:02.073Z"
   },
   {
    "duration": 13,
    "start_time": "2022-02-06T08:55:02.080Z"
   },
   {
    "duration": 7,
    "start_time": "2022-02-06T08:55:17.298Z"
   },
   {
    "duration": 5,
    "start_time": "2022-02-06T08:56:03.204Z"
   },
   {
    "duration": 5,
    "start_time": "2022-02-06T08:57:44.151Z"
   },
   {
    "duration": 80,
    "start_time": "2022-02-06T08:59:05.647Z"
   },
   {
    "duration": 273,
    "start_time": "2022-02-06T08:59:21.407Z"
   },
   {
    "duration": 5,
    "start_time": "2022-02-06T08:59:40.841Z"
   },
   {
    "duration": 5,
    "start_time": "2022-02-06T08:59:52.691Z"
   },
   {
    "duration": 80,
    "start_time": "2022-02-06T09:00:00.798Z"
   },
   {
    "duration": 5,
    "start_time": "2022-02-06T09:00:20.664Z"
   },
   {
    "duration": 5,
    "start_time": "2022-02-06T09:00:27.795Z"
   },
   {
    "duration": 5,
    "start_time": "2022-02-06T09:00:35.526Z"
   },
   {
    "duration": 5,
    "start_time": "2022-02-06T09:01:20.933Z"
   },
   {
    "duration": 5,
    "start_time": "2022-02-06T09:01:54.927Z"
   },
   {
    "duration": 38,
    "start_time": "2022-02-06T09:10:07.818Z"
   },
   {
    "duration": 32,
    "start_time": "2022-02-06T09:11:28.448Z"
   },
   {
    "duration": 7,
    "start_time": "2022-02-06T09:11:50.010Z"
   },
   {
    "duration": 7,
    "start_time": "2022-02-06T09:11:55.847Z"
   },
   {
    "duration": 33,
    "start_time": "2022-02-06T09:12:02.707Z"
   },
   {
    "duration": 34,
    "start_time": "2022-02-06T09:14:22.934Z"
   },
   {
    "duration": 36,
    "start_time": "2022-02-06T09:14:45.944Z"
   },
   {
    "duration": 252,
    "start_time": "2022-02-06T09:16:37.480Z"
   },
   {
    "duration": 17,
    "start_time": "2022-02-06T13:49:49.032Z"
   },
   {
    "duration": 17,
    "start_time": "2022-02-06T13:50:04.745Z"
   },
   {
    "duration": 17,
    "start_time": "2022-02-06T13:55:42.524Z"
   },
   {
    "duration": 8,
    "start_time": "2022-02-06T13:57:44.951Z"
   },
   {
    "duration": 9,
    "start_time": "2022-02-06T14:02:19.719Z"
   },
   {
    "duration": 8,
    "start_time": "2022-02-06T14:02:33.610Z"
   },
   {
    "duration": 8,
    "start_time": "2022-02-06T14:02:37.939Z"
   },
   {
    "duration": 12,
    "start_time": "2022-02-06T14:03:55.797Z"
   },
   {
    "duration": 25,
    "start_time": "2022-02-06T14:05:55.248Z"
   },
   {
    "duration": 8,
    "start_time": "2022-02-06T14:06:27.699Z"
   },
   {
    "duration": 25,
    "start_time": "2022-02-06T14:06:40.965Z"
   },
   {
    "duration": 8,
    "start_time": "2022-02-06T14:06:57.962Z"
   },
   {
    "duration": 91,
    "start_time": "2022-02-06T14:53:18.952Z"
   },
   {
    "duration": 80,
    "start_time": "2022-02-06T14:53:37.243Z"
   },
   {
    "duration": 84,
    "start_time": "2022-02-06T14:53:54.858Z"
   },
   {
    "duration": 10,
    "start_time": "2022-02-06T14:54:33.151Z"
   },
   {
    "duration": 15,
    "start_time": "2022-02-06T14:54:56.877Z"
   },
   {
    "duration": 19,
    "start_time": "2022-02-06T14:55:42.231Z"
   },
   {
    "duration": 272,
    "start_time": "2022-02-06T16:14:13.014Z"
   },
   {
    "duration": 26,
    "start_time": "2022-02-06T16:14:24.847Z"
   },
   {
    "duration": 20,
    "start_time": "2022-02-06T16:15:30.100Z"
   },
   {
    "duration": 3,
    "start_time": "2022-02-06T16:24:26.667Z"
   },
   {
    "duration": 22,
    "start_time": "2022-02-06T16:25:32.471Z"
   },
   {
    "duration": 262,
    "start_time": "2022-02-06T16:27:20.049Z"
   },
   {
    "duration": 18,
    "start_time": "2022-02-06T16:27:28.952Z"
   },
   {
    "duration": 296,
    "start_time": "2022-02-06T17:26:21.866Z"
   },
   {
    "duration": 19,
    "start_time": "2022-02-06T17:27:44.821Z"
   },
   {
    "duration": 14,
    "start_time": "2022-02-06T17:28:29.708Z"
   },
   {
    "duration": 19,
    "start_time": "2022-02-06T17:28:39.390Z"
   },
   {
    "duration": 94,
    "start_time": "2022-02-06T17:29:10.463Z"
   },
   {
    "duration": 18,
    "start_time": "2022-02-06T17:39:42.691Z"
   },
   {
    "duration": 16,
    "start_time": "2022-02-06T17:39:59.302Z"
   },
   {
    "duration": 17,
    "start_time": "2022-02-06T17:40:09.402Z"
   },
   {
    "duration": 274,
    "start_time": "2022-02-06T17:40:50.365Z"
   },
   {
    "duration": 288,
    "start_time": "2022-02-06T17:41:13.150Z"
   },
   {
    "duration": 21,
    "start_time": "2022-02-06T17:41:20.020Z"
   },
   {
    "duration": 18,
    "start_time": "2022-02-06T17:42:34.958Z"
   },
   {
    "duration": 20,
    "start_time": "2022-02-06T17:42:42.602Z"
   },
   {
    "duration": 596,
    "start_time": "2022-02-08T11:47:15.897Z"
   },
   {
    "duration": 9,
    "start_time": "2022-02-08T11:47:16.495Z"
   },
   {
    "duration": 17,
    "start_time": "2022-02-08T11:47:16.506Z"
   },
   {
    "duration": 26,
    "start_time": "2022-02-08T11:47:16.525Z"
   },
   {
    "duration": 25,
    "start_time": "2022-02-08T11:47:16.552Z"
   },
   {
    "duration": 3,
    "start_time": "2022-02-08T11:47:16.578Z"
   },
   {
    "duration": 4,
    "start_time": "2022-02-08T11:47:16.583Z"
   },
   {
    "duration": 5,
    "start_time": "2022-02-08T11:47:16.589Z"
   },
   {
    "duration": 6,
    "start_time": "2022-02-08T11:47:16.596Z"
   },
   {
    "duration": 9,
    "start_time": "2022-02-08T11:47:16.604Z"
   },
   {
    "duration": 9,
    "start_time": "2022-02-08T11:47:16.615Z"
   },
   {
    "duration": 20,
    "start_time": "2022-02-08T11:47:16.625Z"
   },
   {
    "duration": 26,
    "start_time": "2022-02-08T11:47:16.646Z"
   },
   {
    "duration": 4,
    "start_time": "2022-02-08T11:47:16.674Z"
   },
   {
    "duration": 13,
    "start_time": "2022-02-08T11:47:16.680Z"
   },
   {
    "duration": 4,
    "start_time": "2022-02-08T11:47:16.695Z"
   },
   {
    "duration": 8,
    "start_time": "2022-02-08T11:47:16.700Z"
   },
   {
    "duration": 11,
    "start_time": "2022-02-08T11:47:16.709Z"
   },
   {
    "duration": 13,
    "start_time": "2022-02-08T11:47:16.722Z"
   },
   {
    "duration": 8,
    "start_time": "2022-02-08T11:47:16.736Z"
   },
   {
    "duration": 29,
    "start_time": "2022-02-08T11:47:16.745Z"
   },
   {
    "duration": 6,
    "start_time": "2022-02-08T11:47:16.775Z"
   },
   {
    "duration": 8,
    "start_time": "2022-02-08T11:47:16.784Z"
   },
   {
    "duration": 3244,
    "start_time": "2022-02-08T11:47:16.794Z"
   },
   {
    "duration": 8,
    "start_time": "2022-02-08T11:47:20.040Z"
   },
   {
    "duration": 29,
    "start_time": "2022-02-08T11:47:20.050Z"
   },
   {
    "duration": 20,
    "start_time": "2022-02-08T11:47:20.081Z"
   },
   {
    "duration": 18,
    "start_time": "2022-02-08T11:47:20.103Z"
   },
   {
    "duration": 18,
    "start_time": "2022-02-08T11:47:20.122Z"
   },
   {
    "duration": 30,
    "start_time": "2022-02-08T11:47:20.142Z"
   },
   {
    "duration": 16,
    "start_time": "2022-02-08T11:47:20.174Z"
   },
   {
    "duration": 22,
    "start_time": "2022-02-08T11:47:20.192Z"
   },
   {
    "duration": 11,
    "start_time": "2022-02-08T11:47:20.216Z"
   },
   {
    "duration": 11,
    "start_time": "2022-02-08T11:53:47.296Z"
   },
   {
    "duration": 481,
    "start_time": "2022-02-08T11:54:25.813Z"
   },
   {
    "duration": 10,
    "start_time": "2022-02-08T11:54:36.447Z"
   },
   {
    "duration": 14,
    "start_time": "2022-02-08T11:59:49.768Z"
   },
   {
    "duration": 13,
    "start_time": "2022-02-08T12:00:24.484Z"
   },
   {
    "duration": 13,
    "start_time": "2022-02-08T12:03:19.908Z"
   },
   {
    "duration": 13,
    "start_time": "2022-02-08T12:04:02.197Z"
   },
   {
    "duration": 13,
    "start_time": "2022-02-08T12:04:17.249Z"
   },
   {
    "duration": 12,
    "start_time": "2022-02-08T12:04:31.782Z"
   },
   {
    "duration": 12,
    "start_time": "2022-02-08T12:05:19.887Z"
   },
   {
    "duration": 12,
    "start_time": "2022-02-08T12:05:53.905Z"
   },
   {
    "duration": 12,
    "start_time": "2022-02-08T12:06:19.674Z"
   },
   {
    "duration": 47,
    "start_time": "2022-02-08T12:06:24.927Z"
   },
   {
    "duration": 9,
    "start_time": "2022-02-08T12:06:24.976Z"
   },
   {
    "duration": 24,
    "start_time": "2022-02-08T12:06:24.987Z"
   },
   {
    "duration": 30,
    "start_time": "2022-02-08T12:06:25.012Z"
   },
   {
    "duration": 30,
    "start_time": "2022-02-08T12:06:25.044Z"
   },
   {
    "duration": 20,
    "start_time": "2022-02-08T12:06:25.075Z"
   },
   {
    "duration": 18,
    "start_time": "2022-02-08T12:06:25.096Z"
   },
   {
    "duration": 22,
    "start_time": "2022-02-08T12:06:25.116Z"
   },
   {
    "duration": 14,
    "start_time": "2022-02-08T12:06:25.140Z"
   },
   {
    "duration": 22,
    "start_time": "2022-02-08T12:06:25.155Z"
   },
   {
    "duration": 14,
    "start_time": "2022-02-08T12:06:25.179Z"
   },
   {
    "duration": 29,
    "start_time": "2022-02-08T12:06:25.195Z"
   },
   {
    "duration": 15,
    "start_time": "2022-02-08T12:06:25.226Z"
   },
   {
    "duration": 11,
    "start_time": "2022-02-08T12:06:25.243Z"
   },
   {
    "duration": 30,
    "start_time": "2022-02-08T12:06:25.256Z"
   },
   {
    "duration": 4,
    "start_time": "2022-02-08T12:06:25.288Z"
   },
   {
    "duration": 13,
    "start_time": "2022-02-08T12:06:25.293Z"
   },
   {
    "duration": 16,
    "start_time": "2022-02-08T12:06:25.308Z"
   },
   {
    "duration": 23,
    "start_time": "2022-02-08T12:06:25.326Z"
   },
   {
    "duration": 24,
    "start_time": "2022-02-08T12:06:25.351Z"
   },
   {
    "duration": 13,
    "start_time": "2022-02-08T12:06:25.377Z"
   },
   {
    "duration": 29,
    "start_time": "2022-02-08T12:06:25.391Z"
   },
   {
    "duration": 22,
    "start_time": "2022-02-08T12:06:25.423Z"
   },
   {
    "duration": 3338,
    "start_time": "2022-02-08T12:06:25.446Z"
   },
   {
    "duration": 7,
    "start_time": "2022-02-08T12:06:28.786Z"
   },
   {
    "duration": 10,
    "start_time": "2022-02-08T12:06:28.794Z"
   },
   {
    "duration": 12,
    "start_time": "2022-02-08T12:06:28.805Z"
   },
   {
    "duration": 7,
    "start_time": "2022-02-08T12:06:28.818Z"
   },
   {
    "duration": 7,
    "start_time": "2022-02-08T12:06:28.826Z"
   },
   {
    "duration": 45,
    "start_time": "2022-02-08T12:06:28.834Z"
   },
   {
    "duration": 2,
    "start_time": "2022-02-08T12:06:28.880Z"
   },
   {
    "duration": 22,
    "start_time": "2022-02-08T12:06:28.910Z"
   },
   {
    "duration": 23,
    "start_time": "2022-02-08T12:06:28.934Z"
   },
   {
    "duration": 12,
    "start_time": "2022-02-08T12:07:21.305Z"
   },
   {
    "duration": 13,
    "start_time": "2022-02-08T12:07:54.026Z"
   },
   {
    "duration": 12,
    "start_time": "2022-02-08T12:08:08.959Z"
   },
   {
    "duration": 11,
    "start_time": "2022-02-08T12:08:37.342Z"
   },
   {
    "duration": 13,
    "start_time": "2022-02-08T12:10:12.776Z"
   },
   {
    "duration": 13,
    "start_time": "2022-02-08T12:10:21.825Z"
   },
   {
    "duration": 13,
    "start_time": "2022-02-08T12:10:28.167Z"
   },
   {
    "duration": 12,
    "start_time": "2022-02-08T12:10:34.284Z"
   },
   {
    "duration": 51,
    "start_time": "2022-02-08T12:10:38.603Z"
   },
   {
    "duration": 10,
    "start_time": "2022-02-08T12:10:38.656Z"
   },
   {
    "duration": 14,
    "start_time": "2022-02-08T12:10:38.667Z"
   },
   {
    "duration": 27,
    "start_time": "2022-02-08T12:10:38.683Z"
   },
   {
    "duration": 8,
    "start_time": "2022-02-08T12:10:38.712Z"
   },
   {
    "duration": 3,
    "start_time": "2022-02-08T12:10:38.722Z"
   },
   {
    "duration": 5,
    "start_time": "2022-02-08T12:10:38.727Z"
   },
   {
    "duration": 5,
    "start_time": "2022-02-08T12:10:38.734Z"
   },
   {
    "duration": 4,
    "start_time": "2022-02-08T12:10:38.772Z"
   },
   {
    "duration": 9,
    "start_time": "2022-02-08T12:10:38.777Z"
   },
   {
    "duration": 9,
    "start_time": "2022-02-08T12:10:38.788Z"
   },
   {
    "duration": 13,
    "start_time": "2022-02-08T12:10:38.798Z"
   },
   {
    "duration": 8,
    "start_time": "2022-02-08T12:10:38.812Z"
   },
   {
    "duration": 7,
    "start_time": "2022-02-08T12:10:38.822Z"
   },
   {
    "duration": 17,
    "start_time": "2022-02-08T12:10:38.830Z"
   },
   {
    "duration": 23,
    "start_time": "2022-02-08T12:10:38.849Z"
   },
   {
    "duration": 3,
    "start_time": "2022-02-08T12:10:38.874Z"
   },
   {
    "duration": 8,
    "start_time": "2022-02-08T12:10:38.879Z"
   },
   {
    "duration": 13,
    "start_time": "2022-02-08T12:10:38.889Z"
   },
   {
    "duration": 12,
    "start_time": "2022-02-08T12:10:38.904Z"
   },
   {
    "duration": 9,
    "start_time": "2022-02-08T12:10:38.917Z"
   },
   {
    "duration": 16,
    "start_time": "2022-02-08T12:10:38.927Z"
   },
   {
    "duration": 11,
    "start_time": "2022-02-08T12:10:38.945Z"
   },
   {
    "duration": 3285,
    "start_time": "2022-02-08T12:10:38.957Z"
   },
   {
    "duration": 6,
    "start_time": "2022-02-08T12:10:42.244Z"
   },
   {
    "duration": 22,
    "start_time": "2022-02-08T12:10:42.251Z"
   },
   {
    "duration": 8,
    "start_time": "2022-02-08T12:10:42.275Z"
   },
   {
    "duration": 15,
    "start_time": "2022-02-08T12:10:42.285Z"
   },
   {
    "duration": 6,
    "start_time": "2022-02-08T12:10:42.301Z"
   },
   {
    "duration": 22,
    "start_time": "2022-02-08T12:10:42.309Z"
   },
   {
    "duration": 2,
    "start_time": "2022-02-08T12:10:42.332Z"
   },
   {
    "duration": 16,
    "start_time": "2022-02-08T12:10:42.335Z"
   },
   {
    "duration": 13,
    "start_time": "2022-02-08T12:11:48.348Z"
   },
   {
    "duration": 12,
    "start_time": "2022-02-08T12:12:14.232Z"
   },
   {
    "duration": 13,
    "start_time": "2022-02-08T12:12:33.278Z"
   },
   {
    "duration": 13,
    "start_time": "2022-02-08T12:12:42.887Z"
   },
   {
    "duration": 13,
    "start_time": "2022-02-08T12:12:53.104Z"
   },
   {
    "duration": 13,
    "start_time": "2022-02-08T12:13:02.602Z"
   },
   {
    "duration": 300,
    "start_time": "2022-02-08T13:07:30.241Z"
   },
   {
    "duration": 4,
    "start_time": "2022-02-08T13:08:12.522Z"
   },
   {
    "duration": 13,
    "start_time": "2022-02-08T13:08:41.634Z"
   },
   {
    "duration": -504,
    "start_time": "2022-02-08T13:09:13.699Z"
   },
   {
    "duration": 5,
    "start_time": "2022-02-08T13:09:22.661Z"
   },
   {
    "duration": 7502,
    "start_time": "2022-02-08T13:09:29.398Z"
   },
   {
    "duration": 394,
    "start_time": "2022-02-08T13:11:35.761Z"
   },
   {
    "duration": 394,
    "start_time": "2022-02-08T13:12:27.380Z"
   },
   {
    "duration": 304,
    "start_time": "2022-02-08T13:14:24.959Z"
   },
   {
    "duration": 13,
    "start_time": "2022-02-08T13:14:40.034Z"
   },
   {
    "duration": 15,
    "start_time": "2022-02-08T13:15:02.671Z"
   },
   {
    "duration": 8,
    "start_time": "2022-02-08T13:15:30.504Z"
   },
   {
    "duration": 304,
    "start_time": "2022-02-08T13:15:59.613Z"
   },
   {
    "duration": 9,
    "start_time": "2022-02-08T13:16:07.194Z"
   },
   {
    "duration": 6,
    "start_time": "2022-02-08T13:16:20.499Z"
   },
   {
    "duration": 486,
    "start_time": "2022-02-08T13:19:06.270Z"
   },
   {
    "duration": 1496,
    "start_time": "2022-02-08T13:19:21.202Z"
   },
   {
    "duration": 132,
    "start_time": "2022-02-08T13:20:59.123Z"
   },
   {
    "duration": 35,
    "start_time": "2022-02-08T13:21:35.255Z"
   },
   {
    "duration": 16,
    "start_time": "2022-02-08T13:21:58.598Z"
   },
   {
    "duration": 16,
    "start_time": "2022-02-08T13:22:12.814Z"
   },
   {
    "duration": 33,
    "start_time": "2022-02-08T13:22:24.582Z"
   },
   {
    "duration": 32,
    "start_time": "2022-02-08T13:22:42.340Z"
   },
   {
    "duration": 37,
    "start_time": "2022-02-08T13:23:21.124Z"
   },
   {
    "duration": 72,
    "start_time": "2022-02-08T13:23:28.088Z"
   },
   {
    "duration": 302,
    "start_time": "2022-02-08T13:23:33.397Z"
   },
   {
    "duration": 312,
    "start_time": "2022-02-08T13:23:38.829Z"
   },
   {
    "duration": 313,
    "start_time": "2022-02-08T13:23:47.293Z"
   },
   {
    "duration": 40,
    "start_time": "2022-02-08T13:23:56.448Z"
   },
   {
    "duration": 312,
    "start_time": "2022-02-08T13:24:21.286Z"
   },
   {
    "duration": 377,
    "start_time": "2022-02-08T13:24:51.608Z"
   },
   {
    "duration": 68,
    "start_time": "2022-02-08T13:25:02.970Z"
   },
   {
    "duration": 331,
    "start_time": "2022-02-08T13:25:19.513Z"
   },
   {
    "duration": 65,
    "start_time": "2022-02-08T13:25:28.605Z"
   },
   {
    "duration": 341,
    "start_time": "2022-02-08T13:25:48.623Z"
   },
   {
    "duration": 339,
    "start_time": "2022-02-08T13:25:59.225Z"
   },
   {
    "duration": 30,
    "start_time": "2022-02-08T13:26:24.873Z"
   },
   {
    "duration": 21,
    "start_time": "2022-02-08T13:26:42.404Z"
   },
   {
    "duration": 16,
    "start_time": "2022-02-08T13:27:19.183Z"
   },
   {
    "duration": 330,
    "start_time": "2022-02-08T13:27:33.775Z"
   },
   {
    "duration": 23,
    "start_time": "2022-02-08T13:27:58.880Z"
   },
   {
    "duration": 33,
    "start_time": "2022-02-08T13:28:30.751Z"
   },
   {
    "duration": 21,
    "start_time": "2022-02-08T13:29:00.899Z"
   },
   {
    "duration": 391,
    "start_time": "2022-02-08T13:29:42.062Z"
   },
   {
    "duration": 20,
    "start_time": "2022-02-08T13:29:54.035Z"
   },
   {
    "duration": 24,
    "start_time": "2022-02-08T13:43:45.975Z"
   },
   {
    "duration": 829,
    "start_time": "2022-02-08T16:19:39.915Z"
   },
   {
    "duration": 17,
    "start_time": "2022-02-08T16:19:40.746Z"
   },
   {
    "duration": 33,
    "start_time": "2022-02-08T16:19:40.767Z"
   },
   {
    "duration": 77,
    "start_time": "2022-02-08T16:19:40.803Z"
   },
   {
    "duration": 12,
    "start_time": "2022-02-08T16:19:40.883Z"
   },
   {
    "duration": 6,
    "start_time": "2022-02-08T16:19:40.897Z"
   },
   {
    "duration": 6,
    "start_time": "2022-02-08T16:19:40.905Z"
   },
   {
    "duration": 6,
    "start_time": "2022-02-08T16:19:40.913Z"
   },
   {
    "duration": 8,
    "start_time": "2022-02-08T16:19:40.961Z"
   },
   {
    "duration": 13,
    "start_time": "2022-02-08T16:19:40.971Z"
   },
   {
    "duration": 14,
    "start_time": "2022-02-08T16:19:40.987Z"
   },
   {
    "duration": 61,
    "start_time": "2022-02-08T16:19:41.003Z"
   },
   {
    "duration": 9,
    "start_time": "2022-02-08T16:19:41.066Z"
   },
   {
    "duration": 4,
    "start_time": "2022-02-08T16:19:41.078Z"
   },
   {
    "duration": 16,
    "start_time": "2022-02-08T16:19:41.084Z"
   },
   {
    "duration": 4,
    "start_time": "2022-02-08T16:19:41.102Z"
   },
   {
    "duration": 52,
    "start_time": "2022-02-08T16:19:41.109Z"
   },
   {
    "duration": 11,
    "start_time": "2022-02-08T16:19:41.163Z"
   },
   {
    "duration": 16,
    "start_time": "2022-02-08T16:19:41.176Z"
   },
   {
    "duration": 11,
    "start_time": "2022-02-08T16:19:41.195Z"
   },
   {
    "duration": 53,
    "start_time": "2022-02-08T16:19:41.208Z"
   },
   {
    "duration": 10,
    "start_time": "2022-02-08T16:19:41.263Z"
   },
   {
    "duration": 11,
    "start_time": "2022-02-08T16:19:41.275Z"
   },
   {
    "duration": 4820,
    "start_time": "2022-02-08T16:19:41.288Z"
   },
   {
    "duration": 12,
    "start_time": "2022-02-08T16:19:46.110Z"
   },
   {
    "duration": 34,
    "start_time": "2022-02-08T16:19:46.125Z"
   },
   {
    "duration": 14,
    "start_time": "2022-02-08T16:19:46.166Z"
   },
   {
    "duration": 10,
    "start_time": "2022-02-08T16:19:46.183Z"
   },
   {
    "duration": 9,
    "start_time": "2022-02-08T16:19:46.196Z"
   },
   {
    "duration": 79,
    "start_time": "2022-02-08T16:19:46.208Z"
   },
   {
    "duration": 3,
    "start_time": "2022-02-08T16:19:46.289Z"
   },
   {
    "duration": 28,
    "start_time": "2022-02-08T16:19:46.295Z"
   },
   {
    "duration": 60,
    "start_time": "2022-02-08T16:19:46.325Z"
   },
   {
    "duration": 502,
    "start_time": "2022-02-08T16:32:49.491Z"
   },
   {
    "duration": 379,
    "start_time": "2022-02-08T16:33:23.197Z"
   },
   {
    "duration": 45,
    "start_time": "2022-02-08T16:33:43.709Z"
   },
   {
    "duration": 396,
    "start_time": "2022-02-08T16:34:10.960Z"
   },
   {
    "duration": 41,
    "start_time": "2022-02-08T16:34:16.248Z"
   },
   {
    "duration": 2485,
    "start_time": "2022-02-08T16:35:43.465Z"
   },
   {
    "duration": 20,
    "start_time": "2022-02-08T16:35:51.775Z"
   },
   {
    "duration": 36,
    "start_time": "2022-02-08T17:12:51.887Z"
   },
   {
    "duration": 22,
    "start_time": "2022-02-08T17:13:13.490Z"
   },
   {
    "duration": 448,
    "start_time": "2022-02-08T17:14:56.064Z"
   },
   {
    "duration": 404,
    "start_time": "2022-02-08T17:15:26.295Z"
   },
   {
    "duration": 63,
    "start_time": "2022-02-08T17:15:49.431Z"
   },
   {
    "duration": 16,
    "start_time": "2022-02-08T17:15:49.498Z"
   },
   {
    "duration": 49,
    "start_time": "2022-02-08T17:15:49.517Z"
   },
   {
    "duration": 46,
    "start_time": "2022-02-08T17:15:49.569Z"
   },
   {
    "duration": 45,
    "start_time": "2022-02-08T17:15:49.618Z"
   },
   {
    "duration": 7,
    "start_time": "2022-02-08T17:15:49.665Z"
   },
   {
    "duration": 11,
    "start_time": "2022-02-08T17:15:49.674Z"
   },
   {
    "duration": 6,
    "start_time": "2022-02-08T17:15:49.688Z"
   },
   {
    "duration": 7,
    "start_time": "2022-02-08T17:15:49.697Z"
   },
   {
    "duration": 54,
    "start_time": "2022-02-08T17:15:49.706Z"
   },
   {
    "duration": 13,
    "start_time": "2022-02-08T17:15:49.763Z"
   },
   {
    "duration": 23,
    "start_time": "2022-02-08T17:15:49.779Z"
   },
   {
    "duration": 12,
    "start_time": "2022-02-08T17:15:49.804Z"
   },
   {
    "duration": 4,
    "start_time": "2022-02-08T17:15:49.819Z"
   },
   {
    "duration": 48,
    "start_time": "2022-02-08T17:15:49.825Z"
   },
   {
    "duration": 4,
    "start_time": "2022-02-08T17:15:49.875Z"
   },
   {
    "duration": 5,
    "start_time": "2022-02-08T17:15:49.882Z"
   },
   {
    "duration": 14,
    "start_time": "2022-02-08T17:15:49.889Z"
   },
   {
    "duration": 16,
    "start_time": "2022-02-08T17:15:49.905Z"
   },
   {
    "duration": 45,
    "start_time": "2022-02-08T17:15:49.923Z"
   },
   {
    "duration": 8,
    "start_time": "2022-02-08T17:15:49.971Z"
   },
   {
    "duration": 9,
    "start_time": "2022-02-08T17:15:49.981Z"
   },
   {
    "duration": 9,
    "start_time": "2022-02-08T17:15:49.995Z"
   },
   {
    "duration": 4754,
    "start_time": "2022-02-08T17:15:50.007Z"
   },
   {
    "duration": 10,
    "start_time": "2022-02-08T17:15:54.764Z"
   },
   {
    "duration": 16,
    "start_time": "2022-02-08T17:15:54.776Z"
   },
   {
    "duration": 13,
    "start_time": "2022-02-08T17:15:54.794Z"
   },
   {
    "duration": 9,
    "start_time": "2022-02-08T17:15:54.810Z"
   },
   {
    "duration": 9,
    "start_time": "2022-02-08T17:15:54.860Z"
   },
   {
    "duration": 39,
    "start_time": "2022-02-08T17:15:54.871Z"
   },
   {
    "duration": 4,
    "start_time": "2022-02-08T17:15:54.913Z"
   },
   {
    "duration": 54,
    "start_time": "2022-02-08T17:15:54.919Z"
   },
   {
    "duration": 34,
    "start_time": "2022-02-08T17:15:54.976Z"
   },
   {
    "duration": -202,
    "start_time": "2022-02-08T17:15:55.620Z"
   },
   {
    "duration": 456,
    "start_time": "2022-02-08T17:16:08.524Z"
   },
   {
    "duration": 9077,
    "start_time": "2022-02-08T17:16:29.309Z"
   },
   {
    "duration": 9495,
    "start_time": "2022-02-08T17:17:13.616Z"
   },
   {
    "duration": 19,
    "start_time": "2022-02-08T17:17:30.675Z"
   },
   {
    "duration": 18,
    "start_time": "2022-02-08T17:21:07.627Z"
   },
   {
    "duration": 24,
    "start_time": "2022-02-08T17:22:00.440Z"
   },
   {
    "duration": 22,
    "start_time": "2022-02-08T17:22:12.585Z"
   },
   {
    "duration": 24,
    "start_time": "2022-02-08T17:23:28.140Z"
   },
   {
    "duration": 24,
    "start_time": "2022-02-08T17:25:14.788Z"
   },
   {
    "duration": 32,
    "start_time": "2022-02-08T17:25:32.673Z"
   },
   {
    "duration": 21,
    "start_time": "2022-02-08T17:25:42.990Z"
   },
   {
    "duration": 26,
    "start_time": "2022-02-08T17:25:57.028Z"
   },
   {
    "duration": 27,
    "start_time": "2022-02-08T17:28:05.003Z"
   },
   {
    "duration": 29,
    "start_time": "2022-02-08T17:29:19.829Z"
   },
   {
    "duration": 29,
    "start_time": "2022-02-08T17:29:38.985Z"
   },
   {
    "duration": 24,
    "start_time": "2022-02-08T17:29:47.808Z"
   },
   {
    "duration": 18,
    "start_time": "2022-02-08T17:29:55.942Z"
   },
   {
    "duration": 25,
    "start_time": "2022-02-08T17:30:05.991Z"
   },
   {
    "duration": 26,
    "start_time": "2022-02-08T17:31:00.107Z"
   },
   {
    "duration": 3,
    "start_time": "2022-02-08T17:51:27.436Z"
   },
   {
    "duration": 3,
    "start_time": "2022-02-08T17:51:30.233Z"
   },
   {
    "duration": 3,
    "start_time": "2022-02-08T17:52:53.746Z"
   },
   {
    "duration": 3,
    "start_time": "2022-02-08T17:52:58.639Z"
   },
   {
    "duration": 550,
    "start_time": "2022-02-08T17:56:44.796Z"
   },
   {
    "duration": 531,
    "start_time": "2022-02-08T17:57:59.720Z"
   },
   {
    "duration": 22,
    "start_time": "2022-02-08T17:58:25.500Z"
   },
   {
    "duration": 16123,
    "start_time": "2022-02-08T17:59:06.596Z"
   },
   {
    "duration": 434,
    "start_time": "2022-02-08T17:59:38.599Z"
   },
   {
    "duration": 409,
    "start_time": "2022-02-08T18:00:02.250Z"
   },
   {
    "duration": 582,
    "start_time": "2022-02-08T18:00:11.248Z"
   },
   {
    "duration": 25,
    "start_time": "2022-02-08T18:00:22.354Z"
   },
   {
    "duration": 20,
    "start_time": "2022-02-08T18:00:54.219Z"
   },
   {
    "duration": 21,
    "start_time": "2022-02-08T18:00:59.492Z"
   },
   {
    "duration": 31,
    "start_time": "2022-02-08T18:01:43.763Z"
   },
   {
    "duration": 20,
    "start_time": "2022-02-08T18:02:54.859Z"
   },
   {
    "duration": 146,
    "start_time": "2022-02-08T18:08:17.311Z"
   },
   {
    "duration": 63,
    "start_time": "2022-02-08T19:17:46.584Z"
   },
   {
    "duration": 15,
    "start_time": "2022-02-08T19:17:46.650Z"
   },
   {
    "duration": 21,
    "start_time": "2022-02-08T19:17:46.667Z"
   },
   {
    "duration": 74,
    "start_time": "2022-02-08T19:17:46.691Z"
   },
   {
    "duration": 12,
    "start_time": "2022-02-08T19:17:46.767Z"
   },
   {
    "duration": 7,
    "start_time": "2022-02-08T19:17:46.781Z"
   },
   {
    "duration": 14,
    "start_time": "2022-02-08T19:17:46.790Z"
   },
   {
    "duration": 7,
    "start_time": "2022-02-08T19:17:46.808Z"
   },
   {
    "duration": 46,
    "start_time": "2022-02-08T19:17:46.818Z"
   },
   {
    "duration": 12,
    "start_time": "2022-02-08T19:17:46.867Z"
   },
   {
    "duration": 14,
    "start_time": "2022-02-08T19:17:46.881Z"
   },
   {
    "duration": 21,
    "start_time": "2022-02-08T19:17:46.897Z"
   },
   {
    "duration": 8,
    "start_time": "2022-02-08T19:17:46.960Z"
   },
   {
    "duration": 5,
    "start_time": "2022-02-08T19:17:46.971Z"
   },
   {
    "duration": 17,
    "start_time": "2022-02-08T19:17:46.979Z"
   },
   {
    "duration": 5,
    "start_time": "2022-02-08T19:17:46.998Z"
   },
   {
    "duration": 6,
    "start_time": "2022-02-08T19:17:47.005Z"
   },
   {
    "duration": 10,
    "start_time": "2022-02-08T19:17:47.061Z"
   },
   {
    "duration": 16,
    "start_time": "2022-02-08T19:17:47.073Z"
   },
   {
    "duration": 14,
    "start_time": "2022-02-08T19:17:47.091Z"
   },
   {
    "duration": 9,
    "start_time": "2022-02-08T19:17:47.108Z"
   },
   {
    "duration": 46,
    "start_time": "2022-02-08T19:17:47.120Z"
   },
   {
    "duration": 10,
    "start_time": "2022-02-08T19:17:47.174Z"
   },
   {
    "duration": 4706,
    "start_time": "2022-02-08T19:17:47.188Z"
   },
   {
    "duration": 10,
    "start_time": "2022-02-08T19:17:51.896Z"
   },
   {
    "duration": 20,
    "start_time": "2022-02-08T19:17:51.909Z"
   },
   {
    "duration": 35,
    "start_time": "2022-02-08T19:17:51.932Z"
   },
   {
    "duration": 10,
    "start_time": "2022-02-08T19:17:51.969Z"
   },
   {
    "duration": 8,
    "start_time": "2022-02-08T19:17:51.982Z"
   },
   {
    "duration": 70,
    "start_time": "2022-02-08T19:17:51.993Z"
   },
   {
    "duration": 3,
    "start_time": "2022-02-08T19:17:52.065Z"
   },
   {
    "duration": 87,
    "start_time": "2022-02-08T19:17:52.071Z"
   },
   {
    "duration": 59,
    "start_time": "2022-02-08T19:17:52.164Z"
   },
   {
    "duration": 96,
    "start_time": "2022-02-08T19:17:52.226Z"
   },
   {
    "duration": 44,
    "start_time": "2022-02-08T19:17:52.325Z"
   },
   {
    "duration": 63,
    "start_time": "2022-02-08T19:18:49.179Z"
   },
   {
    "duration": 14,
    "start_time": "2022-02-08T19:18:49.244Z"
   },
   {
    "duration": 19,
    "start_time": "2022-02-08T19:18:49.261Z"
   },
   {
    "duration": 46,
    "start_time": "2022-02-08T19:18:49.283Z"
   },
   {
    "duration": 38,
    "start_time": "2022-02-08T19:18:49.331Z"
   },
   {
    "duration": 5,
    "start_time": "2022-02-08T19:18:49.371Z"
   },
   {
    "duration": 7,
    "start_time": "2022-02-08T19:18:49.378Z"
   },
   {
    "duration": 6,
    "start_time": "2022-02-08T19:18:49.388Z"
   },
   {
    "duration": 63,
    "start_time": "2022-02-08T19:18:49.397Z"
   },
   {
    "duration": 12,
    "start_time": "2022-02-08T19:18:49.463Z"
   },
   {
    "duration": 13,
    "start_time": "2022-02-08T19:18:49.478Z"
   },
   {
    "duration": 19,
    "start_time": "2022-02-08T19:18:49.493Z"
   },
   {
    "duration": 44,
    "start_time": "2022-02-08T19:18:49.515Z"
   },
   {
    "duration": 6,
    "start_time": "2022-02-08T19:18:49.562Z"
   },
   {
    "duration": 20,
    "start_time": "2022-02-08T19:18:49.570Z"
   },
   {
    "duration": 4,
    "start_time": "2022-02-08T19:18:49.592Z"
   },
   {
    "duration": 7,
    "start_time": "2022-02-08T19:18:49.598Z"
   },
   {
    "duration": 9,
    "start_time": "2022-02-08T19:18:49.607Z"
   },
   {
    "duration": 15,
    "start_time": "2022-02-08T19:18:49.660Z"
   },
   {
    "duration": 12,
    "start_time": "2022-02-08T19:18:49.678Z"
   },
   {
    "duration": 8,
    "start_time": "2022-02-08T19:18:49.692Z"
   },
   {
    "duration": 9,
    "start_time": "2022-02-08T19:18:49.703Z"
   },
   {
    "duration": 50,
    "start_time": "2022-02-08T19:18:49.717Z"
   },
   {
    "duration": 4874,
    "start_time": "2022-02-08T19:18:49.770Z"
   },
   {
    "duration": 19,
    "start_time": "2022-02-08T19:18:54.647Z"
   },
   {
    "duration": 15,
    "start_time": "2022-02-08T19:18:54.669Z"
   },
   {
    "duration": 14,
    "start_time": "2022-02-08T19:18:54.687Z"
   },
   {
    "duration": 11,
    "start_time": "2022-02-08T19:18:54.703Z"
   },
   {
    "duration": 49,
    "start_time": "2022-02-08T19:18:54.717Z"
   },
   {
    "duration": 37,
    "start_time": "2022-02-08T19:18:54.769Z"
   },
   {
    "duration": 3,
    "start_time": "2022-02-08T19:18:54.809Z"
   },
   {
    "duration": 57,
    "start_time": "2022-02-08T19:18:54.815Z"
   },
   {
    "duration": 31,
    "start_time": "2022-02-08T19:18:54.875Z"
   },
   {
    "duration": 49,
    "start_time": "2022-02-08T19:18:54.909Z"
   },
   {
    "duration": 21,
    "start_time": "2022-02-08T19:18:54.960Z"
   },
   {
    "duration": 387,
    "start_time": "2022-02-08T19:43:08.055Z"
   },
   {
    "duration": 435,
    "start_time": "2022-02-08T19:43:36.900Z"
   },
   {
    "duration": 64,
    "start_time": "2022-02-08T19:44:04.568Z"
   },
   {
    "duration": 25,
    "start_time": "2022-02-08T19:44:04.635Z"
   },
   {
    "duration": 20,
    "start_time": "2022-02-08T19:44:04.664Z"
   },
   {
    "duration": 84,
    "start_time": "2022-02-08T19:44:04.687Z"
   },
   {
    "duration": 13,
    "start_time": "2022-02-08T19:44:04.773Z"
   },
   {
    "duration": 7,
    "start_time": "2022-02-08T19:44:04.788Z"
   },
   {
    "duration": 9,
    "start_time": "2022-02-08T19:44:04.798Z"
   },
   {
    "duration": 8,
    "start_time": "2022-02-08T19:44:04.810Z"
   },
   {
    "duration": 9,
    "start_time": "2022-02-08T19:44:04.863Z"
   },
   {
    "duration": 11,
    "start_time": "2022-02-08T19:44:04.876Z"
   },
   {
    "duration": 14,
    "start_time": "2022-02-08T19:44:04.890Z"
   },
   {
    "duration": 61,
    "start_time": "2022-02-08T19:44:04.906Z"
   },
   {
    "duration": 8,
    "start_time": "2022-02-08T19:44:04.970Z"
   },
   {
    "duration": 5,
    "start_time": "2022-02-08T19:44:04.981Z"
   },
   {
    "duration": 17,
    "start_time": "2022-02-08T19:44:04.988Z"
   },
   {
    "duration": 6,
    "start_time": "2022-02-08T19:44:05.007Z"
   },
   {
    "duration": 5,
    "start_time": "2022-02-08T19:44:05.060Z"
   },
   {
    "duration": 21,
    "start_time": "2022-02-08T19:44:05.068Z"
   },
   {
    "duration": 16,
    "start_time": "2022-02-08T19:44:05.092Z"
   },
   {
    "duration": 12,
    "start_time": "2022-02-08T19:44:05.111Z"
   },
   {
    "duration": 12,
    "start_time": "2022-02-08T19:44:05.158Z"
   },
   {
    "duration": 12,
    "start_time": "2022-02-08T19:44:05.173Z"
   },
   {
    "duration": 13,
    "start_time": "2022-02-08T19:44:05.188Z"
   },
   {
    "duration": 5199,
    "start_time": "2022-02-08T19:44:05.204Z"
   },
   {
    "duration": 10,
    "start_time": "2022-02-08T19:44:10.406Z"
   },
   {
    "duration": 15,
    "start_time": "2022-02-08T19:44:10.418Z"
   },
   {
    "duration": 16,
    "start_time": "2022-02-08T19:44:10.461Z"
   },
   {
    "duration": 10,
    "start_time": "2022-02-08T19:44:10.480Z"
   },
   {
    "duration": 19,
    "start_time": "2022-02-08T19:44:10.493Z"
   },
   {
    "duration": 74,
    "start_time": "2022-02-08T19:44:10.515Z"
   },
   {
    "duration": 4,
    "start_time": "2022-02-08T19:44:10.591Z"
   },
   {
    "duration": 27,
    "start_time": "2022-02-08T19:44:10.598Z"
   },
   {
    "duration": 59,
    "start_time": "2022-02-08T19:44:10.628Z"
   },
   {
    "duration": 27,
    "start_time": "2022-02-08T19:44:10.690Z"
   },
   {
    "duration": 46,
    "start_time": "2022-02-08T19:44:10.720Z"
   },
   {
    "duration": 64,
    "start_time": "2022-02-08T19:45:56.117Z"
   },
   {
    "duration": 16,
    "start_time": "2022-02-08T19:45:56.183Z"
   },
   {
    "duration": 26,
    "start_time": "2022-02-08T19:45:56.202Z"
   },
   {
    "duration": 48,
    "start_time": "2022-02-08T19:45:56.260Z"
   },
   {
    "duration": 11,
    "start_time": "2022-02-08T19:45:56.311Z"
   },
   {
    "duration": 38,
    "start_time": "2022-02-08T19:45:56.325Z"
   },
   {
    "duration": 9,
    "start_time": "2022-02-08T19:45:56.366Z"
   },
   {
    "duration": 6,
    "start_time": "2022-02-08T19:45:56.379Z"
   },
   {
    "duration": 9,
    "start_time": "2022-02-08T19:45:56.388Z"
   },
   {
    "duration": 12,
    "start_time": "2022-02-08T19:45:56.400Z"
   },
   {
    "duration": 55,
    "start_time": "2022-02-08T19:45:56.415Z"
   },
   {
    "duration": 21,
    "start_time": "2022-02-08T19:45:56.472Z"
   },
   {
    "duration": 8,
    "start_time": "2022-02-08T19:45:56.495Z"
   },
   {
    "duration": 4,
    "start_time": "2022-02-08T19:45:56.505Z"
   },
   {
    "duration": 58,
    "start_time": "2022-02-08T19:45:56.512Z"
   },
   {
    "duration": 4,
    "start_time": "2022-02-08T19:45:56.573Z"
   },
   {
    "duration": 7,
    "start_time": "2022-02-08T19:45:56.579Z"
   },
   {
    "duration": 10,
    "start_time": "2022-02-08T19:45:56.588Z"
   },
   {
    "duration": 16,
    "start_time": "2022-02-08T19:45:56.600Z"
   },
   {
    "duration": 47,
    "start_time": "2022-02-08T19:45:56.618Z"
   },
   {
    "duration": 8,
    "start_time": "2022-02-08T19:45:56.667Z"
   },
   {
    "duration": 8,
    "start_time": "2022-02-08T19:45:56.678Z"
   },
   {
    "duration": 10,
    "start_time": "2022-02-08T19:45:56.690Z"
   },
   {
    "duration": 4949,
    "start_time": "2022-02-08T19:45:56.703Z"
   },
   {
    "duration": 23,
    "start_time": "2022-02-08T19:46:01.655Z"
   },
   {
    "duration": 50,
    "start_time": "2022-02-08T19:46:01.681Z"
   },
   {
    "duration": 115,
    "start_time": "2022-02-08T19:46:01.759Z"
   },
   {
    "duration": 100,
    "start_time": "2022-02-08T19:46:01.877Z"
   },
   {
    "duration": 166,
    "start_time": "2022-02-08T19:46:01.984Z"
   },
   {
    "duration": 109,
    "start_time": "2022-02-08T19:46:02.153Z"
   },
   {
    "duration": 3,
    "start_time": "2022-02-08T19:46:02.264Z"
   },
   {
    "duration": 18,
    "start_time": "2022-02-08T19:46:02.270Z"
   },
   {
    "duration": 87,
    "start_time": "2022-02-08T19:46:02.291Z"
   },
   {
    "duration": 78,
    "start_time": "2022-02-08T19:46:02.381Z"
   },
   {
    "duration": 20,
    "start_time": "2022-02-08T19:46:02.462Z"
   },
   {
    "duration": 59,
    "start_time": "2022-02-08T19:47:53.120Z"
   },
   {
    "duration": 11,
    "start_time": "2022-02-08T19:51:02.081Z"
   },
   {
    "duration": 12,
    "start_time": "2022-02-08T19:51:07.845Z"
   },
   {
    "duration": 11,
    "start_time": "2022-02-08T19:51:39.466Z"
   },
   {
    "duration": 61,
    "start_time": "2022-02-08T19:52:24.368Z"
   },
   {
    "duration": 15,
    "start_time": "2022-02-08T19:52:24.432Z"
   },
   {
    "duration": 33,
    "start_time": "2022-02-08T19:52:24.461Z"
   },
   {
    "duration": 94,
    "start_time": "2022-02-08T19:52:24.497Z"
   },
   {
    "duration": 13,
    "start_time": "2022-02-08T19:52:24.593Z"
   },
   {
    "duration": 6,
    "start_time": "2022-02-08T19:52:24.608Z"
   },
   {
    "duration": 6,
    "start_time": "2022-02-08T19:52:24.616Z"
   },
   {
    "duration": 8,
    "start_time": "2022-02-08T19:52:24.663Z"
   },
   {
    "duration": 7,
    "start_time": "2022-02-08T19:52:24.675Z"
   },
   {
    "duration": 13,
    "start_time": "2022-02-08T19:52:24.685Z"
   },
   {
    "duration": 15,
    "start_time": "2022-02-08T19:52:24.700Z"
   },
   {
    "duration": 54,
    "start_time": "2022-02-08T19:52:24.717Z"
   },
   {
    "duration": 8,
    "start_time": "2022-02-08T19:52:24.773Z"
   },
   {
    "duration": 4,
    "start_time": "2022-02-08T19:52:24.783Z"
   },
   {
    "duration": 16,
    "start_time": "2022-02-08T19:52:24.790Z"
   },
   {
    "duration": 5,
    "start_time": "2022-02-08T19:52:24.808Z"
   },
   {
    "duration": 4,
    "start_time": "2022-02-08T19:52:24.859Z"
   },
   {
    "duration": 10,
    "start_time": "2022-02-08T19:52:24.866Z"
   },
   {
    "duration": 18,
    "start_time": "2022-02-08T19:52:24.878Z"
   },
   {
    "duration": 11,
    "start_time": "2022-02-08T19:52:24.899Z"
   },
   {
    "duration": 50,
    "start_time": "2022-02-08T19:52:24.912Z"
   },
   {
    "duration": 9,
    "start_time": "2022-02-08T19:52:24.964Z"
   },
   {
    "duration": 11,
    "start_time": "2022-02-08T19:52:24.977Z"
   },
   {
    "duration": 5128,
    "start_time": "2022-02-08T19:52:24.990Z"
   },
   {
    "duration": 9,
    "start_time": "2022-02-08T19:52:30.121Z"
   },
   {
    "duration": 34,
    "start_time": "2022-02-08T19:52:30.132Z"
   },
   {
    "duration": 12,
    "start_time": "2022-02-08T19:52:30.168Z"
   },
   {
    "duration": 24,
    "start_time": "2022-02-08T19:52:30.183Z"
   },
   {
    "duration": 15,
    "start_time": "2022-02-08T19:52:30.209Z"
   },
   {
    "duration": 55,
    "start_time": "2022-02-08T19:52:30.226Z"
   },
   {
    "duration": 7,
    "start_time": "2022-02-08T19:52:30.283Z"
   },
   {
    "duration": 26,
    "start_time": "2022-02-08T19:52:30.292Z"
   },
   {
    "duration": 51,
    "start_time": "2022-02-08T19:52:30.321Z"
   },
   {
    "duration": 26,
    "start_time": "2022-02-08T19:52:30.374Z"
   },
   {
    "duration": 21,
    "start_time": "2022-02-08T19:52:30.403Z"
   },
   {
    "duration": 686,
    "start_time": "2022-02-13T16:10:25.798Z"
   },
   {
    "duration": 12,
    "start_time": "2022-02-13T16:10:26.485Z"
   },
   {
    "duration": 25,
    "start_time": "2022-02-13T16:10:26.499Z"
   },
   {
    "duration": 34,
    "start_time": "2022-02-13T16:10:26.526Z"
   },
   {
    "duration": 9,
    "start_time": "2022-02-13T16:10:26.562Z"
   },
   {
    "duration": 7,
    "start_time": "2022-02-13T16:10:26.573Z"
   },
   {
    "duration": 31,
    "start_time": "2022-02-13T16:10:26.582Z"
   },
   {
    "duration": 8,
    "start_time": "2022-02-13T16:10:26.615Z"
   },
   {
    "duration": 8,
    "start_time": "2022-02-13T16:10:26.626Z"
   },
   {
    "duration": 12,
    "start_time": "2022-02-13T16:10:26.636Z"
   },
   {
    "duration": 11,
    "start_time": "2022-02-13T16:10:26.650Z"
   },
   {
    "duration": 17,
    "start_time": "2022-02-13T16:10:26.663Z"
   },
   {
    "duration": 31,
    "start_time": "2022-02-13T16:10:26.682Z"
   },
   {
    "duration": 4,
    "start_time": "2022-02-13T16:10:26.715Z"
   },
   {
    "duration": 13,
    "start_time": "2022-02-13T16:10:26.720Z"
   },
   {
    "duration": 3,
    "start_time": "2022-02-13T16:10:26.735Z"
   },
   {
    "duration": 6,
    "start_time": "2022-02-13T16:10:26.739Z"
   },
   {
    "duration": 11,
    "start_time": "2022-02-13T16:10:26.746Z"
   },
   {
    "duration": 12,
    "start_time": "2022-02-13T16:10:26.759Z"
   },
   {
    "duration": 9,
    "start_time": "2022-02-13T16:10:26.772Z"
   },
   {
    "duration": 5,
    "start_time": "2022-02-13T16:10:26.813Z"
   },
   {
    "duration": 7,
    "start_time": "2022-02-13T16:10:26.820Z"
   },
   {
    "duration": 9,
    "start_time": "2022-02-13T16:10:26.828Z"
   },
   {
    "duration": 3289,
    "start_time": "2022-02-13T16:10:26.838Z"
   },
   {
    "duration": 8,
    "start_time": "2022-02-13T16:10:30.129Z"
   },
   {
    "duration": 17,
    "start_time": "2022-02-13T16:10:30.138Z"
   },
   {
    "duration": 27,
    "start_time": "2022-02-13T16:10:30.158Z"
   },
   {
    "duration": 14,
    "start_time": "2022-02-13T16:10:30.187Z"
   },
   {
    "duration": 15,
    "start_time": "2022-02-13T16:10:30.203Z"
   },
   {
    "duration": 30,
    "start_time": "2022-02-13T16:10:30.221Z"
   },
   {
    "duration": 2,
    "start_time": "2022-02-13T16:10:30.254Z"
   },
   {
    "duration": 430,
    "start_time": "2022-02-13T16:10:30.258Z"
   },
   {
    "duration": 23,
    "start_time": "2022-02-13T16:10:30.667Z"
   },
   {
    "duration": 23,
    "start_time": "2022-02-13T16:10:30.669Z"
   },
   {
    "duration": 23,
    "start_time": "2022-02-13T16:10:30.670Z"
   },
   {
    "duration": 278,
    "start_time": "2022-02-13T16:10:49.053Z"
   },
   {
    "duration": 20,
    "start_time": "2022-02-13T16:10:50.360Z"
   },
   {
    "duration": 287,
    "start_time": "2022-02-13T16:10:53.558Z"
   },
   {
    "duration": 215,
    "start_time": "2022-02-15T18:58:33.067Z"
   },
   {
    "duration": 603,
    "start_time": "2022-02-15T18:58:38.424Z"
   },
   {
    "duration": 11,
    "start_time": "2022-02-15T18:58:39.029Z"
   },
   {
    "duration": 23,
    "start_time": "2022-02-15T18:58:39.042Z"
   },
   {
    "duration": 32,
    "start_time": "2022-02-15T18:58:39.067Z"
   },
   {
    "duration": 13,
    "start_time": "2022-02-15T18:58:39.101Z"
   },
   {
    "duration": 4,
    "start_time": "2022-02-15T18:58:39.117Z"
   },
   {
    "duration": 7,
    "start_time": "2022-02-15T18:58:39.123Z"
   },
   {
    "duration": 6,
    "start_time": "2022-02-15T18:58:39.161Z"
   },
   {
    "duration": 7,
    "start_time": "2022-02-15T18:58:39.169Z"
   },
   {
    "duration": 12,
    "start_time": "2022-02-15T18:58:39.178Z"
   },
   {
    "duration": 215,
    "start_time": "2022-02-15T18:58:39.192Z"
   },
   {
    "duration": -982,
    "start_time": "2022-02-15T18:58:40.391Z"
   },
   {
    "duration": -988,
    "start_time": "2022-02-15T18:58:40.399Z"
   },
   {
    "duration": -994,
    "start_time": "2022-02-15T18:58:40.406Z"
   },
   {
    "duration": -997,
    "start_time": "2022-02-15T18:58:40.410Z"
   },
   {
    "duration": -1003,
    "start_time": "2022-02-15T18:58:40.417Z"
   },
   {
    "duration": -1008,
    "start_time": "2022-02-15T18:58:40.423Z"
   },
   {
    "duration": -1020,
    "start_time": "2022-02-15T18:58:40.436Z"
   },
   {
    "duration": -1024,
    "start_time": "2022-02-15T18:58:40.441Z"
   },
   {
    "duration": -1033,
    "start_time": "2022-02-15T18:58:40.451Z"
   },
   {
    "duration": -1036,
    "start_time": "2022-02-15T18:58:40.456Z"
   },
   {
    "duration": -1044,
    "start_time": "2022-02-15T18:58:40.464Z"
   },
   {
    "duration": -1048,
    "start_time": "2022-02-15T18:58:40.469Z"
   },
   {
    "duration": -1052,
    "start_time": "2022-02-15T18:58:40.474Z"
   },
   {
    "duration": -1058,
    "start_time": "2022-02-15T18:58:40.481Z"
   },
   {
    "duration": -1079,
    "start_time": "2022-02-15T18:58:40.503Z"
   },
   {
    "duration": -1085,
    "start_time": "2022-02-15T18:58:40.510Z"
   },
   {
    "duration": -1096,
    "start_time": "2022-02-15T18:58:40.522Z"
   },
   {
    "duration": -1102,
    "start_time": "2022-02-15T18:58:40.530Z"
   },
   {
    "duration": -1108,
    "start_time": "2022-02-15T18:58:40.537Z"
   },
   {
    "duration": -1113,
    "start_time": "2022-02-15T18:58:40.543Z"
   },
   {
    "duration": -1121,
    "start_time": "2022-02-15T18:58:40.552Z"
   },
   {
    "duration": -1126,
    "start_time": "2022-02-15T18:58:40.558Z"
   },
   {
    "duration": -1136,
    "start_time": "2022-02-15T18:58:40.569Z"
   },
   {
    "duration": -1143,
    "start_time": "2022-02-15T18:58:40.577Z"
   },
   {
    "duration": -1151,
    "start_time": "2022-02-15T18:58:40.586Z"
   },
   {
    "duration": 16,
    "start_time": "2022-02-15T18:58:54.403Z"
   },
   {
    "duration": 15,
    "start_time": "2022-02-15T18:59:16.653Z"
   },
   {
    "duration": 24,
    "start_time": "2022-02-15T18:59:32.033Z"
   },
   {
    "duration": 6,
    "start_time": "2022-02-15T18:59:48.610Z"
   },
   {
    "duration": 5,
    "start_time": "2022-02-15T18:59:56.364Z"
   },
   {
    "duration": 5,
    "start_time": "2022-02-15T19:00:01.907Z"
   },
   {
    "duration": 8,
    "start_time": "2022-02-15T19:04:16.107Z"
   },
   {
    "duration": 207,
    "start_time": "2022-02-16T15:30:24.760Z"
   },
   {
    "duration": 656,
    "start_time": "2022-02-16T15:30:29.442Z"
   },
   {
    "duration": 11,
    "start_time": "2022-02-16T15:30:30.101Z"
   },
   {
    "duration": 28,
    "start_time": "2022-02-16T15:30:30.114Z"
   },
   {
    "duration": 37,
    "start_time": "2022-02-16T15:30:30.144Z"
   },
   {
    "duration": 10,
    "start_time": "2022-02-16T15:30:30.183Z"
   },
   {
    "duration": 10,
    "start_time": "2022-02-16T15:30:30.194Z"
   },
   {
    "duration": 15,
    "start_time": "2022-02-16T15:30:30.205Z"
   },
   {
    "duration": 7,
    "start_time": "2022-02-16T15:30:30.223Z"
   },
   {
    "duration": 29,
    "start_time": "2022-02-16T15:30:30.232Z"
   },
   {
    "duration": 15,
    "start_time": "2022-02-16T15:30:30.263Z"
   },
   {
    "duration": 28,
    "start_time": "2022-02-16T15:30:30.279Z"
   },
   {
    "duration": 29,
    "start_time": "2022-02-16T15:30:30.308Z"
   },
   {
    "duration": 19,
    "start_time": "2022-02-16T15:30:30.339Z"
   },
   {
    "duration": 10,
    "start_time": "2022-02-16T15:30:30.360Z"
   },
   {
    "duration": 9,
    "start_time": "2022-02-16T15:30:30.372Z"
   },
   {
    "duration": 14,
    "start_time": "2022-02-16T15:30:30.383Z"
   },
   {
    "duration": 16,
    "start_time": "2022-02-16T15:30:30.399Z"
   },
   {
    "duration": 7,
    "start_time": "2022-02-16T15:30:30.417Z"
   },
   {
    "duration": 17,
    "start_time": "2022-02-16T15:30:30.425Z"
   },
   {
    "duration": 22,
    "start_time": "2022-02-16T15:30:30.444Z"
   },
   {
    "duration": 15,
    "start_time": "2022-02-16T15:30:30.468Z"
   },
   {
    "duration": 13,
    "start_time": "2022-02-16T15:30:30.485Z"
   },
   {
    "duration": 34,
    "start_time": "2022-02-16T15:30:30.502Z"
   },
   {
    "duration": 36,
    "start_time": "2022-02-16T15:30:30.538Z"
   },
   {
    "duration": 3331,
    "start_time": "2022-02-16T15:30:30.576Z"
   },
   {
    "duration": 7,
    "start_time": "2022-02-16T15:30:33.909Z"
   },
   {
    "duration": 10,
    "start_time": "2022-02-16T15:30:33.919Z"
   },
   {
    "duration": 28,
    "start_time": "2022-02-16T15:30:33.931Z"
   },
   {
    "duration": 8,
    "start_time": "2022-02-16T15:30:33.961Z"
   },
   {
    "duration": 7,
    "start_time": "2022-02-16T15:30:33.971Z"
   },
   {
    "duration": 25,
    "start_time": "2022-02-16T15:30:33.980Z"
   },
   {
    "duration": 2,
    "start_time": "2022-02-16T15:30:34.006Z"
   },
   {
    "duration": 203,
    "start_time": "2022-02-16T15:30:34.010Z"
   },
   {
    "duration": 472,
    "start_time": "2022-02-16T15:30:33.743Z"
   },
   {
    "duration": 468,
    "start_time": "2022-02-16T15:30:33.748Z"
   },
   {
    "duration": 464,
    "start_time": "2022-02-16T15:30:33.753Z"
   },
   {
    "duration": 8,
    "start_time": "2022-02-16T15:31:54.532Z"
   },
   {
    "duration": 5,
    "start_time": "2022-02-16T15:36:31.317Z"
   },
   {
    "duration": 184,
    "start_time": "2022-02-16T15:36:44.194Z"
   },
   {
    "duration": 8,
    "start_time": "2022-02-16T15:37:23.215Z"
   },
   {
    "duration": 10,
    "start_time": "2022-02-16T15:38:02.376Z"
   },
   {
    "duration": 9,
    "start_time": "2022-02-16T15:38:39.944Z"
   },
   {
    "duration": 10,
    "start_time": "2022-02-16T15:38:55.097Z"
   },
   {
    "duration": 8,
    "start_time": "2022-02-16T15:39:13.492Z"
   },
   {
    "duration": 9,
    "start_time": "2022-02-16T15:39:31.717Z"
   },
   {
    "duration": 8,
    "start_time": "2022-02-16T15:40:37.095Z"
   },
   {
    "duration": 182,
    "start_time": "2022-02-16T15:41:54.308Z"
   },
   {
    "duration": 20,
    "start_time": "2022-02-16T15:41:59.560Z"
   },
   {
    "duration": 184,
    "start_time": "2022-02-16T15:42:06.956Z"
   },
   {
    "duration": 69,
    "start_time": "2022-02-16T16:21:39.447Z"
   },
   {
    "duration": 348,
    "start_time": "2022-02-16T16:22:00.221Z"
   },
   {
    "duration": 454,
    "start_time": "2022-02-16T16:22:25.934Z"
   },
   {
    "duration": 316,
    "start_time": "2022-02-16T16:33:46.165Z"
   },
   {
    "duration": 184,
    "start_time": "2022-02-16T16:36:54.989Z"
   },
   {
    "duration": 17,
    "start_time": "2022-02-16T16:37:05.336Z"
   },
   {
    "duration": 32,
    "start_time": "2022-02-16T16:37:16.340Z"
   },
   {
    "duration": 34,
    "start_time": "2022-02-16T16:37:49.594Z"
   },
   {
    "duration": 26,
    "start_time": "2022-02-16T16:38:06.397Z"
   },
   {
    "duration": 14,
    "start_time": "2022-02-16T16:39:39.944Z"
   },
   {
    "duration": 207,
    "start_time": "2022-02-16T16:40:49.498Z"
   },
   {
    "duration": 30,
    "start_time": "2022-02-16T16:41:19.391Z"
   },
   {
    "duration": 26,
    "start_time": "2022-02-16T16:41:57.068Z"
   },
   {
    "duration": 385,
    "start_time": "2022-02-16T16:43:24.586Z"
   },
   {
    "duration": 319,
    "start_time": "2022-02-16T16:47:06.955Z"
   },
   {
    "duration": 302,
    "start_time": "2022-02-16T16:47:26.794Z"
   },
   {
    "duration": 539,
    "start_time": "2022-02-16T16:47:45.405Z"
   },
   {
    "duration": 290,
    "start_time": "2022-02-16T16:51:49.196Z"
   },
   {
    "duration": 380,
    "start_time": "2022-02-16T16:53:45.020Z"
   },
   {
    "duration": 292,
    "start_time": "2022-02-16T17:11:14.119Z"
   },
   {
    "duration": 685,
    "start_time": "2022-02-16T17:12:33.415Z"
   },
   {
    "duration": 783,
    "start_time": "2022-02-16T17:13:26.083Z"
   },
   {
    "duration": 774,
    "start_time": "2022-02-16T17:14:08.438Z"
   },
   {
    "duration": 698,
    "start_time": "2022-02-16T17:14:49.711Z"
   },
   {
    "duration": 289,
    "start_time": "2022-02-16T17:15:36.044Z"
   },
   {
    "duration": 338,
    "start_time": "2022-02-16T17:16:49.316Z"
   },
   {
    "duration": 13,
    "start_time": "2022-02-16T17:18:21.085Z"
   },
   {
    "duration": 21,
    "start_time": "2022-02-16T17:18:37.624Z"
   },
   {
    "duration": 61,
    "start_time": "2022-02-16T17:21:22.821Z"
   },
   {
    "duration": 9,
    "start_time": "2022-02-16T17:21:28.094Z"
   },
   {
    "duration": 338,
    "start_time": "2022-02-16T17:24:13.347Z"
   },
   {
    "duration": 9,
    "start_time": "2022-02-16T17:24:17.923Z"
   },
   {
    "duration": 10,
    "start_time": "2022-02-16T17:24:22.441Z"
   },
   {
    "duration": 338,
    "start_time": "2022-02-16T17:24:45.511Z"
   },
   {
    "duration": 8,
    "start_time": "2022-02-16T17:24:50.146Z"
   },
   {
    "duration": 360,
    "start_time": "2022-02-16T17:25:38.817Z"
   },
   {
    "duration": 8,
    "start_time": "2022-02-16T17:25:42.617Z"
   },
   {
    "duration": 10,
    "start_time": "2022-02-16T17:25:46.330Z"
   },
   {
    "duration": 362,
    "start_time": "2022-02-16T17:25:58.468Z"
   },
   {
    "duration": 9,
    "start_time": "2022-02-16T17:26:01.536Z"
   },
   {
    "duration": 8,
    "start_time": "2022-02-16T17:26:09.918Z"
   },
   {
    "duration": 9,
    "start_time": "2022-02-16T17:26:32.366Z"
   },
   {
    "duration": 47,
    "start_time": "2022-02-16T17:26:35.741Z"
   },
   {
    "duration": 10,
    "start_time": "2022-02-16T17:26:35.789Z"
   },
   {
    "duration": 14,
    "start_time": "2022-02-16T17:26:35.801Z"
   },
   {
    "duration": 59,
    "start_time": "2022-02-16T17:26:35.816Z"
   },
   {
    "duration": 8,
    "start_time": "2022-02-16T17:26:35.877Z"
   },
   {
    "duration": 8,
    "start_time": "2022-02-16T17:26:35.887Z"
   },
   {
    "duration": 10,
    "start_time": "2022-02-16T17:26:35.896Z"
   },
   {
    "duration": 8,
    "start_time": "2022-02-16T17:26:35.908Z"
   },
   {
    "duration": 7,
    "start_time": "2022-02-16T17:26:35.918Z"
   },
   {
    "duration": 36,
    "start_time": "2022-02-16T17:26:35.926Z"
   },
   {
    "duration": 9,
    "start_time": "2022-02-16T17:26:35.964Z"
   },
   {
    "duration": 11,
    "start_time": "2022-02-16T17:26:35.975Z"
   },
   {
    "duration": 382,
    "start_time": "2022-02-16T17:26:35.987Z"
   },
   {
    "duration": 9,
    "start_time": "2022-02-16T17:26:36.371Z"
   },
   {
    "duration": 11,
    "start_time": "2022-02-16T17:26:36.381Z"
   },
   {
    "duration": 14,
    "start_time": "2022-02-16T17:26:36.394Z"
   },
   {
    "duration": 7,
    "start_time": "2022-02-16T17:26:36.410Z"
   },
   {
    "duration": 7,
    "start_time": "2022-02-16T17:26:36.419Z"
   },
   {
    "duration": 38,
    "start_time": "2022-02-16T17:26:36.428Z"
   },
   {
    "duration": 5,
    "start_time": "2022-02-16T17:26:36.468Z"
   },
   {
    "duration": 7,
    "start_time": "2022-02-16T17:26:36.474Z"
   },
   {
    "duration": 10,
    "start_time": "2022-02-16T17:26:36.483Z"
   },
   {
    "duration": 11,
    "start_time": "2022-02-16T17:26:36.496Z"
   },
   {
    "duration": 9,
    "start_time": "2022-02-16T17:26:36.509Z"
   },
   {
    "duration": 8,
    "start_time": "2022-02-16T17:26:36.520Z"
   },
   {
    "duration": 8,
    "start_time": "2022-02-16T17:26:36.560Z"
   },
   {
    "duration": 10,
    "start_time": "2022-02-16T17:26:36.570Z"
   },
   {
    "duration": 3330,
    "start_time": "2022-02-16T17:26:36.581Z"
   },
   {
    "duration": 7,
    "start_time": "2022-02-16T17:26:39.913Z"
   },
   {
    "duration": 15,
    "start_time": "2022-02-16T17:26:39.922Z"
   },
   {
    "duration": 24,
    "start_time": "2022-02-16T17:26:39.939Z"
   },
   {
    "duration": 9,
    "start_time": "2022-02-16T17:26:39.965Z"
   },
   {
    "duration": 7,
    "start_time": "2022-02-16T17:26:39.976Z"
   },
   {
    "duration": 25,
    "start_time": "2022-02-16T17:26:39.985Z"
   },
   {
    "duration": 3,
    "start_time": "2022-02-16T17:26:40.012Z"
   },
   {
    "duration": 181,
    "start_time": "2022-02-16T17:26:40.016Z"
   },
   {
    "duration": -50,
    "start_time": "2022-02-16T17:26:40.249Z"
   },
   {
    "duration": -65,
    "start_time": "2022-02-16T17:26:40.265Z"
   },
   {
    "duration": -79,
    "start_time": "2022-02-16T17:26:40.280Z"
   },
   {
    "duration": 419,
    "start_time": "2022-02-16T17:28:03.251Z"
   },
   {
    "duration": 12,
    "start_time": "2022-02-16T17:28:08.586Z"
   },
   {
    "duration": 10,
    "start_time": "2022-02-16T17:31:58.741Z"
   },
   {
    "duration": 10,
    "start_time": "2022-02-16T17:32:01.508Z"
   },
   {
    "duration": 47,
    "start_time": "2022-02-16T17:32:05.331Z"
   },
   {
    "duration": 10,
    "start_time": "2022-02-16T17:32:05.380Z"
   },
   {
    "duration": 19,
    "start_time": "2022-02-16T17:32:05.392Z"
   },
   {
    "duration": 58,
    "start_time": "2022-02-16T17:32:05.413Z"
   },
   {
    "duration": 9,
    "start_time": "2022-02-16T17:32:05.473Z"
   },
   {
    "duration": 7,
    "start_time": "2022-02-16T17:32:05.484Z"
   },
   {
    "duration": 4,
    "start_time": "2022-02-16T17:32:05.492Z"
   },
   {
    "duration": 8,
    "start_time": "2022-02-16T17:32:05.499Z"
   },
   {
    "duration": 4,
    "start_time": "2022-02-16T17:32:05.509Z"
   },
   {
    "duration": 12,
    "start_time": "2022-02-16T17:32:05.514Z"
   },
   {
    "duration": 7,
    "start_time": "2022-02-16T17:32:05.560Z"
   },
   {
    "duration": 16,
    "start_time": "2022-02-16T17:32:05.568Z"
   },
   {
    "duration": 370,
    "start_time": "2022-02-16T17:32:05.586Z"
   },
   {
    "duration": 8,
    "start_time": "2022-02-16T17:32:05.958Z"
   },
   {
    "duration": 15,
    "start_time": "2022-02-16T17:32:05.967Z"
   },
   {
    "duration": 15,
    "start_time": "2022-02-16T17:32:05.984Z"
   },
   {
    "duration": 9,
    "start_time": "2022-02-16T17:32:06.001Z"
   },
   {
    "duration": 8,
    "start_time": "2022-02-16T17:32:06.011Z"
   },
   {
    "duration": 22,
    "start_time": "2022-02-16T17:32:06.020Z"
   },
   {
    "duration": 16,
    "start_time": "2022-02-16T17:32:06.043Z"
   },
   {
    "duration": 9,
    "start_time": "2022-02-16T17:32:06.060Z"
   },
   {
    "duration": 14,
    "start_time": "2022-02-16T17:32:06.070Z"
   },
   {
    "duration": 24,
    "start_time": "2022-02-16T17:32:06.087Z"
   },
   {
    "duration": 28,
    "start_time": "2022-02-16T17:32:06.112Z"
   },
   {
    "duration": 9,
    "start_time": "2022-02-16T17:32:06.142Z"
   },
   {
    "duration": 18,
    "start_time": "2022-02-16T17:32:06.153Z"
   },
   {
    "duration": 9,
    "start_time": "2022-02-16T17:32:06.173Z"
   },
   {
    "duration": 3561,
    "start_time": "2022-02-16T17:32:06.183Z"
   },
   {
    "duration": 16,
    "start_time": "2022-02-16T17:32:09.746Z"
   },
   {
    "duration": 12,
    "start_time": "2022-02-16T17:32:09.764Z"
   },
   {
    "duration": 9,
    "start_time": "2022-02-16T17:32:09.777Z"
   },
   {
    "duration": 8,
    "start_time": "2022-02-16T17:32:09.788Z"
   },
   {
    "duration": 7,
    "start_time": "2022-02-16T17:32:09.797Z"
   },
   {
    "duration": 22,
    "start_time": "2022-02-16T17:32:09.805Z"
   },
   {
    "duration": 30,
    "start_time": "2022-02-16T17:32:09.829Z"
   },
   {
    "duration": 174,
    "start_time": "2022-02-16T17:32:09.861Z"
   },
   {
    "duration": -11,
    "start_time": "2022-02-16T17:32:10.048Z"
   },
   {
    "duration": -40,
    "start_time": "2022-02-16T17:32:10.079Z"
   },
   {
    "duration": -49,
    "start_time": "2022-02-16T17:32:10.089Z"
   },
   {
    "duration": 7,
    "start_time": "2022-02-16T17:35:13.473Z"
   },
   {
    "duration": 358,
    "start_time": "2022-02-16T17:35:34.997Z"
   },
   {
    "duration": 9,
    "start_time": "2022-02-16T17:35:38.252Z"
   },
   {
    "duration": 351,
    "start_time": "2022-02-16T17:37:16.721Z"
   },
   {
    "duration": 374,
    "start_time": "2022-02-16T17:37:40.218Z"
   },
   {
    "duration": 9,
    "start_time": "2022-02-16T17:37:42.671Z"
   },
   {
    "duration": 7,
    "start_time": "2022-02-16T17:38:06.777Z"
   },
   {
    "duration": 10,
    "start_time": "2022-02-16T17:38:09.229Z"
   },
   {
    "duration": 4,
    "start_time": "2022-02-16T17:38:28.458Z"
   },
   {
    "duration": 9,
    "start_time": "2022-02-16T17:38:30.566Z"
   },
   {
    "duration": 10,
    "start_time": "2022-02-16T17:38:36.462Z"
   },
   {
    "duration": 10,
    "start_time": "2022-02-16T17:38:54.035Z"
   },
   {
    "duration": 47,
    "start_time": "2022-02-16T17:38:56.927Z"
   },
   {
    "duration": 11,
    "start_time": "2022-02-16T17:38:56.976Z"
   },
   {
    "duration": 20,
    "start_time": "2022-02-16T17:38:56.989Z"
   },
   {
    "duration": 56,
    "start_time": "2022-02-16T17:38:57.011Z"
   },
   {
    "duration": 9,
    "start_time": "2022-02-16T17:38:57.069Z"
   },
   {
    "duration": 22,
    "start_time": "2022-02-16T17:38:57.080Z"
   },
   {
    "duration": 12,
    "start_time": "2022-02-16T17:38:57.105Z"
   },
   {
    "duration": 13,
    "start_time": "2022-02-16T17:38:57.119Z"
   },
   {
    "duration": 13,
    "start_time": "2022-02-16T17:38:57.135Z"
   },
   {
    "duration": 11,
    "start_time": "2022-02-16T17:38:57.150Z"
   },
   {
    "duration": 7,
    "start_time": "2022-02-16T17:38:57.163Z"
   },
   {
    "duration": 13,
    "start_time": "2022-02-16T17:38:57.172Z"
   },
   {
    "duration": 393,
    "start_time": "2022-02-16T17:38:57.187Z"
   },
   {
    "duration": 8,
    "start_time": "2022-02-16T17:38:57.582Z"
   },
   {
    "duration": 11,
    "start_time": "2022-02-16T17:38:57.592Z"
   },
   {
    "duration": 28,
    "start_time": "2022-02-16T17:38:57.604Z"
   },
   {
    "duration": 15,
    "start_time": "2022-02-16T17:38:57.633Z"
   },
   {
    "duration": 10,
    "start_time": "2022-02-16T17:38:57.649Z"
   },
   {
    "duration": 12,
    "start_time": "2022-02-16T17:38:57.661Z"
   },
   {
    "duration": 4,
    "start_time": "2022-02-16T17:38:57.675Z"
   },
   {
    "duration": 9,
    "start_time": "2022-02-16T17:38:57.681Z"
   },
   {
    "duration": 16,
    "start_time": "2022-02-16T17:38:57.692Z"
   },
   {
    "duration": 21,
    "start_time": "2022-02-16T17:38:57.711Z"
   },
   {
    "duration": 24,
    "start_time": "2022-02-16T17:38:57.735Z"
   },
   {
    "duration": 6,
    "start_time": "2022-02-16T17:38:57.761Z"
   },
   {
    "duration": 19,
    "start_time": "2022-02-16T17:38:57.769Z"
   },
   {
    "duration": 13,
    "start_time": "2022-02-16T17:38:57.790Z"
   },
   {
    "duration": 3505,
    "start_time": "2022-02-16T17:38:57.804Z"
   },
   {
    "duration": 8,
    "start_time": "2022-02-16T17:39:01.312Z"
   },
   {
    "duration": 18,
    "start_time": "2022-02-16T17:39:01.321Z"
   },
   {
    "duration": 24,
    "start_time": "2022-02-16T17:39:01.341Z"
   },
   {
    "duration": 35,
    "start_time": "2022-02-16T17:39:01.367Z"
   },
   {
    "duration": 16,
    "start_time": "2022-02-16T17:39:01.404Z"
   },
   {
    "duration": 30,
    "start_time": "2022-02-16T17:39:01.422Z"
   },
   {
    "duration": 3,
    "start_time": "2022-02-16T17:39:01.453Z"
   },
   {
    "duration": 198,
    "start_time": "2022-02-16T17:39:01.457Z"
   },
   {
    "duration": 62,
    "start_time": "2022-02-16T17:39:01.595Z"
   },
   {
    "duration": 26,
    "start_time": "2022-02-16T17:39:01.632Z"
   },
   {
    "duration": -3,
    "start_time": "2022-02-16T17:39:01.662Z"
   },
   {
    "duration": 1216,
    "start_time": "2022-02-16T18:00:22.432Z"
   },
   {
    "duration": 189,
    "start_time": "2022-02-16T18:00:31.258Z"
   },
   {
    "duration": 220,
    "start_time": "2022-02-16T18:00:40.542Z"
   },
   {
    "duration": 49,
    "start_time": "2022-02-16T18:00:50.572Z"
   },
   {
    "duration": 12,
    "start_time": "2022-02-16T18:00:50.623Z"
   },
   {
    "duration": 31,
    "start_time": "2022-02-16T18:00:50.637Z"
   },
   {
    "duration": 36,
    "start_time": "2022-02-16T18:00:50.670Z"
   },
   {
    "duration": 10,
    "start_time": "2022-02-16T18:00:50.708Z"
   },
   {
    "duration": 40,
    "start_time": "2022-02-16T18:00:50.720Z"
   },
   {
    "duration": 8,
    "start_time": "2022-02-16T18:00:50.762Z"
   },
   {
    "duration": 8,
    "start_time": "2022-02-16T18:00:50.773Z"
   },
   {
    "duration": 4,
    "start_time": "2022-02-16T18:00:50.783Z"
   },
   {
    "duration": 23,
    "start_time": "2022-02-16T18:00:50.788Z"
   },
   {
    "duration": 11,
    "start_time": "2022-02-16T18:00:50.812Z"
   },
   {
    "duration": 13,
    "start_time": "2022-02-16T18:00:50.825Z"
   },
   {
    "duration": 396,
    "start_time": "2022-02-16T18:00:50.840Z"
   },
   {
    "duration": 185,
    "start_time": "2022-02-16T18:00:51.238Z"
   },
   {
    "duration": -69,
    "start_time": "2022-02-16T18:00:51.495Z"
   },
   {
    "duration": -75,
    "start_time": "2022-02-16T18:00:51.502Z"
   },
   {
    "duration": -79,
    "start_time": "2022-02-16T18:00:51.507Z"
   },
   {
    "duration": -83,
    "start_time": "2022-02-16T18:00:51.512Z"
   },
   {
    "duration": -90,
    "start_time": "2022-02-16T18:00:51.520Z"
   },
   {
    "duration": -94,
    "start_time": "2022-02-16T18:00:51.525Z"
   },
   {
    "duration": -98,
    "start_time": "2022-02-16T18:00:51.530Z"
   },
   {
    "duration": -102,
    "start_time": "2022-02-16T18:00:51.536Z"
   },
   {
    "duration": -106,
    "start_time": "2022-02-16T18:00:51.541Z"
   },
   {
    "duration": -111,
    "start_time": "2022-02-16T18:00:51.547Z"
   },
   {
    "duration": -116,
    "start_time": "2022-02-16T18:00:51.553Z"
   },
   {
    "duration": -120,
    "start_time": "2022-02-16T18:00:51.558Z"
   },
   {
    "duration": -125,
    "start_time": "2022-02-16T18:00:51.564Z"
   },
   {
    "duration": -131,
    "start_time": "2022-02-16T18:00:51.571Z"
   },
   {
    "duration": -134,
    "start_time": "2022-02-16T18:00:51.576Z"
   },
   {
    "duration": -149,
    "start_time": "2022-02-16T18:00:51.592Z"
   },
   {
    "duration": -155,
    "start_time": "2022-02-16T18:00:51.599Z"
   },
   {
    "duration": -164,
    "start_time": "2022-02-16T18:00:51.609Z"
   },
   {
    "duration": -169,
    "start_time": "2022-02-16T18:00:51.615Z"
   },
   {
    "duration": -176,
    "start_time": "2022-02-16T18:00:51.623Z"
   },
   {
    "duration": -183,
    "start_time": "2022-02-16T18:00:51.631Z"
   },
   {
    "duration": -190,
    "start_time": "2022-02-16T18:00:51.639Z"
   },
   {
    "duration": -193,
    "start_time": "2022-02-16T18:00:51.643Z"
   },
   {
    "duration": -198,
    "start_time": "2022-02-16T18:00:51.649Z"
   },
   {
    "duration": -202,
    "start_time": "2022-02-16T18:00:51.654Z"
   },
   {
    "duration": 9,
    "start_time": "2022-02-16T18:01:09.957Z"
   },
   {
    "duration": 4372,
    "start_time": "2022-02-16T18:10:39.236Z"
   },
   {
    "duration": 54,
    "start_time": "2022-02-16T18:10:56.025Z"
   },
   {
    "duration": 13,
    "start_time": "2022-02-16T18:10:56.081Z"
   },
   {
    "duration": 17,
    "start_time": "2022-02-16T18:10:56.096Z"
   },
   {
    "duration": 59,
    "start_time": "2022-02-16T18:10:56.115Z"
   },
   {
    "duration": 10,
    "start_time": "2022-02-16T18:10:56.175Z"
   },
   {
    "duration": 5,
    "start_time": "2022-02-16T18:10:56.187Z"
   },
   {
    "duration": 6,
    "start_time": "2022-02-16T18:10:56.193Z"
   },
   {
    "duration": 10,
    "start_time": "2022-02-16T18:10:56.201Z"
   },
   {
    "duration": 5,
    "start_time": "2022-02-16T18:10:56.213Z"
   },
   {
    "duration": 45,
    "start_time": "2022-02-16T18:10:56.219Z"
   },
   {
    "duration": 6,
    "start_time": "2022-02-16T18:10:56.266Z"
   },
   {
    "duration": 11,
    "start_time": "2022-02-16T18:10:56.274Z"
   },
   {
    "duration": 393,
    "start_time": "2022-02-16T18:10:56.287Z"
   },
   {
    "duration": 9,
    "start_time": "2022-02-16T18:10:56.682Z"
   },
   {
    "duration": 12,
    "start_time": "2022-02-16T18:10:56.693Z"
   },
   {
    "duration": 16,
    "start_time": "2022-02-16T18:10:56.706Z"
   },
   {
    "duration": 13,
    "start_time": "2022-02-16T18:10:56.724Z"
   },
   {
    "duration": 21,
    "start_time": "2022-02-16T18:10:56.740Z"
   },
   {
    "duration": 12,
    "start_time": "2022-02-16T18:10:56.763Z"
   },
   {
    "duration": 5,
    "start_time": "2022-02-16T18:10:56.777Z"
   },
   {
    "duration": 5,
    "start_time": "2022-02-16T18:10:56.784Z"
   },
   {
    "duration": 13,
    "start_time": "2022-02-16T18:10:56.791Z"
   },
   {
    "duration": 51,
    "start_time": "2022-02-16T18:10:56.808Z"
   },
   {
    "duration": 14,
    "start_time": "2022-02-16T18:10:56.861Z"
   },
   {
    "duration": 12,
    "start_time": "2022-02-16T18:10:56.877Z"
   },
   {
    "duration": 11,
    "start_time": "2022-02-16T18:10:56.890Z"
   },
   {
    "duration": 13,
    "start_time": "2022-02-16T18:10:56.903Z"
   },
   {
    "duration": 3627,
    "start_time": "2022-02-16T18:10:56.917Z"
   },
   {
    "duration": 17,
    "start_time": "2022-02-16T18:11:00.546Z"
   },
   {
    "duration": 12,
    "start_time": "2022-02-16T18:11:00.564Z"
   },
   {
    "duration": 11,
    "start_time": "2022-02-16T18:11:00.578Z"
   },
   {
    "duration": 7,
    "start_time": "2022-02-16T18:11:00.591Z"
   },
   {
    "duration": 15,
    "start_time": "2022-02-16T18:11:00.600Z"
   },
   {
    "duration": 49,
    "start_time": "2022-02-16T18:11:00.617Z"
   },
   {
    "duration": 2,
    "start_time": "2022-02-16T18:11:00.668Z"
   },
   {
    "duration": 189,
    "start_time": "2022-02-16T18:11:00.672Z"
   },
   {
    "duration": -66,
    "start_time": "2022-02-16T18:11:00.929Z"
   },
   {
    "duration": -71,
    "start_time": "2022-02-16T18:11:00.936Z"
   },
   {
    "duration": -76,
    "start_time": "2022-02-16T18:11:00.942Z"
   },
   {
    "duration": 9,
    "start_time": "2022-02-16T19:09:44.698Z"
   },
   {
    "duration": 12,
    "start_time": "2022-02-16T19:26:09.963Z"
   },
   {
    "duration": 47,
    "start_time": "2022-02-16T19:31:25.550Z"
   },
   {
    "duration": 10,
    "start_time": "2022-02-16T19:31:25.599Z"
   },
   {
    "duration": 14,
    "start_time": "2022-02-16T19:31:25.611Z"
   },
   {
    "duration": 64,
    "start_time": "2022-02-16T19:31:25.627Z"
   },
   {
    "duration": 9,
    "start_time": "2022-02-16T19:31:25.693Z"
   },
   {
    "duration": 4,
    "start_time": "2022-02-16T19:31:25.704Z"
   },
   {
    "duration": 7,
    "start_time": "2022-02-16T19:31:25.709Z"
   },
   {
    "duration": 7,
    "start_time": "2022-02-16T19:31:25.718Z"
   },
   {
    "duration": 4,
    "start_time": "2022-02-16T19:31:25.759Z"
   },
   {
    "duration": 12,
    "start_time": "2022-02-16T19:31:25.765Z"
   },
   {
    "duration": 8,
    "start_time": "2022-02-16T19:31:25.779Z"
   },
   {
    "duration": 10,
    "start_time": "2022-02-16T19:31:25.789Z"
   },
   {
    "duration": 386,
    "start_time": "2022-02-16T19:31:25.801Z"
   },
   {
    "duration": 8,
    "start_time": "2022-02-16T19:31:26.188Z"
   },
   {
    "duration": 12,
    "start_time": "2022-02-16T19:31:26.198Z"
   },
   {
    "duration": 15,
    "start_time": "2022-02-16T19:31:26.212Z"
   },
   {
    "duration": 8,
    "start_time": "2022-02-16T19:31:26.228Z"
   },
   {
    "duration": 25,
    "start_time": "2022-02-16T19:31:26.237Z"
   },
   {
    "duration": 15,
    "start_time": "2022-02-16T19:31:26.264Z"
   },
   {
    "duration": 3,
    "start_time": "2022-02-16T19:31:26.281Z"
   },
   {
    "duration": 8,
    "start_time": "2022-02-16T19:31:26.286Z"
   },
   {
    "duration": 11,
    "start_time": "2022-02-16T19:31:26.296Z"
   },
   {
    "duration": 10,
    "start_time": "2022-02-16T19:31:26.310Z"
   },
   {
    "duration": 12,
    "start_time": "2022-02-16T19:31:26.322Z"
   },
   {
    "duration": 24,
    "start_time": "2022-02-16T19:31:26.336Z"
   },
   {
    "duration": 8,
    "start_time": "2022-02-16T19:31:26.361Z"
   },
   {
    "duration": 11,
    "start_time": "2022-02-16T19:31:26.371Z"
   },
   {
    "duration": 3424,
    "start_time": "2022-02-16T19:31:26.383Z"
   },
   {
    "duration": 7,
    "start_time": "2022-02-16T19:31:29.810Z"
   },
   {
    "duration": 10,
    "start_time": "2022-02-16T19:31:29.819Z"
   },
   {
    "duration": 29,
    "start_time": "2022-02-16T19:31:29.831Z"
   },
   {
    "duration": 7,
    "start_time": "2022-02-16T19:31:29.861Z"
   },
   {
    "duration": 10,
    "start_time": "2022-02-16T19:31:29.869Z"
   },
   {
    "duration": 28,
    "start_time": "2022-02-16T19:31:29.880Z"
   },
   {
    "duration": 2,
    "start_time": "2022-02-16T19:31:29.910Z"
   },
   {
    "duration": 199,
    "start_time": "2022-02-16T19:31:29.914Z"
   },
   {
    "duration": -160,
    "start_time": "2022-02-16T19:31:30.275Z"
   },
   {
    "duration": -165,
    "start_time": "2022-02-16T19:31:30.282Z"
   },
   {
    "duration": -169,
    "start_time": "2022-02-16T19:31:30.287Z"
   },
   {
    "duration": 345,
    "start_time": "2022-02-16T19:33:49.636Z"
   },
   {
    "duration": 9,
    "start_time": "2022-02-16T19:33:53.957Z"
   },
   {
    "duration": 348,
    "start_time": "2022-02-16T19:34:08.763Z"
   },
   {
    "duration": 8,
    "start_time": "2022-02-16T19:34:12.791Z"
   },
   {
    "duration": 353,
    "start_time": "2022-02-16T19:42:37.524Z"
   },
   {
    "duration": 8,
    "start_time": "2022-02-16T19:42:42.715Z"
   },
   {
    "duration": 4,
    "start_time": "2022-02-16T19:47:50.770Z"
   },
   {
    "duration": 4,
    "start_time": "2022-02-16T19:47:55.059Z"
   },
   {
    "duration": 4,
    "start_time": "2022-02-16T19:48:17.018Z"
   },
   {
    "duration": 45,
    "start_time": "2022-02-16T19:48:24.204Z"
   },
   {
    "duration": 10,
    "start_time": "2022-02-16T19:48:24.251Z"
   },
   {
    "duration": 13,
    "start_time": "2022-02-16T19:48:24.263Z"
   },
   {
    "duration": 35,
    "start_time": "2022-02-16T19:48:24.278Z"
   },
   {
    "duration": 45,
    "start_time": "2022-02-16T19:48:24.315Z"
   },
   {
    "duration": 5,
    "start_time": "2022-02-16T19:48:24.362Z"
   },
   {
    "duration": 7,
    "start_time": "2022-02-16T19:48:24.369Z"
   },
   {
    "duration": 10,
    "start_time": "2022-02-16T19:48:24.378Z"
   },
   {
    "duration": 4,
    "start_time": "2022-02-16T19:48:24.390Z"
   },
   {
    "duration": 14,
    "start_time": "2022-02-16T19:48:24.395Z"
   },
   {
    "duration": 9,
    "start_time": "2022-02-16T19:48:24.410Z"
   },
   {
    "duration": 45,
    "start_time": "2022-02-16T19:48:24.421Z"
   },
   {
    "duration": 378,
    "start_time": "2022-02-16T19:48:24.468Z"
   },
   {
    "duration": 11,
    "start_time": "2022-02-16T19:48:24.848Z"
   },
   {
    "duration": 12,
    "start_time": "2022-02-16T19:48:24.861Z"
   },
   {
    "duration": 21,
    "start_time": "2022-02-16T19:48:24.875Z"
   },
   {
    "duration": 13,
    "start_time": "2022-02-16T19:48:24.898Z"
   },
   {
    "duration": 14,
    "start_time": "2022-02-16T19:48:24.913Z"
   },
   {
    "duration": 15,
    "start_time": "2022-02-16T19:48:24.928Z"
   },
   {
    "duration": 3,
    "start_time": "2022-02-16T19:48:24.944Z"
   },
   {
    "duration": 5,
    "start_time": "2022-02-16T19:48:24.959Z"
   },
   {
    "duration": 13,
    "start_time": "2022-02-16T19:48:24.966Z"
   },
   {
    "duration": 12,
    "start_time": "2022-02-16T19:48:24.983Z"
   },
   {
    "duration": 14,
    "start_time": "2022-02-16T19:48:24.997Z"
   },
   {
    "duration": 10,
    "start_time": "2022-02-16T19:48:25.013Z"
   },
   {
    "duration": 35,
    "start_time": "2022-02-16T19:48:25.025Z"
   },
   {
    "duration": 8,
    "start_time": "2022-02-16T19:48:25.062Z"
   },
   {
    "duration": 3555,
    "start_time": "2022-02-16T19:48:25.072Z"
   },
   {
    "duration": 8,
    "start_time": "2022-02-16T19:48:28.629Z"
   },
   {
    "duration": 31,
    "start_time": "2022-02-16T19:48:28.638Z"
   },
   {
    "duration": 29,
    "start_time": "2022-02-16T19:48:28.671Z"
   },
   {
    "duration": 79,
    "start_time": "2022-02-16T19:48:28.702Z"
   },
   {
    "duration": 105,
    "start_time": "2022-02-16T19:48:28.783Z"
   },
   {
    "duration": 94,
    "start_time": "2022-02-16T19:48:28.890Z"
   },
   {
    "duration": 2,
    "start_time": "2022-02-16T19:48:28.986Z"
   },
   {
    "duration": 194,
    "start_time": "2022-02-16T19:48:28.989Z"
   },
   {
    "duration": -237,
    "start_time": "2022-02-16T19:48:29.422Z"
   },
   {
    "duration": -270,
    "start_time": "2022-02-16T19:48:29.456Z"
   },
   {
    "duration": -280,
    "start_time": "2022-02-16T19:48:29.467Z"
   },
   {
    "duration": 196,
    "start_time": "2022-02-16T20:04:18.814Z"
   },
   {
    "duration": 17,
    "start_time": "2022-02-16T20:06:54.236Z"
   },
   {
    "duration": 13,
    "start_time": "2022-02-16T20:07:12.261Z"
   },
   {
    "duration": 15,
    "start_time": "2022-02-16T20:14:37.859Z"
   },
   {
    "duration": 187,
    "start_time": "2022-02-16T20:14:52.720Z"
   },
   {
    "duration": 22,
    "start_time": "2022-02-16T20:15:20.372Z"
   },
   {
    "duration": 21,
    "start_time": "2022-02-16T20:15:37.457Z"
   },
   {
    "duration": 23,
    "start_time": "2022-02-16T20:15:44.004Z"
   },
   {
    "duration": 186,
    "start_time": "2022-02-16T20:16:04.415Z"
   },
   {
    "duration": 16,
    "start_time": "2022-02-16T20:16:25.650Z"
   },
   {
    "duration": 47,
    "start_time": "2022-02-16T20:16:37.783Z"
   },
   {
    "duration": 11,
    "start_time": "2022-02-16T20:16:37.832Z"
   },
   {
    "duration": 14,
    "start_time": "2022-02-16T20:16:37.845Z"
   },
   {
    "duration": 35,
    "start_time": "2022-02-16T20:16:37.861Z"
   },
   {
    "duration": 9,
    "start_time": "2022-02-16T20:16:37.898Z"
   },
   {
    "duration": 8,
    "start_time": "2022-02-16T20:16:37.908Z"
   },
   {
    "duration": 6,
    "start_time": "2022-02-16T20:16:37.918Z"
   },
   {
    "duration": 41,
    "start_time": "2022-02-16T20:16:37.927Z"
   },
   {
    "duration": 4,
    "start_time": "2022-02-16T20:16:37.971Z"
   },
   {
    "duration": 18,
    "start_time": "2022-02-16T20:16:37.977Z"
   },
   {
    "duration": 10,
    "start_time": "2022-02-16T20:16:37.997Z"
   },
   {
    "duration": 21,
    "start_time": "2022-02-16T20:16:38.009Z"
   },
   {
    "duration": 379,
    "start_time": "2022-02-16T20:16:38.031Z"
   },
   {
    "duration": 11,
    "start_time": "2022-02-16T20:16:38.412Z"
   },
   {
    "duration": 16,
    "start_time": "2022-02-16T20:16:38.425Z"
   },
   {
    "duration": 28,
    "start_time": "2022-02-16T20:16:38.443Z"
   },
   {
    "duration": 7,
    "start_time": "2022-02-16T20:16:38.473Z"
   },
   {
    "duration": 3,
    "start_time": "2022-02-16T20:16:38.482Z"
   },
   {
    "duration": 19,
    "start_time": "2022-02-16T20:16:38.487Z"
   },
   {
    "duration": 4,
    "start_time": "2022-02-16T20:16:38.508Z"
   },
   {
    "duration": 8,
    "start_time": "2022-02-16T20:16:38.514Z"
   },
   {
    "duration": 11,
    "start_time": "2022-02-16T20:16:38.523Z"
   },
   {
    "duration": 11,
    "start_time": "2022-02-16T20:16:38.560Z"
   },
   {
    "duration": 10,
    "start_time": "2022-02-16T20:16:38.573Z"
   },
   {
    "duration": 10,
    "start_time": "2022-02-16T20:16:38.585Z"
   },
   {
    "duration": 8,
    "start_time": "2022-02-16T20:16:38.597Z"
   },
   {
    "duration": 8,
    "start_time": "2022-02-16T20:16:38.606Z"
   },
   {
    "duration": 3779,
    "start_time": "2022-02-16T20:16:38.615Z"
   },
   {
    "duration": 7,
    "start_time": "2022-02-16T20:16:42.397Z"
   },
   {
    "duration": 30,
    "start_time": "2022-02-16T20:16:42.406Z"
   },
   {
    "duration": 15,
    "start_time": "2022-02-16T20:16:42.437Z"
   },
   {
    "duration": 21,
    "start_time": "2022-02-16T20:16:42.454Z"
   },
   {
    "duration": 7,
    "start_time": "2022-02-16T20:16:42.476Z"
   },
   {
    "duration": 36,
    "start_time": "2022-02-16T20:16:42.484Z"
   },
   {
    "duration": 3,
    "start_time": "2022-02-16T20:16:42.522Z"
   },
   {
    "duration": 24,
    "start_time": "2022-02-16T20:16:42.527Z"
   },
   {
    "duration": 22,
    "start_time": "2022-02-16T20:16:42.553Z"
   },
   {
    "duration": 33,
    "start_time": "2022-02-16T20:16:42.577Z"
   },
   {
    "duration": 15,
    "start_time": "2022-02-16T20:16:42.612Z"
   },
   {
    "duration": 694,
    "start_time": "2022-02-17T16:08:24.576Z"
   },
   {
    "duration": 12,
    "start_time": "2022-02-17T16:08:25.273Z"
   },
   {
    "duration": 39,
    "start_time": "2022-02-17T16:08:25.287Z"
   },
   {
    "duration": 35,
    "start_time": "2022-02-17T16:08:25.328Z"
   },
   {
    "duration": 11,
    "start_time": "2022-02-17T16:08:25.365Z"
   },
   {
    "duration": 8,
    "start_time": "2022-02-17T16:08:25.377Z"
   },
   {
    "duration": 6,
    "start_time": "2022-02-17T16:08:25.408Z"
   },
   {
    "duration": 18,
    "start_time": "2022-02-17T16:08:25.417Z"
   },
   {
    "duration": 15,
    "start_time": "2022-02-17T16:08:25.437Z"
   },
   {
    "duration": 34,
    "start_time": "2022-02-17T16:08:25.454Z"
   },
   {
    "duration": 10,
    "start_time": "2022-02-17T16:08:25.490Z"
   },
   {
    "duration": 31,
    "start_time": "2022-02-17T16:08:25.502Z"
   },
   {
    "duration": 422,
    "start_time": "2022-02-17T16:08:25.535Z"
   },
   {
    "duration": 12,
    "start_time": "2022-02-17T16:08:25.959Z"
   },
   {
    "duration": 33,
    "start_time": "2022-02-17T16:08:25.973Z"
   },
   {
    "duration": 20,
    "start_time": "2022-02-17T16:08:26.009Z"
   },
   {
    "duration": 17,
    "start_time": "2022-02-17T16:08:26.031Z"
   },
   {
    "duration": 13,
    "start_time": "2022-02-17T16:08:26.050Z"
   },
   {
    "duration": 17,
    "start_time": "2022-02-17T16:08:26.065Z"
   },
   {
    "duration": 19,
    "start_time": "2022-02-17T16:08:26.085Z"
   },
   {
    "duration": 18,
    "start_time": "2022-02-17T16:08:26.107Z"
   },
   {
    "duration": 13,
    "start_time": "2022-02-17T16:08:26.127Z"
   },
   {
    "duration": 21,
    "start_time": "2022-02-17T16:08:26.143Z"
   },
   {
    "duration": 24,
    "start_time": "2022-02-17T16:08:26.167Z"
   },
   {
    "duration": 16,
    "start_time": "2022-02-17T16:08:26.193Z"
   },
   {
    "duration": 16,
    "start_time": "2022-02-17T16:08:26.210Z"
   },
   {
    "duration": 19,
    "start_time": "2022-02-17T16:08:26.228Z"
   },
   {
    "duration": 4061,
    "start_time": "2022-02-17T16:08:26.249Z"
   },
   {
    "duration": 9,
    "start_time": "2022-02-17T16:08:30.312Z"
   },
   {
    "duration": 55,
    "start_time": "2022-02-17T16:08:30.323Z"
   },
   {
    "duration": 66,
    "start_time": "2022-02-17T16:08:30.380Z"
   },
   {
    "duration": 63,
    "start_time": "2022-02-17T16:08:30.447Z"
   },
   {
    "duration": 13,
    "start_time": "2022-02-17T16:08:30.512Z"
   },
   {
    "duration": 50,
    "start_time": "2022-02-17T16:08:30.527Z"
   },
   {
    "duration": 91,
    "start_time": "2022-02-17T16:08:30.579Z"
   },
   {
    "duration": 172,
    "start_time": "2022-02-17T16:08:30.672Z"
   },
   {
    "duration": 82,
    "start_time": "2022-02-17T16:08:30.845Z"
   },
   {
    "duration": 57,
    "start_time": "2022-02-17T16:08:30.929Z"
   },
   {
    "duration": 50,
    "start_time": "2022-02-17T16:08:30.988Z"
   }
  ],
  "kernelspec": {
   "display_name": "Python 3 (ipykernel)",
   "language": "python",
   "name": "python3"
  },
  "language_info": {
   "codemirror_mode": {
    "name": "ipython",
    "version": 3
   },
   "file_extension": ".py",
   "mimetype": "text/x-python",
   "name": "python",
   "nbconvert_exporter": "python",
   "pygments_lexer": "ipython3",
   "version": "3.9.7"
  },
  "toc": {
   "base_numbering": 1,
   "nav_menu": {
    "height": "317px",
    "width": "620px"
   },
   "number_sections": true,
   "sideBar": true,
   "skip_h1_title": true,
   "title_cell": "Оглавление",
   "title_sidebar": "Contents",
   "toc_cell": true,
   "toc_position": {
    "height": "calc(100% - 180px)",
    "left": "10px",
    "top": "150px",
    "width": "289.6px"
   },
   "toc_section_display": true,
   "toc_window_display": false
  }
 },
 "nbformat": 4,
 "nbformat_minor": 5
}
